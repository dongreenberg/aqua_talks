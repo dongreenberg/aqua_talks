{
 "cells": [
  {
   "cell_type": "markdown",
   "metadata": {
    "slideshow": {
     "slide_type": "slide"
    }
   },
   "source": [
    "# Aqua Update Demos: Chemistry Applications\n",
    "\n",
    "_Dimitar Trenev, Donny Greenberg, 13-Mar-20_"
   ]
  },
  {
   "cell_type": "code",
   "execution_count": 1,
   "metadata": {
    "ExecuteTime": {
     "end_time": "2020-03-13T12:53:08.172480Z",
     "start_time": "2020-03-13T12:53:04.577778Z"
    },
    "scrolled": true
   },
   "outputs": [],
   "source": [
    "from functools import partial\n",
    "\n",
    "import numpy as np\n",
    "import matplotlib.pyplot as plt\n",
    "\n",
    "from chemistry.code.molecule import Molecule\n",
    "from chemistry.code import MGSE\n",
    "# Qiskit components\n",
    "from qiskit.aqua.components.variational_forms import RY\n",
    "from qiskit.chemistry.components.initial_states import HartreeFock\n",
    "from qiskit.aqua import QuantumInstance\n",
    "from qiskit.aqua.algorithms import VQE\n",
    "from qiskit import BasicAer\n",
    "# TODO: ENABLE WHEN AQGD GETS UPDATED IN NEXT RELEASE:\n",
    "#from qiskit.aqua.components.optimizers import AQGD\n",
    "from chemistry.aqgd_epoch import AQGD_EPOCH as AQGD\n",
    "from chemistry.qcalc_functions import get_quantum_instance\n",
    "\n",
    "import chemistry.code.constants as const"
   ]
  },
  {
   "cell_type": "code",
   "execution_count": 2,
   "metadata": {
    "ExecuteTime": {
     "end_time": "2020-03-13T12:53:08.179383Z",
     "start_time": "2020-03-13T12:53:08.174680Z"
    }
   },
   "outputs": [],
   "source": [
    "\"\"\"\n",
    "Build molecule and ansatz, run VQE, get energy, potential,\n",
    "partition function, then thermo\n",
    "\"\"\"\n",
    "\n",
    "m = Molecule(geometry=[['H', [0., 0., 1.]],\n",
    "                       ['H', [0., 0.45, 1.]],\n",
    "                       ],\n",
    "             masses=[1.6735328E-27, 1.6735328E-27],\n",
    "             spins=[1 / 2, 1 / 2],\n",
    "             degrees_of_freedom=[partial(Molecule.absolute_distance, atom_pair=(1, 0))],\n",
    "             tapering=True)"
   ]
  },
  {
   "cell_type": "code",
   "execution_count": 3,
   "metadata": {
    "ExecuteTime": {
     "end_time": "2020-03-13T12:53:20.713925Z",
     "start_time": "2020-03-13T12:53:08.183303Z"
    },
    "scrolled": true
   },
   "outputs": [
    {
     "name": "stdout",
     "output_type": "stream",
     "text": [
      "1\n"
     ]
    },
    {
     "data": {
      "text/html": [
       "<div>\n",
       "<style scoped>\n",
       "    .dataframe tbody tr th:only-of-type {\n",
       "        vertical-align: middle;\n",
       "    }\n",
       "\n",
       "    .dataframe tbody tr th {\n",
       "        vertical-align: top;\n",
       "    }\n",
       "\n",
       "    .dataframe thead th {\n",
       "        text-align: right;\n",
       "    }\n",
       "</style>\n",
       "<table border=\"1\" class=\"dataframe\">\n",
       "  <thead>\n",
       "    <tr style=\"text-align: right;\">\n",
       "      <th></th>\n",
       "      <th>point</th>\n",
       "      <th>energy</th>\n",
       "    </tr>\n",
       "  </thead>\n",
       "  <tbody>\n",
       "    <tr>\n",
       "      <td>0</td>\n",
       "      <td>0.450000</td>\n",
       "      <td>-0.995115</td>\n",
       "    </tr>\n",
       "    <tr>\n",
       "      <td>1</td>\n",
       "      <td>0.689474</td>\n",
       "      <td>-1.135369</td>\n",
       "    </tr>\n",
       "    <tr>\n",
       "      <td>2</td>\n",
       "      <td>0.928947</td>\n",
       "      <td>-1.115313</td>\n",
       "    </tr>\n",
       "    <tr>\n",
       "      <td>3</td>\n",
       "      <td>1.168421</td>\n",
       "      <td>-1.063773</td>\n",
       "    </tr>\n",
       "    <tr>\n",
       "      <td>4</td>\n",
       "      <td>1.407895</td>\n",
       "      <td>-1.013995</td>\n",
       "    </tr>\n",
       "    <tr>\n",
       "      <td>5</td>\n",
       "      <td>1.647368</td>\n",
       "      <td>-0.977430</td>\n",
       "    </tr>\n",
       "    <tr>\n",
       "      <td>6</td>\n",
       "      <td>1.886842</td>\n",
       "      <td>-0.955167</td>\n",
       "    </tr>\n",
       "    <tr>\n",
       "      <td>7</td>\n",
       "      <td>2.126316</td>\n",
       "      <td>-0.943290</td>\n",
       "    </tr>\n",
       "    <tr>\n",
       "      <td>8</td>\n",
       "      <td>2.365789</td>\n",
       "      <td>-0.937447</td>\n",
       "    </tr>\n",
       "    <tr>\n",
       "      <td>9</td>\n",
       "      <td>2.605263</td>\n",
       "      <td>-0.934935</td>\n",
       "    </tr>\n",
       "    <tr>\n",
       "      <td>10</td>\n",
       "      <td>2.844737</td>\n",
       "      <td>-0.933887</td>\n",
       "    </tr>\n",
       "    <tr>\n",
       "      <td>11</td>\n",
       "      <td>3.084211</td>\n",
       "      <td>-0.933453</td>\n",
       "    </tr>\n",
       "    <tr>\n",
       "      <td>12</td>\n",
       "      <td>3.323684</td>\n",
       "      <td>-0.933276</td>\n",
       "    </tr>\n",
       "    <tr>\n",
       "      <td>13</td>\n",
       "      <td>3.563158</td>\n",
       "      <td>-0.933206</td>\n",
       "    </tr>\n",
       "    <tr>\n",
       "      <td>14</td>\n",
       "      <td>3.802632</td>\n",
       "      <td>-0.933179</td>\n",
       "    </tr>\n",
       "    <tr>\n",
       "      <td>15</td>\n",
       "      <td>4.042105</td>\n",
       "      <td>-0.933169</td>\n",
       "    </tr>\n",
       "    <tr>\n",
       "      <td>16</td>\n",
       "      <td>4.281579</td>\n",
       "      <td>-0.933166</td>\n",
       "    </tr>\n",
       "    <tr>\n",
       "      <td>17</td>\n",
       "      <td>4.521053</td>\n",
       "      <td>-0.933164</td>\n",
       "    </tr>\n",
       "    <tr>\n",
       "      <td>18</td>\n",
       "      <td>4.760526</td>\n",
       "      <td>-0.933164</td>\n",
       "    </tr>\n",
       "    <tr>\n",
       "      <td>19</td>\n",
       "      <td>5.000000</td>\n",
       "      <td>-0.933164</td>\n",
       "    </tr>\n",
       "  </tbody>\n",
       "</table>\n",
       "</div>"
      ],
      "text/plain": [
       "       point    energy\n",
       "0   0.450000 -0.995115\n",
       "1   0.689474 -1.135369\n",
       "2   0.928947 -1.115313\n",
       "3   1.168421 -1.063773\n",
       "4   1.407895 -1.013995\n",
       "5   1.647368 -0.977430\n",
       "6   1.886842 -0.955167\n",
       "7   2.126316 -0.943290\n",
       "8   2.365789 -0.937447\n",
       "9   2.605263 -0.934935\n",
       "10  2.844737 -0.933887\n",
       "11  3.084211 -0.933453\n",
       "12  3.323684 -0.933276\n",
       "13  3.563158 -0.933206\n",
       "14  3.802632 -0.933179\n",
       "15  4.042105 -0.933169\n",
       "16  4.281579 -0.933166\n",
       "17  4.521053 -0.933164\n",
       "18  4.760526 -0.933164\n",
       "19  5.000000 -0.933164"
      ]
     },
     "execution_count": 3,
     "metadata": {},
     "output_type": "execute_result"
    }
   ],
   "source": [
    "# Analytic Quantum Gradient Descent (AQGD) (with Epochs)\n",
    "aqgd_max_iter = [10] + [1] * 100\n",
    "aqgd_eta = [1e0] + [1.0 / k for k in range(1, 101)]\n",
    "aqgd_momentum = [0.5] + [0.5] * 100\n",
    "optimizer = AQGD(maxiter=aqgd_max_iter, eta=aqgd_eta, momentum=aqgd_momentum, tol=1e-3, averaging=4)\n",
    "\n",
    "# Min Eigensolver: VQE\n",
    "min_eigensolver = VQE(var_form=RY(m.num_qubits, depth=1, initial_state=HartreeFock(m)), \n",
    "                      optimizer=optimizer)\n",
    "\n",
    "# BOPES sampler\n",
    "bs = MGSE(molecule=m,\n",
    "          min_eigensolver=min_eigensolver,\n",
    "          backend=QuantumInstance(BasicAer.get_backend('statevector_simulator')))\n",
    "\n",
    "points = np.linspace(0.45, 5, 20)\n",
    "results = bs.run(points, reps=1)\n",
    "results"
   ]
  },
  {
   "cell_type": "code",
   "execution_count": 9,
   "metadata": {
    "ExecuteTime": {
     "end_time": "2020-03-13T13:55:47.693971Z",
     "start_time": "2020-03-13T13:55:47.366635Z"
    }
   },
   "outputs": [
    {
     "data": {
      "text/plain": [
       "<matplotlib.axes._subplots.AxesSubplot at 0x1a3285ae90>"
      ]
     },
     "execution_count": 9,
     "metadata": {},
     "output_type": "execute_result"
    },
    {
     "data": {
      "image/png": "[encoded data removed]",
      "text/plain": [
       "<Figure size 432x288 with 1 Axes>"
      ]
     },
     "metadata": {
      "needs_background": "light"
     },
     "output_type": "display_data"
    }
   ],
   "source": [
    "results.plot(x='point')"
   ]
  },
  {
   "cell_type": "code",
   "execution_count": 4,
   "metadata": {
    "ExecuteTime": {
     "end_time": "2020-03-13T12:53:21.173254Z",
     "start_time": "2020-03-13T12:53:20.716659Z"
    }
   },
   "outputs": [
    {
     "data": {
      "image/png": "[encoded data removed]",
      "text/plain": [
       "<Figure size 432x288 with 1 Axes>"
      ]
     },
     "metadata": {
      "needs_background": "light"
     },
     "output_type": "display_data"
    }
   ],
   "source": [
    "# Thermodynamic calculations follow.\n",
    "# Note: They only depend on the result of the run and could just\n",
    "#       as easily be intiated with 'results' read from the .csv file.\n",
    "\n",
    "# 1. Fit a \"full\" energy surface using a (Morse) 1D potential.\n",
    "from chemistry.code.morse_potential import MorsePotential\n",
    "pes = MorsePotential(m)\n",
    "\n",
    "#Note that the 1D potentials (Harmonic/Morse) have both\n",
    "#   \"energy surface\" and \"vibronic structure\" functionality as\n",
    "#   they inherit (and implement) both EnergySurfaceBase and\n",
    "#   VibronicStructureBase classes, so (for illustrational purposes here)\n",
    "#   we'll keep two separate references to the potential object.\n",
    "energy_surface = pes\n",
    "vibronic_structure = pes\n",
    "\n",
    "xdata = results['point']\n",
    "ydata = results['energy']\n",
    "energy_surface.fitToData(xdata, ydata)\n",
    "\n",
    "#1a. Plot the full (fitted) energy surface\n",
    "plt.plot(xdata, ydata, 'kx')\n",
    "x = np.arange(min(xdata) - 0.25, max(xdata) + 0.25, 0.05)\n",
    "plt.plot(x, pes.eval(x), 'r-')\n",
    "plt.xlabel(r'distance, $\\AA$')\n",
    "plt.ylabel('energy, Hartree')\n",
    "dist = max(ydata) - min(ydata)\n",
    "plt.ylim(min(ydata) - 0.1 * dist, max(ydata) + 0.1 * dist)\n",
    "\n",
    "#1b. Plot the vibrational energy levels on the same figure.\n",
    "for N in range(15):\n",
    "    on = np.ones(x.shape)\n",
    "    on *= (energy_surface.eval(energy_surface.getEquilibriumGeometry()) +\n",
    "           vibronic_structure.vibrationalEnergyLevel(N))\n",
    "    plt.plot(x, on, 'g:')\n",
    "on = np.ones(x.shape)\n",
    "\n",
    "#1c. Finally plot the dissociation limit of the system.\n",
    "#    To that end we add the dissociation energy to the zero-point energy.\n",
    "zeroPointEnergy = vibronic_structure.vibrationalEnergyLevel(0)\n",
    "dissociationLimit = zeroPointEnergy + pes.dissociationEnergy()\n",
    "on = np.ones(x.shape)\n",
    "on *= (energy_surface.eval(energy_surface.getEquilibriumGeometry())\n",
    "       +dissociationLimit)\n",
    "plt.plot(x, on, 'b')\n",
    "\n",
    "plt.show()"
   ]
  },
  {
   "cell_type": "code",
   "execution_count": 5,
   "metadata": {
    "ExecuteTime": {
     "end_time": "2020-03-13T12:53:21.336342Z",
     "start_time": "2020-03-13T12:53:21.175715Z"
    }
   },
   "outputs": [
    {
     "data": {
      "image/png": "[encoded data removed]",
      "text/plain": [
       "<Figure size 432x288 with 1 Axes>"
      ]
     },
     "metadata": {
      "needs_background": "light"
     },
     "output_type": "display_data"
    }
   ],
   "source": [
    "# 2. Create a partition function\n",
    "from chemistry.code.partition_function import DiatomicPartitionFunction\n",
    "Q = DiatomicPartitionFunction(m, pes)\n",
    "\n",
    "P = 101350  # Pa\n",
    "temps = np.arange(10, 1050, 5)  # K\n",
    "\n",
    "# 2a. Calculate Cp heat capacity\n",
    "# Here we illustrate the simplest usage of the partition function,\n",
    "# namely creating a Thermodynamics object to compute properties like\n",
    "# the constant pressure heat capacity\n",
    "from chemistry.code.thermodynamics import Thermodynamics\n",
    "td = Thermodynamics(Q)\n",
    "td.setPressure(P)\n",
    "\n",
    "ymin = 5\n",
    "ymax = 11\n",
    "plt.plot(temps,\n",
    "         td.ConstantPressureHeatCapacity(temps) / const.CAL_TO_J)\n",
    "plt.xlim(0, 1025)\n",
    "plt.ylim(ymin, ymax)\n",
    "plt.xlabel('Temperature, K')\n",
    "plt.ylabel('Cp, cal mol$^{-1}$ K$^{-1}$')\n",
    "plt.show()"
   ]
  },
  {
   "cell_type": "code",
   "execution_count": 6,
   "metadata": {
    "ExecuteTime": {
     "end_time": "2020-03-13T12:53:21.341632Z",
     "start_time": "2020-03-13T12:53:21.338292Z"
    }
   },
   "outputs": [],
   "source": [
    "# 2b. Here we demonstrate how to access particular components\n",
    "#   (the rotational part) of the partition function, which in the\n",
    "#   H2 case we can further split to para-hydrogen and ortho-hydrogen\n",
    "#   components.\n",
    "eq = Q.getPartition(part=\"rot\", split=\"eq\")\n",
    "para = Q.getPartition(part=\"rot\", split=\"para\")\n",
    "ortho = Q.getPartition(part=\"rot\", split=\"ortho\")"
   ]
  },
  {
   "cell_type": "code",
   "execution_count": 7,
   "metadata": {
    "ExecuteTime": {
     "end_time": "2020-03-13T12:53:21.574368Z",
     "start_time": "2020-03-13T12:53:21.343428Z"
    }
   },
   "outputs": [
    {
     "data": {
      "image/png": "[encoded data removed]",
      "text/plain": [
       "<Figure size 432x288 with 1 Axes>"
      ]
     },
     "metadata": {
      "needs_background": "light"
     },
     "output_type": "display_data"
    }
   ],
   "source": [
    "# 2c. We will now plot the constant volume heat capacity (of the\n",
    "#   rotational part) demonstrating how we can call directly\n",
    "#   the functions in the 'thermodynamics' module, providing a\n",
    "#   callable object for the partition function (or in this case\n",
    "#   its rotational component).\n",
    "from chemistry.code.thermodynamics import ConstantVolumeHeatCapacity\n",
    "HeatCapacity = ConstantVolumeHeatCapacity\n",
    "\n",
    "# We will normalize the plot dividing by the universal gas\n",
    "#   constant R (Avogadro's number times Boltzman's constant).\n",
    "R = const.N_A * const.KB_J_PER_K\n",
    "plt.plot(temps,\n",
    "    HeatCapacity(eq, temps) / R, '-k',\n",
    "         label='Cv_rot Equilibrium')\n",
    "plt.plot(temps, HeatCapacity(para, temps) / R, '-b',\n",
    "         label='Cv_rot Para')\n",
    "plt.plot(temps, HeatCapacity(ortho, temps) / R, '-r',\n",
    "         label='Cv_rot Ortho')\n",
    "plt.plot(temps, 0.25 * HeatCapacity(para, temps) / R\n",
    "                + 0.75 * HeatCapacity(ortho, temps) / R, '-g',\n",
    "                label='Cv_rot 1:3 para:ortho')\n",
    "plt.legend(loc='upper right', framealpha=100, frameon=False)\n",
    "plt.xlim(10, 300)\n",
    "plt.ylim(-0.1, 2.8)\n",
    "plt.xlabel('Temperature, K')\n",
    "plt.ylabel('Cv (rotational)/R')\n",
    "plt.tight_layout()\n",
    "plt.show()"
   ]
  }
 ],
 "metadata": {
  "celltoolbar": "Slideshow",
  "kernelspec": {
   "display_name": "code",
   "language": "python",
   "name": "code"
  },
  "language_info": {
   "codemirror_mode": {
    "name": "ipython",
    "version": 3
   },
   "file_extension": ".py",
   "mimetype": "text/x-python",
   "name": "python",
   "nbconvert_exporter": "python",
   "pygments_lexer": "ipython3",
   "version": "3.7.4"
  },
  "toc": {
   "base_numbering": 1,
   "nav_menu": {},
   "number_sections": false,
   "sideBar": true,
   "skip_h1_title": true,
   "title_cell": "Table of Contents",
   "title_sidebar": "Contents",
   "toc_cell": false,
   "toc_position": {},
   "toc_section_display": true,
   "toc_window_display": false
  }
 },
 "nbformat": 4,
 "nbformat_minor": 2
}
