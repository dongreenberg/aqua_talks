{
 "cells": [
  {
   "cell_type": "markdown",
   "metadata": {
    "slideshow": {
     "slide_type": "slide"
    }
   },
   "source": [
    "# Aqua 0.7 Update: Process and Design Progress\n",
    "\n",
    "_donny@, 29-Jan-20_"
   ]
  },
  {
   "cell_type": "markdown",
   "metadata": {
    "slideshow": {
     "slide_type": "slide"
    }
   },
   "source": [
    "# Organizational Progress: Standup and Challenges\n",
    "\n",
    "The development team has a weekly meeting on Wednesday to circle up on prioritized projects, discuss development topics, and round robin on current work and projects (\"last week / next week\"). In the past, there was ambiguity between things that needed to be checked in on in standup and research contributions which had uncertain timelines, and often researchers did not need to participate in core development discussions. We've clarified this as follows:\n",
    "1. We now have two challenges. Anyone joining the challenges will attend the regular meetings and be in the dev slack channels. Anyone interested should join, and we will work with you to define a project for the cycle.\n",
    "    1. [#2484 Aqua Core - Quantum Algorithmic Programming Power in Qiskit](https://aichallenges.sl.cloud9.ibm.com/challenges/2484)\n",
    "    1. [#2485 Aqua Applications - Powerful Quantum Applications Programming Stacks in Qiskit](https://aichallenges.sl.cloud9.ibm.com/challenges/2485)\n",
    "1. Any research contributions (e.g. people assigned to research challenges but *not* the Aqua challenges) will be decoupled from the dev cycle, and do not need to be checked in on for release or in weeklies. The Aqua team still attend the research meetings to advise, contribute, or keep in the loop of these efforts.\n",
    "    1. Input is still more than welcome and badly needed, and we will continue to actively survey research users for release priorities and design preferences.\n",
    "\n",
    "Note, announcements and user discussion is now in the #qiskit-aqua channel. Please make sure your teams are in this channel!"
   ]
  },
  {
   "cell_type": "markdown",
   "metadata": {
    "slideshow": {
     "slide_type": "slide"
    }
   },
   "source": [
    "# Organizational Progress: Design Review and Design Docs\n",
    "\n",
    "To more thoroughly document and socialize decisions, we've instituted design docs (now in [Qiksit/rfcs](https://github.com/Qiskit/rfcs)) and design review for large projects. This takes more time, but is well worth it.\n",
    "\n",
    "Rules of design review:\n",
    "* Attendees must read the design doc ahead of time to participate in the discussion. If they do not, they are choosing to be a listener only. The discussion will begin with each attendee sharing whether they've read the RfC, and their high-level impressions and/or concerns (about 2 minutes each).\n",
    "* Author(s) will then spend 15-20 minutes talking about their intentions with the doc and the open questions they need answered by the review participants.\n",
    "* Finally, each participant will give a recommendation:\n",
    "    * Approve - begin implementation\n",
    "    * Conditionally approve - Begin implementation once some small questions are answered offline\n",
    "    * Rereview - review again after more information is collected before implementing\n",
    "    * Downscope - Revise the project's scope or direction and rereview before implementing"
   ]
  },
  {
   "cell_type": "markdown",
   "metadata": {
    "slideshow": {
     "slide_type": "slide"
    }
   },
   "source": [
    "# Review: Priorities for Aqua 0.7\n",
    "\n",
    "Now live [here](https://github.com/Qiskit/rfcs/blob/master/0002-Aqua_0.7_release_priorities_and_plan.md) in Qiskit/rfcs.\n",
    "\n",
    "Reminder: Planned release March 17."
   ]
  },
  {
   "cell_type": "markdown",
   "metadata": {
    "slideshow": {
     "slide_type": "slide"
    }
   },
   "source": [
    "# Progress: JSON Removal - DONE\n",
    "\n",
    "* Completed in early Jan by Manoel. \n",
    "* If you've updated since December, you should now see deprecation messages.\n",
    "* Logic and config dictionaries have been removed from master.\n",
    "* Added bonus, we now have typehints across Aqua."
   ]
  },
  {
   "cell_type": "markdown",
   "metadata": {
    "slideshow": {
     "slide_type": "slide"
    }
   },
   "source": [
    "# Progress: [Ansatz Redesign](https://github.com/Qiskit/rfcs/pull/5)\n",
    "\n",
    "Julien has completed the Ansatz design doc and review, introducing the following with full backward compatibility:\n",
    "1. Modules for building ansatze with arbitrary single qubit and entangling gates (and really, arbitrary gates in general!)\n",
    "1. Modules for building Operator evolution ansatze\n",
    "    1. This also simplifies the relationship between QAOA, UCCSD, TASP, and ADAPT\n",
    "1. Gluing any Ansatze together - e.g. Ry + Evolution + Ry, as used in the EOM work\n",
    "1. Using a user-constructed parameterized circuit with variational algorithms, without needing to wrap in an Ansatz object for compatibility\n",
    "1. Unifying with FeatureMap!\n",
    "\n",
    "This work is now being implemented, and will likely be fully implemented in 0.7."
   ]
  },
  {
   "cell_type": "markdown",
   "metadata": {
    "slideshow": {
     "slide_type": "slide"
    }
   },
   "source": [
    "# Progress: [Operator Redesign](https://github.com/Qiskit/rfcs/pull/8)\n",
    "\n",
    "We've just completed design review for an Operator redesign, including the following:\n",
    "1. Break out Expectation and Evolution algorithms into their own hierarchies\n",
    "    1. Allows ease of use, clarity, and extension\n",
    "    1. Can now easily introduce new algorithms for Evolution (LinearCombination, SwapNetworks) and Expectation (CVaR, Richardson)\n",
    "    1. AerExpectation algorithm\n",
    "1. Syntactic sugar for constructing and manipulating diverse Operators\n",
    "1. Allows extension to new classes of Operators - e.g. Using Circuits as Operators\n",
    "1. Linear combinations of circuits are now first-class primitives\n",
    "1. Cleaner interaction with Terra\n",
    "\n",
    "This work is now being implemented. The 0.7 items have been detailed in the design doc."
   ]
  },
  {
   "cell_type": "markdown",
   "metadata": {
    "slideshow": {
     "slide_type": "slide"
    }
   },
   "source": [
    "#### New Operator Algorithms Example (Tentative!):"
   ]
  },
  {
   "cell_type": "code",
   "execution_count": null,
   "metadata": {
    "ExecuteTime": {
     "end_time": "2020-01-29T15:53:54.695473Z",
     "start_time": "2020-01-29T15:53:52.137985Z"
    },
    "slideshow": {
     "slide_type": "-"
    }
   },
   "outputs": [],
   "source": [
    "from qiskit.aqua.operators import X, Y, Z, I\n",
    "\n",
    "ansatz = Ry(qubits=2, depth=3)\n",
    "hamiltonian = 3*(I^Z) + .4j*(X^Z)\n",
    "expectation = PauliExpectation(ansatz, hamiltonian, backend)\n",
    "print(expectation.run({ansatz.params: np.zeroes(len(ansatz.params))})) \n",
    "    # Print starting expectation\n",
    "\n",
    "gradient = ParamShiftGradient(expectation)\n",
    "minparams, minobj, it = AQGD().optimize(num_vars=len(ansatz.params), \n",
    "                                        objective_function=expectation.run, \n",
    "                                        grad_function=gradient.run)\n"
   ]
  },
  {
   "cell_type": "markdown",
   "metadata": {
    "slideshow": {
     "slide_type": "slide"
    }
   },
   "source": [
    "# In Progress: Much More Design\n",
    "\n",
    "#### Core\n",
    "* QuantumAlgorithm interface and hierarchy (Pending review)\n",
    "    * Likely fully implemented in 0.7\n",
    "* Circuit reconciliation with Terra (Implementation)\n",
    "    * Likely fully implemented in 0.7\n",
    "* Documentation Pipeline - Being worked on by Steve, likely complete for 0.7 (pending Qiskit-wide documentation processes).\n",
    "* Error Mitigation\n",
    "    * Design in progress with Daniel Egger, Sarah, and a future intern (George Barron)"
   ]
  },
  {
   "cell_type": "markdown",
   "metadata": {
    "slideshow": {
     "slide_type": "slide"
    }
   },
   "source": [
    "#### AppStacks\n",
    "* Chemistry - Design complete in 0.7, with some new objects implemented\n",
    "    * Electronic Structure - Compute electronic structure given fixed geometry\n",
    "    * Vibronic Structure - Compute vibrational modes given BOPES\n",
    "    * Thermodynamics - Compute partition functions and thermodynamic observables from vibronic structure\n",
    "    * Molecular Dynamics\n",
    "* Physics - Design complete in 0.7, with some new objects implemented\n",
    "* Optimization - Design drafted, pending review. Likely fully implemented in 0.7\n",
    "* Finance - Design drafted, pending review. Likely fully implemented in 0.7\n",
    "* Machine learning - Design in progress, complete in 0.7, with some new objects implemented"
   ]
  },
  {
   "cell_type": "markdown",
   "metadata": {
    "slideshow": {
     "slide_type": "slide"
    }
   },
   "source": [
    "# How You Can Get Involved\n",
    "\n",
    "* If you want to carve out a project - reach out!\n",
    "* If you want to contribute your research to Aqua - reach out!\n",
    "* If you want to give input about interfaces or design - comment on RfCs or reach out!\n",
    "* If you have a crazy idea - reach out!"
   ]
  }
 ],
 "metadata": {
  "celltoolbar": "Slideshow",
  "kernelspec": {
   "display_name": "code",
   "language": "python",
   "name": "code"
  },
  "language_info": {
   "codemirror_mode": {
    "name": "ipython",
    "version": 3
   },
   "file_extension": ".py",
   "mimetype": "text/x-python",
   "name": "python",
   "nbconvert_exporter": "python",
   "pygments_lexer": "ipython3",
   "version": "3.7.4"
  },
  "toc": {
   "base_numbering": 1,
   "nav_menu": {},
   "number_sections": false,
   "sideBar": true,
   "skip_h1_title": true,
   "title_cell": "Table of Contents",
   "title_sidebar": "Contents",
   "toc_cell": false,
   "toc_position": {},
   "toc_section_display": true,
   "toc_window_display": false
  }
 },
 "nbformat": 4,
 "nbformat_minor": 2
}
