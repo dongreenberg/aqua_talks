{
 "cells": [
  {
   "cell_type": "markdown",
   "metadata": {
    "slideshow": {
     "slide_type": "slide"
    }
   },
   "source": [
    "# Understanding Aqua's Operator Flow\n",
    "\n",
    "_donny@, 30-Apr-20_\n",
    "\n",
    "<h2>Table of Contents<span class=\"tocSkip\"></span></h2>\n",
    "<div class=\"toc\"><ul class=\"toc-item\"><li><span><a href=\"#Overview\" data-toc-modified-id=\"Overview-1\"><span class=\"toc-item-num\">1&nbsp;&nbsp;</span>Overview</a></span><ul class=\"toc-item\"><li><span><a href=\"#Basic-Design-Principles\" data-toc-modified-id=\"Basic-Design-Principles-1.1\"><span class=\"toc-item-num\">1.1&nbsp;&nbsp;</span>Basic Design Principles</a></span></li><li><span><a href=\"#Basic-Definitions\" data-toc-modified-id=\"Basic-Definitions-1.2\"><span class=\"toc-item-num\">1.2&nbsp;&nbsp;</span>Basic Definitions</a></span><ul class=\"toc-item\"><li><span><a href=\"#Chaining-vs.-Composition\" data-toc-modified-id=\"Chaining-vs.-Composition-1.2.1\"><span class=\"toc-item-num\">1.2.1&nbsp;&nbsp;</span>Chaining vs. Composition</a></span></li></ul></li><li><span><a href=\"#Object-Structure\" data-toc-modified-id=\"Object-Structure-1.3\"><span class=\"toc-item-num\">1.3&nbsp;&nbsp;</span>Object Structure</a></span></li><li><span><a href=\"#Motivating-Example\" data-toc-modified-id=\"Motivating-Example-1.4\"><span class=\"toc-item-num\">1.4&nbsp;&nbsp;</span>Motivating Example</a></span></li></ul></li><li><span><a href=\"#Part-I:-State-Functions-and-Measurements\" data-toc-modified-id=\"Part-I:-State-Functions-and-Measurements-2\"><span class=\"toc-item-num\">2&nbsp;&nbsp;</span>Part I: State Functions and Measurements</a></span></li><li><span><a href=\"#Part-II:-PrimitiveOps\" data-toc-modified-id=\"Part-II:-PrimitiveOps-3\"><span class=\"toc-item-num\">3&nbsp;&nbsp;</span>Part II: PrimitiveOps</a></span></li><li><span><a href=\"#Part-III:-ListOps\" data-toc-modified-id=\"Part-III:-ListOps-4\"><span class=\"toc-item-num\">4&nbsp;&nbsp;</span>Part III: ListOps</a></span><ul class=\"toc-item\"><li><ul class=\"toc-item\"><li><span><a href=\"#Hierarchical-ListOps\" data-toc-modified-id=\"Hierarchical-ListOps-4.0.1\"><span class=\"toc-item-num\">4.0.1&nbsp;&nbsp;</span>Hierarchical ListOps</a></span></li></ul></li></ul></li><li><span><a href=\"#Part-IV:-Converters\" data-toc-modified-id=\"Part-IV:-Converters-5\"><span class=\"toc-item-num\">5&nbsp;&nbsp;</span>Part IV: Converters</a></span><ul class=\"toc-item\"><li><span><a href=\"#Evolutons,-exp_i()-and-the-EvolvedOp\" data-toc-modified-id=\"Evolutons,-exp_i()-and-the-EvolvedOp-5.1\"><span class=\"toc-item-num\">5.1&nbsp;&nbsp;</span>Evolutons, <code>exp_i()</code> and the <code>EvolvedOp</code></a></span></li><li><span><a href=\"#Expectations-for-Converting-Non-diagonal-Measurements\" data-toc-modified-id=\"Expectations-for-Converting-Non-diagonal-Measurements-5.2\"><span class=\"toc-item-num\">5.2&nbsp;&nbsp;</span>Expectations for Converting Non-diagonal Measurements</a></span></li><li><span><a href=\"#Executing-CircuitStateFns-with-the-CircuitSampler\" data-toc-modified-id=\"Executing-CircuitStateFns-with-the-CircuitSampler-5.3\"><span class=\"toc-item-num\">5.3&nbsp;&nbsp;</span>Executing <code>CircuitStateFn</code>s with the CircuitSampler</a></span></li></ul></li></ul></div>"
   ]
  },
  {
   "cell_type": "markdown",
   "metadata": {},
   "source": [
    "## Overview\n",
    "\n",
    "A library for Quantum Algorithms & Applications is more than a collection of procedural code wrapped in Python functions. It needs to provide tools to make writing algorithms simple and easy. This is the layer of modules between the circuits and algorithms, providing the language and computational primitives for Quantum algorithms research.\n",
    "\n",
    "In Aqua, we call this layer the Operator flow. It works by unifying computation with theory through the common language of functions and operators in a way which preserves physical intuition and programming freedom. In the Operator flow, we construct functions over binary variables, manipulate those functions with operators, and evaluate properties of these functions with measurements. \n",
    "\n",
    "Below, we'll describe the key players in the Operator flow, and show some examples of how they can be used to construct some familiar quantum algorithms. This notebook assumes a basic familiarity with Quantum Algorithms.\n",
    "\n",
    "**Note: The Operator flow is a large and self-referential system. Do not worry if you don't immediately feel comfortable with all of its moving parts - like any system of abstractions, it can take time and play to feel comfortable. We feel that this is a worthwhile investment, as once you begin to feel comfortable with the system, algorithm development is super fast and easy.**"
   ]
  },
  {
   "cell_type": "markdown",
   "metadata": {},
   "source": [
    "### Basic Design Principles\n",
    "\n",
    "* *Batteries Included* - We prioritize quick and easy access to the tools you're most likely to reach for when prototyping.\n",
    "\n",
    "* *Physically Formal* - The Operator flow was built to be mathematically formal down to its very bottom primitives, so that it may serve as a lingua franca between the theory and implementation of Quantum algorithms.\n",
    "\n",
    "* *Powerful OR Readable* - We've tried to let any operation be as succinct or verbose as you want it to be, including both rich syntactic sugar and long-form interfaces.\n",
    "\n",
    "* *Fast by Default* - We use thoughtfully selected defaults so that algorithms run as fast as possible at many scales, and so you only need to toggle the settings you care about. We want you to be able to trust that we're running your problem as fast as we can, and if you find a way to run it faster, you should [let us know!](https://github.com/Qiskit/qiskit-aqua/issues)"
   ]
  },
  {
   "cell_type": "markdown",
   "metadata": {},
   "source": [
    "### Basic Definitions\n",
    "\n",
    "Before getting into the details of the code, it's important to note that three mathematical concepts unpin the Operator flow. We derive most of the inspiration for the code structure from [John Watrous's Quantum Information formalism](https://cs.uwaterloo.ca/~watrous/TQI/) (but do not follow it exactly), so it may be worthwhile to review Chapters I and II, which are free online, if you feel the concepts are not clicking.\n",
    "\n",
    "1. **\"State functions\"** - An $n$-qubit State function is a complex function over $n$ binary variables, which we will often refer to as _$n$-qubit binary strings_. For example, the traditional quantum \"zero state\" is a 1-qubit state function, with a definition of $Zero(0) = 1$ and $Zero(1) = 0$. It is often convenient to think about State functions as traditional kets (i.e. $Zero = |0\\rangle$), but be warned, **State functions need not be normalized.** They are just functions.\n",
    "\n",
    "1. **\"Operators\"** - An $n$-qubit Operator is a linear function taking $n$-qubit state functions to $n$-qubit state functions. For example, the Pauli X Operator is defined by $X(Zero) = One$ and $X(One) = Zero$. Therefore, $X(Zero)(0) = 0$. Equivalently, an Operator can be defined as a complex function over two n-qubit binary strings, and it is sometimes convenient to picture things this way. By this definition, our Pauli $X$ can be defined by its typical matrix elements, $X(0, 0) = 0$, $X(1, 0) = 1$, $X(0, 1) = 1$, $X(1, 1) = 0$. In the Operator flow, our Operators are all binary, square Operators (for now).\n",
    "\n",
    "1. **\"Measurements\"** - An $n-qubit Measurement$ is a functional taking n-qubit State functions to complex values. For example, a Pauli Z Measurement can be defined by $Z_{meas}(Zero) = 1$ and $Z_{meas}(One) = -1$. Measurements are simply adjoints of State Functions, and can be imagined by quantum mechanics' _bra_ notation (i.e. $Zero_{meas} = Zero^{\\dagger} = \\langle 0|$). In thinking of Measurements as adjoints of State functions, note that $Z_{meas}$ above is equivalent to $1 - 2*(\\langle Zero| + \\langle One|)$.\n",
    "\n",
    "**Throughout this tutorial, we will refer to the mathematical function (of type 1-3 above) that a Python Object represents as that Object's *characteristic function*.**\n",
    "\n",
    "#### Chaining vs. Composition\n",
    "Note that a chained expression of the functions above can be written in two ways:\n",
    "* As function chaining: $Z(X(Zero))(0) = 0$\n",
    "* As function composition: $Zero_{meas} \\circ Z \\circ X \\circ Zero = 0$\n",
    "\n",
    "In the Operator flow, chaining is used via the `.eval()` method, while composition is used via `.compose()` or `@` (more on this below)."
   ]
  },
  {
   "cell_type": "markdown",
   "metadata": {},
   "source": [
    "### Object Structure\n",
    "\n",
    "The Operator flow includes two primary groups of actors: \n",
    "* Operators, objects which represent functions or functionals, all deriving from `OperatorBase`: \n",
    "    * `PrimitiveOp`s - Basic Operator building blocks, whose behavior are defined by some internal computational primitive from Terra, such as a Terra's `Pauli` (`PauliOp`), `Operator` (`MatrixOp`), or `QuantumCircuit` (`CircuitOp`).\n",
    "    * `StateFn`s - A class for representing both State functions and Measurements, the behavior of which is defined by some internal primitive, e.g. a simple dict (`DictStateFn`), Terra's `Statevector` (`VectorStateFn`), a `QuantumCircuit` (`CircuitStateFn`), or an OperatorBase representing a density operator (`OperatorStateFn`).\n",
    "    * `ListOp`s - Classes for representing composite Operators, State functions, and Measurements constructed from expressions of others, such as addition (`SummedOp`), composition (`ComposedOp`), tensor product (`TensoredOp`), and concatination into a list (`ListOp`).\n",
    "    * `EvolvedOp` - A special case of a `PrimitiveOp` holding an `Operatorbase` as its primitive, serving as a placeholder for an evolution algorithm to convert later into an Operator approximating the exponentiation of the `OperatorBase`.\n",
    "* Converters, objects which manipulate Operators, all deriving from `ConverterBase`:\n",
    "    * `Expectation`s - Traverse over an Operator and replace OperatorStateFn measurements into Z-basis or matrix measurements approximating the expectation value of the measurement.\n",
    "    * `Evolution`s - Traverse over an Operator and replace `EvolvedOp`s with circuits approximating the evolution.\n",
    "    * `CircuitSampler` - Traverse over an Operator and replace `CircuitStateFn`s with `DictStateFn`s approximating them, perhaps sampled from a quantum device.\n",
    "    * Other converters, e.g. `AbelianGrouper`, `PauliBasisChange`\n",
    "    \n",
    "Don't worry if this seems like a whirlwind. We'll discuss each of these in detail in the next section, and you can also find more detail in the [Operator flow API reference](https://qiskit.org/documentation/apidoc/qiskit.aqua.operators.html#module-qiskit.aqua.operators)."
   ]
  },
  {
   "cell_type": "markdown",
   "metadata": {},
   "source": [
    "### Motivating Example\n",
    "\n",
    "Below, we'll show some basic code to highlight the power of the Operator flow. The code is simple - we'll evolve a Bell state by an H2 Hamiltonian using a simple Trotter expansion and measure the energy expectation value of the Hamiltonian at various evolution times. You are obviously not expected to understand it, but inspect it to gain some context and see how it simplifies otherwise complex constructions. Also note that this is a slightly verbose form of this flow for instruction's sake.\n",
    "\n",
    "In the Converters section of this notebook, we'll walk through the example in more detail."
   ]
  },
  {
   "cell_type": "code",
   "execution_count": 1,
   "metadata": {
    "ExecuteTime": {
     "end_time": "2020-05-13T07:54:53.606150Z",
     "start_time": "2020-05-13T07:54:49.617830Z"
    }
   },
   "outputs": [
    {
     "name": "stdout",
     "output_type": "stream",
     "text": [
      "Sampled Trotterized energies:\n",
      " [-1.05590701 -1.03717781 -1.03293723 -1.04530558 -1.05873406 -1.07781665\n",
      " -1.09053837 -1.08947823  0.38514937  0.39247484  0.38017148  0.39411741\n",
      "  0.38275161  0.37542002  0.28899421  0.17760919]\n"
     ]
    }
   ],
   "source": [
    "from qiskit import BasicAer\n",
    "from qiskit.circuit import Parameter\n",
    "from qiskit.aqua.operators import *\n",
    "import numpy as np\n",
    "\n",
    "two_qubit_H2 =  (-1.0523732 * I^I) + \\\n",
    "                (0.39793742 * I^Z) + \\\n",
    "                (-0.3979374 * Z^I) + \\\n",
    "                (-0.0112801 * Z^Z) + \\\n",
    "                (0.18093119 * X^X)\n",
    "\n",
    "bell = CX @ (Plus^Zero)\n",
    "evo_time = Parameter('θ')\n",
    "evolution_op = (evo_time*two_qubit_H2).exp_i()\n",
    "h2_measurement = StateFn(two_qubit_H2).adjoint()\n",
    "evo_and_meas = h2_measurement @ evolution_op @ bell\n",
    "\n",
    "trotterized_op = PauliTrotterEvolution(trotter_mode=Suzuki()).convert(evo_and_meas)\n",
    "diagonalized_meas_op = PauliExpectation().convert(trotterized_op)\n",
    "evo_time_points = list(range(8))\n",
    "h2_trotter_expectations = diagonalized_meas_op.bind_parameters({evo_time: evo_time_points})\n",
    "\n",
    "# Energies by Trotter expansion and sampled measurement\n",
    "sampler = CircuitSampler(backend=BasicAer.get_backend('qasm_simulator'))\n",
    "sampled_trotter_exp_op = sampler.convert(h2_trotter_expectations)\n",
    "sampled_trotter_energies = sampled_trotter_exp_op.eval()\n",
    "print('Sampled Trotterized energies:\\n {}'.format(np.real(sampled_trotter_energies)))"
   ]
  },
  {
   "cell_type": "markdown",
   "metadata": {
    "slideshow": {
     "slide_type": "slide"
    }
   },
   "source": [
    "## Part I: State Functions and Measurements\n",
    "\n",
    "The most basic unit of computation in the Operator flow is the state function, abbreviated as `StateFn`, a simple complex function over binary variables. There are several `StateFn` instances built in for convenience, `Zero, One, Plus, Minus`, and four ways a `StateFn` can be defined, `DictStateFn, VectorStateFn, CircuitStateFn, OperatorStateFn`.\n",
    "\n",
    "Every `StateFn` has three properties:\n",
    "* `primitive` - The data structure defining the underlying function's behavior. For `DictStateFn`, this object is a `dict`, etc.\n",
    "* `coeff` - A coefficient multiplying the characteristic function, i.e. `StateFn(my_primitive, coeff=3) == StateFn(my_primitive) * 3`. Note that `coeff` can be int, float, complex or a free `Parameter` object (from `qiskit.circuit` in Terra) to be bound later.\n",
    "* `is_measurement` - Whether this `StateFn` is a state function or a measurement (remember, a measurement is just the adjoint of a state function)."
   ]
  },
  {
   "cell_type": "code",
   "execution_count": 2,
   "metadata": {
    "ExecuteTime": {
     "end_time": "2020-05-13T07:54:53.612782Z",
     "start_time": "2020-05-13T07:54:53.609475Z"
    }
   },
   "outputs": [],
   "source": [
    "from qiskit.aqua.operators import (StateFn, Zero, One, Plus, Minus, \n",
    "                                   DictStateFn, VectorStateFn, CircuitStateFn, OperatorStateFn)"
   ]
  },
  {
   "cell_type": "code",
   "execution_count": 3,
   "metadata": {
    "ExecuteTime": {
     "end_time": "2020-05-13T07:54:53.617858Z",
     "start_time": "2020-05-13T07:54:53.615162Z"
    }
   },
   "outputs": [
    {
     "name": "stdout",
     "output_type": "stream",
     "text": [
      "DictStateFn({'0': 1})\n",
      "DictMeasurement({'0': 1})\n"
     ]
    }
   ],
   "source": [
    "print(Zero)\n",
    "print(Zero.adjoint())"
   ]
  },
  {
   "cell_type": "markdown",
   "metadata": {},
   "source": [
    "The function this object represents, mapping a binary string to a complex value, can be accessed via the `.eval` method."
   ]
  },
  {
   "cell_type": "code",
   "execution_count": 4,
   "metadata": {
    "ExecuteTime": {
     "end_time": "2020-05-13T07:54:53.629792Z",
     "start_time": "2020-05-13T07:54:53.619976Z"
    },
    "scrolled": true
   },
   "outputs": [
    {
     "name": "stdout",
     "output_type": "stream",
     "text": [
      "1.0\n",
      "0.0\n",
      "1.0\n",
      "(0.70710678118655+0j)\n",
      "(-0.70710678118655+0j)\n"
     ]
    }
   ],
   "source": [
    "print(Zero.eval('0'))\n",
    "print(Zero.eval('1'))\n",
    "print(One.eval('1'))\n",
    "print(Plus.eval('0'))\n",
    "print(Minus.eval('1'))"
   ]
  },
  {
   "cell_type": "markdown",
   "metadata": {},
   "source": [
    "This should look familiar as something analogous to the quantum state or wavefunctions you know, $|0\\rangle$, $|1\\rangle$, $|+\\rangle$, and $|-\\rangle$, but with a key difference: these statefunctions need not be normalized. `statefunction1 + statefunction2` behaves exactly as you'd expect mathematical functions to behave, producing `statefunction3`, where `statefunction3(x) = statefunction1(x) + statefunction2(x)`."
   ]
  },
  {
   "cell_type": "code",
   "execution_count": 5,
   "metadata": {
    "ExecuteTime": {
     "end_time": "2020-05-13T07:54:53.653448Z",
     "start_time": "2020-05-13T07:54:53.631762Z"
    }
   },
   "outputs": [
    {
     "name": "stdout",
     "output_type": "stream",
     "text": [
      "3.0\n",
      "DictStateFn({'1': 1}) * 3.0\n",
      "(1.4142135623731+0j)\n",
      "0j\n",
      "ComposedOp(\n",
      "[CircuitMeasurement(\n",
      "     ┌───┐\n",
      "q_0: ┤ H ├\n",
      "     └───┘\n",
      "),\n",
      "DictStateFn({'0': 1})])\n"
     ]
    }
   ],
   "source": [
    "print((One + One + One).eval('1'))\n",
    "print((One + One + One))\n",
    "print((Plus + Minus).eval('0'))\n",
    "print((Plus + Minus).eval('1'))\n",
    "\n",
    "print(~Plus @ Zero)"
   ]
  },
  {
   "cell_type": "markdown",
   "metadata": {},
   "source": [
    "The behavior of each StateFn type is defined internally by some data structure, which we call the primitive, and a complex coefficient. The `DictStateFn` is the simplest type, holding a dict primitive of {string: complex} value pairs. `Zero` and `One` are simply these. Any value missing from the dict is simply equal to 0."
   ]
  },
  {
   "cell_type": "code",
   "execution_count": 6,
   "metadata": {
    "ExecuteTime": {
     "end_time": "2020-05-13T07:54:53.661197Z",
     "start_time": "2020-05-13T07:54:53.656143Z"
    }
   },
   "outputs": [
    {
     "name": "stdout",
     "output_type": "stream",
     "text": [
      "DictStateFn({'0': 1})\n",
      "DictStateFn({'1': 1})\n",
      "{'0': 1}\n",
      "1.0\n",
      "3.0\n",
      "2j\n"
     ]
    }
   ],
   "source": [
    "print(Zero)\n",
    "print(One)\n",
    "print(Zero.primitive)\n",
    "print(Zero.coeff)\n",
    "print((Zero + Zero + Zero).coeff)\n",
    "print((Zero * 2j).coeff)"
   ]
  },
  {
   "cell_type": "markdown",
   "metadata": {},
   "source": [
    "For simplicity, the `StateFn` class also doubles as the class for Measurement. The adjoint of a `StateFn` is simply a measurement defined by the same primitive as the state. This is conceptually identical to the idea that a bra is the adjoint of a ket, and it is convenient to think of it that way.\n",
    "\n",
    "Just as the State function over binary variables is accessible via `.eval`, so to the Measurement functional over State functions is available via `.eval`. As we'll see below, the availability of the underlying function through `.eval` is also true for the Operators."
   ]
  },
  {
   "cell_type": "code",
   "execution_count": 7,
   "metadata": {
    "ExecuteTime": {
     "end_time": "2020-05-13T07:54:53.672943Z",
     "start_time": "2020-05-13T07:54:53.663676Z"
    }
   },
   "outputs": [
    {
     "name": "stdout",
     "output_type": "stream",
     "text": [
      "DictMeasurement({'1': 1})\n",
      "0.0\n",
      "1.0\n",
      "(0.70710678118655+0j)\n"
     ]
    }
   ],
   "source": [
    "print(One.adjoint())\n",
    "print(Zero.adjoint().eval(One))\n",
    "print(Zero.adjoint().eval(Zero))\n",
    "print(Zero.adjoint().eval(Plus))"
   ]
  },
  {
   "cell_type": "markdown",
   "metadata": {},
   "source": [
    "Note that we can also perform function composition between a State function and measure using `.compose`, and call `.eval()` with no argument later."
   ]
  },
  {
   "cell_type": "code",
   "execution_count": 8,
   "metadata": {
    "ExecuteTime": {
     "end_time": "2020-05-13T07:54:53.685335Z",
     "start_time": "2020-05-13T07:54:53.677517Z"
    }
   },
   "outputs": [
    {
     "name": "stdout",
     "output_type": "stream",
     "text": [
      "0.0\n",
      "1.0\n",
      "(0.70710678118655+0j)\n"
     ]
    }
   ],
   "source": [
    "print(Zero.adjoint().compose(One).eval())\n",
    "print(Zero.adjoint().compose(Zero).eval())\n",
    "print(Zero.adjoint().compose(Plus).eval())"
   ]
  },
  {
   "cell_type": "markdown",
   "metadata": {},
   "source": [
    "Nearly all arithmetic operations between StateFns are supported, including:\n",
    "* `+` - addition\n",
    "* `-` - subtraction, negation (scalar multiplication by -1)\n",
    "* `*` - scalar multiplication\n",
    "* `/` - scalar division\n",
    "* `@` - composition\n",
    "* `^` - tensor product or tensor power (tensor with self n times)\n",
    "* `**` - composition power (compose with self n times)\n",
    "* `==` - equality\n",
    "* `~` - adjoint, alternating between a State Function and Measurement\n",
    "\n",
    "This arithmetic, along with the Operators, allows quick and easy construction of many states for Quantum Algorithms. However, **one must be careful to use parentheses properly when performing arithmetic in this way.**"
   ]
  },
  {
   "cell_type": "code",
   "execution_count": 9,
   "metadata": {
    "ExecuteTime": {
     "end_time": "2020-05-13T07:54:53.692470Z",
     "start_time": "2020-05-13T07:54:53.688338Z"
    },
    "scrolled": true
   },
   "outputs": [
    {
     "name": "stdout",
     "output_type": "stream",
     "text": [
      "DictStateFn({'11111': 1.0, '00000': 1.0}) * 600.0\n",
      "DictStateFn({'101010': 1})\n"
     ]
    }
   ],
   "source": [
    "print(600 * ((One^5) + (Zero^5)))\n",
    "print(One^Zero^3)"
   ]
  },
  {
   "cell_type": "markdown",
   "metadata": {},
   "source": [
    "States can also be easily converted between primitives. Below we'll see that we can also represent State functions by vectors and Quantum circuits. Note that to be consistent with the Operators, we use `to_matrix_op` to convert to a `VectorStateFn`."
   ]
  },
  {
   "cell_type": "code",
   "execution_count": 10,
   "metadata": {
    "ExecuteTime": {
     "end_time": "2020-05-13T07:54:53.729355Z",
     "start_time": "2020-05-13T07:54:53.696886Z"
    },
    "scrolled": true
   },
   "outputs": [
    {
     "name": "stdout",
     "output_type": "stream",
     "text": [
      "VectorStateFn(Statevector([ 0.25-6.123234e-17j, -0.25+6.123234e-17j,  0.25-6.123234e-17j,\n",
      "             -0.25+6.123234e-17j, -0.25+6.123234e-17j,  0.25-6.123234e-17j,\n",
      "             -0.25+6.123234e-17j,  0.25-6.123234e-17j,  0.25-6.123234e-17j,\n",
      "             -0.25+6.123234e-17j,  0.25-6.123234e-17j, -0.25+6.123234e-17j,\n",
      "             -0.25+6.123234e-17j,  0.25-6.123234e-17j, -0.25+6.123234e-17j,\n",
      "              0.25-6.123234e-17j],\n",
      "            dims=(2, 2, 2, 2)))\n",
      "CircuitStateFn(\n",
      "     ┌───┐\n",
      "q_0: ┤ X ├\n",
      "     ├───┤\n",
      "q_1: ┤ H ├\n",
      "     ├───┤\n",
      "q_2: ┤ X ├\n",
      "     ├───┤\n",
      "q_3: ┤ H ├\n",
      "     └───┘\n",
      ")\n",
      "{'0111': 0.2744140625, '1101': 0.2529296875, '1111': 0.23828125, '0101': 0.234375}\n"
     ]
    }
   ],
   "source": [
    "print(((Plus^Minus)^2).to_matrix_op())\n",
    "# TODO round\n",
    "print(((Plus^One)^2).to_circuit_op())\n",
    "print(((Plus^One)^2).to_matrix_op().sample())"
   ]
  },
  {
   "cell_type": "markdown",
   "metadata": {},
   "source": [
    "In fact, `Plus` and `Minus` are `CircuitStateFn`s."
   ]
  },
  {
   "cell_type": "code",
   "execution_count": 11,
   "metadata": {
    "ExecuteTime": {
     "end_time": "2020-05-13T07:54:53.738849Z",
     "start_time": "2020-05-13T07:54:53.731617Z"
    }
   },
   "outputs": [
    {
     "name": "stdout",
     "output_type": "stream",
     "text": [
      "CircuitStateFn(\n",
      "     ┌───┐\n",
      "q_0: ┤ H ├\n",
      "     └───┘\n",
      ")\n",
      "CircuitStateFn(\n",
      "     ┌───┐┌───┐\n",
      "q_0: ┤ X ├┤ H ├\n",
      "     └───┘└───┘\n",
      ")\n"
     ]
    }
   ],
   "source": [
    "print(Plus)\n",
    "print(Minus)"
   ]
  },
  {
   "cell_type": "markdown",
   "metadata": {},
   "source": [
    "Constructing a StateFn is easy. The `StateFn` class also serves as a factory, and can take any applicable primitive in its constructor and return the correct StateFn subclass. Right now the following primitives can be passed into the constructor, listed alongside the `StateFn` subclass they produce:\n",
    "\n",
    "* str (equal to some basis bitstring) -> DictStateFn\n",
    "* dict  -> DictStateFn\n",
    "* Qiskit Result object -> DictStateFn\n",
    "* list -> VectorStateFn\n",
    "* np.ndarray -> VectorStateFn\n",
    "* Statevector -> VectorStateFn\n",
    "* QuantumCircuit -> CircuitStateFn\n",
    "* Instruction -> CircuitStateFn\n",
    "* OperatorBase -> OperatorStateFn"
   ]
  },
  {
   "cell_type": "code",
   "execution_count": 12,
   "metadata": {
    "ExecuteTime": {
     "end_time": "2020-05-13T07:54:53.759259Z",
     "start_time": "2020-05-13T07:54:53.742641Z"
    }
   },
   "outputs": [
    {
     "name": "stdout",
     "output_type": "stream",
     "text": [
      "DictStateFn({'0': 1})\n",
      "True\n",
      "VectorStateFn(Statevector([0.+0.j, 1.+0.j, 1.+0.j, 0.+0.j],\n",
      "            dims=(2, 2)))\n",
      "CircuitStateFn(\n",
      "     ┌──────────┐     ┌──────────┐     ┌──────────┐     ┌──────────┐\n",
      "q_0: ┤ RY(θ[0]) ├──■──┤ RY(θ[2]) ├──■──┤ RY(θ[4]) ├──■──┤ RY(θ[6]) ├\n",
      "     ├──────────┤┌─┴─┐├──────────┤┌─┴─┐├──────────┤┌─┴─┐├──────────┤\n",
      "q_1: ┤ RY(θ[1]) ├┤ X ├┤ RY(θ[3]) ├┤ X ├┤ RY(θ[5]) ├┤ X ├┤ RY(θ[7]) ├\n",
      "     └──────────┘└───┘└──────────┘└───┘└──────────┘└───┘└──────────┘\n",
      ")\n"
     ]
    }
   ],
   "source": [
    "print(StateFn({'0':1}))\n",
    "print(StateFn({'0':1}) == Zero)\n",
    "\n",
    "print(StateFn([0,1,1,0]))\n",
    "\n",
    "from qiskit.circuit.library import RealAmplitudes\n",
    "print(StateFn(RealAmplitudes(2)))\n"
   ]
  },
  {
   "cell_type": "markdown",
   "metadata": {},
   "source": [
    "## Part II: PrimitiveOps\n",
    "\n",
    "Operators are functions which take StateFns to StateFns, and `PrimitiveOp`s are the building blocks for these Objects. For example, the identity Operator takes any StateFn to itself, and we can build this Operator efficiently out of `PauliOps`. Just like State Functions and Measurements, this characteristic function of the Operator is accessible via the `.eval` method, and the behavior of the function is defined by a computational primitive. If you pass a bitstring into an Operator's `eval` function, it will simply treat it as the corresponding basis StateFn.\n",
    "\n",
    "Every `PrimitiveOp` has two properties:\n",
    "* `primitive` - The data structure defining the underlying function's behavior. For `DictStateFn`, this object is a `dict`, etc.\n",
    "* `coeff` - A coefficient multiplying the function, i.e. `StateFn(my_primitive, coeff=3) == StateFn(my_primitive) * 3`. Note that `coeff` can be int, float, complex or a free `Parameter` object (from `qiskit.circuit` in Terra) to be bound later.\n",
    "\n",
    "Just like StateFn, `PrimitiveOp` is also a factory for creating the correct type of `PrimitiveOp` for a given primitive. Right now the following primitives can be passed into the constructor, listed alongside the `PrimitiveOp` subclass they produce:\n",
    "\n",
    "* Terra's Pauli -> PauliOp\n",
    "* Instruction -> CircuitOp\n",
    "* QuantumCircuit -> CircuitOp\n",
    "* 2d List -> MatrixOp\n",
    "* np.ndarray -> MatrixOp\n",
    "* spmatrix -> MatrixOp\n",
    "* Terra's quantum_info.Operator -> MatrixOp"
   ]
  },
  {
   "cell_type": "code",
   "execution_count": 13,
   "metadata": {
    "ExecuteTime": {
     "end_time": "2020-05-13T07:54:53.766727Z",
     "start_time": "2020-05-13T07:54:53.762288Z"
    }
   },
   "outputs": [],
   "source": [
    "from qiskit.aqua.operators import X, Y, Z, I, CX, T, H, S, PrimitiveOp"
   ]
  },
  {
   "cell_type": "code",
   "execution_count": 14,
   "metadata": {
    "ExecuteTime": {
     "end_time": "2020-05-13T07:54:53.845915Z",
     "start_time": "2020-05-13T07:54:53.769386Z"
    }
   },
   "outputs": [
    {
     "name": "stdout",
     "output_type": "stream",
     "text": [
      "X\n",
      "DictStateFn({'0': (1+0j)})\n",
      "True\n",
      "          \n",
      "q_0: ──■──\n",
      "     ┌─┴─┐\n",
      "q_1: ┤ X ├\n",
      "     └───┘\n",
      "VectorStateFn(Statevector([0.+0.j, 0.+0.j, 0.+0.j, 1.+0.j],\n",
      "            dims=(2, 2)))\n",
      "(1+0j)\n",
      "(1+0j)\n",
      "          ┌───┐┌───┐     ┌───┐┌───┐\n",
      "q_0: ──■──┤ I ├┤ H ├──■──┤ I ├┤ H ├\n",
      "     ┌─┴─┐└───┘├───┤┌─┴─┐└───┘├───┤\n",
      "q_1: ┤ X ├──■──┤ H ├┤ X ├──■──┤ H ├\n",
      "     └───┘┌─┴─┐├───┤└───┘┌─┴─┐├───┤\n",
      "q_2: ──■──┤ X ├┤ H ├──■──┤ X ├┤ H ├\n",
      "     ┌─┴─┐└───┘├───┤┌─┴─┐└───┘├───┤\n",
      "q_3: ┤ X ├──■──┤ H ├┤ X ├──■──┤ H ├\n",
      "     └───┘┌─┴─┐├───┤└───┘┌─┴─┐├───┤\n",
      "q_4: ─────┤ X ├┤ H ├─────┤ X ├┤ H ├\n",
      "          └───┘└───┘     └───┘└───┘\n",
      "CircuitStateFn(\n",
      "     ┌───┐┌───┐     ┌───┐┌───┐     ┌───┐┌───┐\n",
      "q_0: ┤ X ├┤ H ├──■──┤ I ├┤ H ├──■──┤ I ├┤ H ├\n",
      "     ├───┤├───┤┌─┴─┐└───┘├───┤┌─┴─┐└───┘├───┤\n",
      "q_1: ┤ X ├┤ H ├┤ X ├──■──┤ H ├┤ X ├──■──┤ H ├\n",
      "     ├───┤├───┤└───┘┌─┴─┐├───┤└───┘┌─┴─┐├───┤\n",
      "q_2: ┤ X ├┤ H ├──■──┤ X ├┤ H ├──■──┤ X ├┤ H ├\n",
      "     ├───┤├───┤┌─┴─┐└───┘├───┤┌─┴─┐└───┘├───┤\n",
      "q_3: ┤ X ├┤ H ├┤ X ├──■──┤ H ├┤ X ├──■──┤ H ├\n",
      "     ├───┤├───┤└───┘┌─┴─┐├───┤└───┘┌─┴─┐├───┤\n",
      "q_4: ┤ X ├┤ H ├─────┤ X ├┤ H ├─────┤ X ├┤ H ├\n",
      "     └───┘└───┘     └───┘└───┘     └───┘└───┘\n",
      ")\n",
      "CircuitStateFn(\n",
      "               \n",
      "q_0: ──────────\n",
      "     ┌───┐     \n",
      "q_1: ┤ I ├─────\n",
      "     ├───┤┌───┐\n",
      "q_2: ┤ X ├┤ H ├\n",
      "     └───┘└───┘\n",
      ")\n"
     ]
    }
   ],
   "source": [
    "print(X)\n",
    "print(X.eval(One))\n",
    "print(X.eval(One) == Zero)\n",
    "\n",
    "print(CX)\n",
    "print(CX.eval('01'))\n",
    "print(CX.eval('01').eval('11'))\n",
    "print(((~One^2) @ (CX.eval('01'))).eval())\n",
    "\n",
    "print(((H^5) @ ((CX^2)^I) @ (I^(CX^2)))**2)\n",
    "print((((H^5) @ ((CX^2)^I) @ (I^(CX^2)))**2) @ (Minus^5))\n",
    "print(((H^I^I)@(X^I^I)@Zero))"
   ]
  },
  {
   "cell_type": "markdown",
   "metadata": {},
   "source": [
    "## Part III: ListOps\n",
    "\n",
    "If you've already played around with the above, you'll notice that you can easily perform operations between `StateFns` which we may not know how to perform efficiently in general (or simply haven't implemented an efficient procedure yet). In those cases, you may receive a `ListOp` result (or sublclass thereof) from your operation representing the lazy execution of the Operation. For example, if you attempt to add together a `DictStateFn` and a `CircuitStateFn`, you'll receive a `SummedOp` representing the sum of the two. This composite State function still has a working `eval`, but may need to perform a non-scalable computation under the hood, such as converting both to vectors.\n",
    "\n",
    "Every `ListOp` has four properties:\n",
    "* `oplist` - The list of `OperatorBase`s which define the behavior of the `ListOp`'s characteristic function.\n",
    "* `combo_fn` - The function taking a list to an output value which defines how to combine the outputs of the `oplist` items' functions to produce the `ListOp`'s characteristic function.\n",
    "* `coeff` - A coefficient multiplying the characteristic function.\n",
    "* `abelian` - Indicates whether the Operators in `oplist` are known to mutually commute (usually set after being converted by the `AbelianGrouper` converter).\n",
    "\n",
    "Note that `ListOp` supports typical iteration overloads, so you can use indexing like `my_op[4]` to access the `OperatorBase`s in `oplist`."
   ]
  },
  {
   "cell_type": "code",
   "execution_count": 15,
   "metadata": {
    "ExecuteTime": {
     "end_time": "2020-05-13T07:54:53.857395Z",
     "start_time": "2020-05-13T07:54:53.848449Z"
    }
   },
   "outputs": [
    {
     "name": "stdout",
     "output_type": "stream",
     "text": [
      "SummedOp(\n",
      "[DictStateFn({'0': 1}),\n",
      "CircuitStateFn(\n",
      "     ┌───┐\n",
      "q_0: ┤ H ├\n",
      "     └───┘\n",
      ")])\n",
      "(1.7071067811865501+0j)\n"
     ]
    }
   ],
   "source": [
    "print(Zero + Plus)\n",
    "print((Zero + Plus).eval('0'))"
   ]
  },
  {
   "cell_type": "markdown",
   "metadata": {},
   "source": [
    "Or for composition, you might receive a `ComposedOp`. Note that just as in addition, we can sometimes perform the composition efficiently, such as between two circuit State functions. However, when composing a Measurement with a State function, we will always receive a `ComposedOp` back to reflect the fact that the State Function has been measured."
   ]
  },
  {
   "cell_type": "code",
   "execution_count": 16,
   "metadata": {
    "ExecuteTime": {
     "end_time": "2020-05-13T07:54:53.877845Z",
     "start_time": "2020-05-13T07:54:53.861254Z"
    }
   },
   "outputs": [
    {
     "name": "stdout",
     "output_type": "stream",
     "text": [
      "Dict measurement with Circuit statefn:\n",
      "ComposedOp(\n",
      "[DictMeasurement({'1': 1}),\n",
      "CircuitStateFn(\n",
      "     ┌───┐┌───┐\n",
      "q_0: ┤ X ├┤ H ├\n",
      "     └───┘└───┘\n",
      ")])\n",
      "(-0.70710678118655+0j)\n",
      "\n",
      "Circuit measurement with Circuit statefn:\n",
      "ComposedOp(\n",
      "[CircuitMeasurement(\n",
      "     ┌───┐┌───┐┌───┐\n",
      "q_0: ┤ X ├┤ H ├┤ X ├\n",
      "     └───┘└───┘└───┘\n",
      "),\n",
      "DictStateFn({'0': 1})])\n",
      "\n",
      "Dict measurement with vector statefn:\n",
      "ComposedOp(\n",
      "[DictMeasurement({'1': 1}),\n",
      "VectorStateFn(Statevector([ 0.70710678-8.65956056e-17j, -0.70710678+8.65956056e-17j],\n",
      "            dims=(2,)))])\n"
     ]
    }
   ],
   "source": [
    "print('Dict measurement with Circuit statefn:')\n",
    "print(~One @ Minus)\n",
    "print((~One @ Minus).eval())\n",
    "print('\\nCircuit measurement with Circuit statefn:')\n",
    "print(~One.to_circuit_op() @ Minus)\n",
    "print('\\nDict measurement with vector statefn:')\n",
    "print(~One @ Minus.to_matrix_op())"
   ]
  },
  {
   "cell_type": "markdown",
   "metadata": {},
   "source": [
    "#### Hierarchical ListOps\n",
    "\n",
    "The base `ListOp` class is a special type of ListOp. Its `combo_fn` is the identity - it accepts a list and produces that same list. This allows the ListOp's characteristic function to represent the vectorization of the oplist's functions into a list, and the construction of large and interesting Operators."
   ]
  },
  {
   "cell_type": "code",
   "execution_count": 17,
   "metadata": {
    "ExecuteTime": {
     "end_time": "2020-05-13T07:54:53.914192Z",
     "start_time": "2020-05-13T07:54:53.881291Z"
    }
   },
   "outputs": [
    {
     "name": "stdout",
     "output_type": "stream",
     "text": [
      "[(-1+0j), (1+0j), 0j, 0j]\n",
      "[[-1.+0.j  1.+0.j  0.+0.j  0.+0.j]\n",
      " [ 0.+0.j  0.+0.j  1.+0.j -1.-0.j]]\n"
     ]
    }
   ],
   "source": [
    "print((~StateFn(Z) @ ListOp([One, Zero, Plus, Minus])).eval())\n",
    "print(np.asarray((~StateFn(ListOp([Z, X])) @ ListOp([One, Zero, Plus, Minus])).eval()))"
   ]
  },
  {
   "cell_type": "markdown",
   "metadata": {},
   "source": [
    "For example, building a Quantum Kernel is trivial using `ListOp`s."
   ]
  },
  {
   "cell_type": "code",
   "execution_count": 18,
   "metadata": {
    "ExecuteTime": {
     "end_time": "2020-05-13T07:54:53.958870Z",
     "start_time": "2020-05-13T07:54:53.916323Z"
    },
    "scrolled": true
   },
   "outputs": [
    {
     "name": "stdout",
     "output_type": "stream",
     "text": [
      "[[ 1.        +0.j  0.        +0.j  0.70710678+0.j -0.70710678+0.j]\n",
      " [ 0.        +0.j  1.        +0.j  0.70710678+0.j  0.70710678+0.j]\n",
      " [ 0.70710678+0.j  0.70710678+0.j  1.        +0.j  0.        +0.j]\n",
      " [-0.70710678-0.j  0.70710678+0.j  0.        +0.j  1.        +0.j]]\n"
     ]
    }
   ],
   "source": [
    "kernel_states = ListOp([One, Zero, Plus, Minus])\n",
    "print(np.asarray((~kernel_states @ kernel_states).eval()))"
   ]
  },
  {
   "cell_type": "markdown",
   "metadata": {},
   "source": [
    "Note that in contrast with Terra, binding a list of values to a parameter in bind_parameters will return a ListOp of copies of the bound Operator with each parameterization."
   ]
  },
  {
   "cell_type": "code",
   "execution_count": 19,
   "metadata": {
    "ExecuteTime": {
     "end_time": "2020-05-13T07:54:54.043362Z",
     "start_time": "2020-05-13T07:54:53.961440Z"
    }
   },
   "outputs": [
    {
     "name": "stdout",
     "output_type": "stream",
     "text": [
      "ListOp(\n",
      "[CircuitStateFn(\n",
      "     ┌───┐┌───────┐                        ┌───┐┌───────┐                   »\n",
      "q_0: ┤ H ├┤ U1(2) ├──■──────────────────■──┤ H ├┤ U1(2) ├──■────────────────»\n",
      "     ├───┤├───────┤┌─┴─┐┌────────────┐┌─┴─┐├───┤├───────┤┌─┴─┐┌────────────┐»\n",
      "q_1: ┤ H ├┤ U1(0) ├┤ X ├┤ U1(13.456) ├┤ X ├┤ H ├┤ U1(0) ├┤ X ├┤ U1(13.456) ├»\n",
      "     └───┘└───────┘└───┘└────────────┘└───┘└───┘└───────┘└───┘└────────────┘»\n",
      "«          \n",
      "«q_0: ──■──\n",
      "«     ┌─┴─┐\n",
      "«q_1: ┤ X ├\n",
      "«     └───┘\n",
      "),\n",
      "CircuitStateFn(\n",
      "     ┌───┐┌───────┐                        ┌───┐┌───────┐                   »\n",
      "q_0: ┤ H ├┤ U1(0) ├──■──────────────────■──┤ H ├┤ U1(0) ├──■────────────────»\n",
      "     ├───┤├───────┤┌─┴─┐┌────────────┐┌─┴─┐├───┤├───────┤┌─┴─┐┌────────────┐»\n",
      "q_1: ┤ H ├┤ U1(2) ├┤ X ├┤ U1(13.456) ├┤ X ├┤ H ├┤ U1(2) ├┤ X ├┤ U1(13.456) ├»\n",
      "     └───┘└───────┘└───┘└────────────┘└───┘└───┘└───────┘└───┘└────────────┘»\n",
      "«          \n",
      "«q_0: ──■──\n",
      "«     ┌─┴─┐\n",
      "«q_1: ┤ X ├\n",
      "«     └───┘\n",
      ")])\n",
      "[[ 1.        +0.j -0.20824985-0.j]\n",
      " [-0.20824985-0.j  1.        +0.j]]\n"
     ]
    }
   ],
   "source": [
    "from qiskit.circuit.library import ZZFeatureMap\n",
    "feat_map = PrimitiveOp(ZZFeatureMap(2)) @ Zero\n",
    "mapped_features = feat_map.bind_parameters(dict(zip(feat_map.primitive.ordered_parameters, np.eye(2).tolist())))\n",
    "print(mapped_features)\n",
    "qkernel_mat = (~mapped_features @ mapped_features).eval()\n",
    "print(np.array(qkernel_mat))"
   ]
  },
  {
   "cell_type": "markdown",
   "metadata": {},
   "source": [
    "## Part IV: Converters\n",
    "\n",
    "Converters traverse an Operator structure and perform a particular manipulation or replacement of the Operators within. Typically, if a converter encounters an `OperatorBase` in the recursion which is irrelevant to its conversion purpose, that `OperatorBase` is left alone. Let's go back to our example from the top of this notebook to see the core converters in action."
   ]
  },
  {
   "cell_type": "code",
   "execution_count": 20,
   "metadata": {
    "ExecuteTime": {
     "end_time": "2020-05-13T07:54:54.049171Z",
     "start_time": "2020-05-13T07:54:54.045617Z"
    }
   },
   "outputs": [],
   "source": [
    "import numpy as np\n",
    "from qiskit.aqua.operators import I, X, Y, Z, H, CX, Zero, ListOp, PauliExpectation, PauliTrotterEvolution, CircuitSampler, MatrixEvolution\n",
    "from qiskit.circuit import Parameter"
   ]
  },
  {
   "cell_type": "markdown",
   "metadata": {},
   "source": [
    "### Evolutons, `exp_i()` and the `EvolvedOp`\n",
    "\n",
    "Every `PrimitiveOp` and `ListOp` has an `.exp_i()` function to perform its Schrödinger-style exponentiation, $e^{-iHt}$. In practice, only a few of these Operators have an efficiently computable exponentiation (such as MatrixOp and the PauliOps with only one non-identity single-qubit Pauli), so we need to return a placeholder (similar to how `SummedOp` is a placeholder when we can't perform addition). This placeholder is called `EvolvedOp`, and it holds the Operator to be exponentiated in its `.primitive` property.\n",
    "\n",
    "OpFlow fully supports parameterization, so we can use a `Parameter` for our evolution time here. Notice that there's no \"evolution time\" argument in any function. The Operator flow exponentiates whatever operator we tell it to, and if we choose to multiply the operator by an evolution time, $e^{-iHt}$, that will be reflected in our exponentiation parameters. This is not some trick to make it look like Physics - it actually works this way under the hood."
   ]
  },
  {
   "cell_type": "code",
   "execution_count": 21,
   "metadata": {
    "ExecuteTime": {
     "end_time": "2020-05-13T07:54:54.061044Z",
     "start_time": "2020-05-13T07:54:54.051393Z"
    }
   },
   "outputs": [
    {
     "name": "stdout",
     "output_type": "stream",
     "text": [
      "ComposedOp(\n",
      "[OperatorMeasurement(SummedOp(\n",
      "[-1.0523732 * II,\n",
      "0.39793742 * IZ,\n",
      "-0.3979374 * ZI,\n",
      "-0.0112801 * ZZ,\n",
      "0.18093119 * XX])),\n",
      "e^(-i*1.0*θ * SummedOp(\n",
      "[-1.0523732 * II,\n",
      "0.39793742 * IZ,\n",
      "-0.3979374 * ZI,\n",
      "-0.0112801 * ZZ,\n",
      "0.18093119 * XX])),\n",
      "CircuitStateFn(\n",
      "               \n",
      "q_0: ───────■──\n",
      "     ┌───┐┌─┴─┐\n",
      "q_1: ┤ H ├┤ X ├\n",
      "     └───┘└───┘\n",
      ")])\n"
     ]
    }
   ],
   "source": [
    "bell = CX @ (H^I) @ Zero\n",
    "# We can also do CX @ (Plus ^ Zero)\n",
    "evo_time = Parameter('θ')\n",
    "\n",
    "evolution_op = (evo_time*two_qubit_H2).exp_i()\n",
    "h2_measurement = StateFn(two_qubit_H2).adjoint()\n",
    "evo_and_meas = h2_measurement @ evolution_op @ bell\n",
    "print(evo_and_meas)"
   ]
  },
  {
   "cell_type": "markdown",
   "metadata": {},
   "source": [
    "We can use an `Evolution` converter to convert `EvolvedOp`s into `CircuitOp`s. The `PauliTrotterEvolution` will convert the Operator to be evolved into a sum of `PauliOp`s and use Trotterization to produce a circuit, and `MatrixEvolution` will convert to a `MatrixOp` and produce a circuit using Terra's `HamiltonianGate` (which is classical exponentiation under the hood). Note that evolution time parameter θ has flowed into the circuit."
   ]
  },
  {
   "cell_type": "code",
   "execution_count": 22,
   "metadata": {
    "ExecuteTime": {
     "end_time": "2020-05-13T07:54:54.104539Z",
     "start_time": "2020-05-13T07:54:54.063538Z"
    }
   },
   "outputs": [
    {
     "name": "stdout",
     "output_type": "stream",
     "text": [
      "ComposedOp(\n",
      "[OperatorMeasurement(SummedOp(\n",
      "[-1.0523732 * II,\n",
      "0.39793742 * IZ,\n",
      "-0.3979374 * ZI,\n",
      "-0.0112801 * ZZ,\n",
      "0.18093119 * XX])),\n",
      "CircuitStateFn(\n",
      "               ┌───┐┌───┐┌───────────────────┐┌───┐┌───┐┌───┐»\n",
      "q_0: ───────■──┤ H ├┤ X ├┤ RZ(0.090465595*θ) ├┤ X ├┤ H ├┤ X ├»\n",
      "     ┌───┐┌─┴─┐├───┤└─┬─┘└───────────────────┘└─┬─┘├───┤└─┬─┘»\n",
      "q_1: ┤ H ├┤ X ├┤ H ├──■─────────────────────────■──┤ H ├──■──»\n",
      "     └───┘└───┘└───┘                               └───┘     »\n",
      "«     ┌───────────────────┐┌───┐┌──────────────────┐┌──────────────────┐┌───┐»\n",
      "«q_0: ┤ RZ(-0.00564005*θ) ├┤ X ├┤ RZ(0.19896871*θ) ├┤ RZ(0.19896871*θ) ├┤ X ├»\n",
      "«     └───────────────────┘└─┬─┘├──────────────────┤├──────────────────┤└─┬─┘»\n",
      "«q_1: ───────────────────────■──┤ RZ(-0.1989687*θ) ├┤ RZ(-0.1989687*θ) ├──■──»\n",
      "«                               └──────────────────┘└──────────────────┘     »\n",
      "«     ┌───────────────────┐┌───┐┌───┐┌───┐┌───────────────────┐┌───┐┌───┐\n",
      "«q_0: ┤ RZ(-0.00564005*θ) ├┤ X ├┤ H ├┤ X ├┤ RZ(0.090465595*θ) ├┤ X ├┤ H ├\n",
      "«     └───────────────────┘└─┬─┘├───┤└─┬─┘└───────────────────┘└─┬─┘├───┤\n",
      "«q_1: ───────────────────────■──┤ H ├──■─────────────────────────■──┤ H ├\n",
      "«                               └───┘                               └───┘\n",
      ")])\n"
     ]
    }
   ],
   "source": [
    "trotterized_op = PauliTrotterEvolution(trotter_mode=Suzuki()).convert(evo_and_meas)\n",
    "# We can also set trotter_mode using a string 'suzuki' or leave it empty to default to first order Trotterization.\n",
    "print(trotterized_op)"
   ]
  },
  {
   "cell_type": "markdown",
   "metadata": {},
   "source": [
    "We can bind our parameter to the operator if we so choose, and it will recursively bind into the circuit."
   ]
  },
  {
   "cell_type": "code",
   "execution_count": 23,
   "metadata": {
    "ExecuteTime": {
     "end_time": "2020-05-13T07:54:54.127174Z",
     "start_time": "2020-05-13T07:54:54.111213Z"
    }
   },
   "outputs": [
    {
     "data": {
      "text/html": [
       "<pre style=\"word-wrap: normal;white-space: pre;background: #fff0;line-height: 1.1;font-family: &quot;Courier New&quot;,Courier,monospace\">               ┌───┐┌───┐┌──────────────┐┌───┐┌───┐┌───┐┌──────────────┐┌───┐ ┌──────────────┐ ┌──────────────┐┌───┐┌──────────────┐┌───┐┌───┐┌───┐┌──────────────┐┌───┐┌───┐\n",
       "q_0: ───────■──┤ H ├┤ X ├┤ RZ(0.045233) ├┤ X ├┤ H ├┤ X ├┤ RZ(-0.00282) ├┤ X ├─┤ RZ(0.099484) ├─┤ RZ(0.099484) ├┤ X ├┤ RZ(-0.00282) ├┤ X ├┤ H ├┤ X ├┤ RZ(0.045233) ├┤ X ├┤ H ├\n",
       "     ┌───┐┌─┴─┐├───┤└─┬─┘└──────────────┘└─┬─┘├───┤└─┬─┘└──────────────┘└─┬─┘┌┴──────────────┤┌┴──────────────┤└─┬─┘└──────────────┘└─┬─┘├───┤└─┬─┘└──────────────┘└─┬─┘├───┤\n",
       "q_1: ┤ H ├┤ X ├┤ H ├──■────────────────────■──┤ H ├──■────────────────────■──┤ RZ(-0.099484) ├┤ RZ(-0.099484) ├──■────────────────────■──┤ H ├──■────────────────────■──┤ H ├\n",
       "     └───┘└───┘└───┘                          └───┘                          └───────────────┘└───────────────┘                          └───┘                          └───┘</pre>"
      ],
      "text/plain": [
       "               ┌───┐┌───┐┌──────────────┐┌───┐┌───┐┌───┐┌──────────────┐┌───┐ ┌──────────────┐ ┌──────────────┐┌───┐┌──────────────┐┌───┐┌───┐┌───┐┌──────────────┐┌───┐┌───┐\n",
       "q_0: ───────■──┤ H ├┤ X ├┤ RZ(0.045233) ├┤ X ├┤ H ├┤ X ├┤ RZ(-0.00282) ├┤ X ├─┤ RZ(0.099484) ├─┤ RZ(0.099484) ├┤ X ├┤ RZ(-0.00282) ├┤ X ├┤ H ├┤ X ├┤ RZ(0.045233) ├┤ X ├┤ H ├\n",
       "     ┌───┐┌─┴─┐├───┤└─┬─┘└──────────────┘└─┬─┘├───┤└─┬─┘└──────────────┘└─┬─┘┌┴──────────────┤┌┴──────────────┤└─┬─┘└──────────────┘└─┬─┘├───┤└─┬─┘└──────────────┘└─┬─┘├───┤\n",
       "q_1: ┤ H ├┤ X ├┤ H ├──■────────────────────■──┤ H ├──■────────────────────■──┤ RZ(-0.099484) ├┤ RZ(-0.099484) ├──■────────────────────■──┤ H ├──■────────────────────■──┤ H ├\n",
       "     └───┘└───┘└───┘                          └───┘                          └───────────────┘└───────────────┘                          └───┘                          └───┘"
      ]
     },
     "execution_count": 23,
     "metadata": {},
     "output_type": "execute_result"
    }
   ],
   "source": [
    "bound = trotterized_op.bind_parameters({evo_time: .5})\n",
    "bound[1].to_circuit().draw(fold=1000)"
   ]
  },
  {
   "cell_type": "markdown",
   "metadata": {},
   "source": [
    "### Expectations for Converting Non-diagonal Measurements"
   ]
  },
  {
   "cell_type": "code",
   "execution_count": 24,
   "metadata": {
    "ExecuteTime": {
     "end_time": "2020-05-13T07:54:54.157768Z",
     "start_time": "2020-05-13T07:54:54.129998Z"
    },
    "scrolled": true
   },
   "outputs": [
    {
     "name": "stdout",
     "output_type": "stream",
     "text": [
      "SummedOp(\n",
      "[ComposedOp(\n",
      "[OperatorMeasurement(AbelianSummedOp(\n",
      "[0.18093119 * ZZ,\n",
      "-1.0523732 * II])),\n",
      "CircuitStateFn(\n",
      "               ┌───┐┌───┐┌───────────────────┐┌───┐┌───┐┌───┐»\n",
      "q_0: ───────■──┤ H ├┤ X ├┤ RZ(0.090465595*θ) ├┤ X ├┤ H ├┤ X ├»\n",
      "     ┌───┐┌─┴─┐├───┤└─┬─┘└───────────────────┘└─┬─┘├───┤└─┬─┘»\n",
      "q_1: ┤ H ├┤ X ├┤ H ├──■─────────────────────────■──┤ H ├──■──»\n",
      "     └───┘└───┘└───┘                               └───┘     »\n",
      "«     ┌───────────────────┐┌───┐┌──────────────────┐┌──────────────────┐┌───┐»\n",
      "«q_0: ┤ RZ(-0.00564005*θ) ├┤ X ├┤ RZ(0.19896871*θ) ├┤ RZ(0.19896871*θ) ├┤ X ├»\n",
      "«     └───────────────────┘└─┬─┘├──────────────────┤├──────────────────┤└─┬─┘»\n",
      "«q_1: ───────────────────────■──┤ RZ(-0.1989687*θ) ├┤ RZ(-0.1989687*θ) ├──■──»\n",
      "«                               └──────────────────┘└──────────────────┘     »\n",
      "«     ┌───────────────────┐┌───┐┌───┐┌───┐┌───────────────────┐┌───┐┌───┐┌───┐\n",
      "«q_0: ┤ RZ(-0.00564005*θ) ├┤ X ├┤ H ├┤ X ├┤ RZ(0.090465595*θ) ├┤ X ├┤ H ├┤ H ├\n",
      "«     └───────────────────┘└─┬─┘├───┤└─┬─┘└───────────────────┘└─┬─┘├───┤├───┤\n",
      "«q_1: ───────────────────────■──┤ H ├──■─────────────────────────■──┤ H ├┤ H ├\n",
      "«                               └───┘                               └───┘└───┘\n",
      ")]),\n",
      "ComposedOp(\n",
      "[OperatorMeasurement(AbelianSummedOp(\n",
      "[0.39793742 * IZ,\n",
      "-0.3979374 * ZI,\n",
      "-0.0112801 * ZZ])),\n",
      "CircuitStateFn(\n",
      "               ┌───┐┌───┐┌───────────────────┐┌───┐┌───┐┌───┐»\n",
      "q_0: ───────■──┤ H ├┤ X ├┤ RZ(0.090465595*θ) ├┤ X ├┤ H ├┤ X ├»\n",
      "     ┌───┐┌─┴─┐├───┤└─┬─┘└───────────────────┘└─┬─┘├───┤└─┬─┘»\n",
      "q_1: ┤ H ├┤ X ├┤ H ├──■─────────────────────────■──┤ H ├──■──»\n",
      "     └───┘└───┘└───┘                               └───┘     »\n",
      "«     ┌───────────────────┐┌───┐┌──────────────────┐┌──────────────────┐┌───┐»\n",
      "«q_0: ┤ RZ(-0.00564005*θ) ├┤ X ├┤ RZ(0.19896871*θ) ├┤ RZ(0.19896871*θ) ├┤ X ├»\n",
      "«     └───────────────────┘└─┬─┘├──────────────────┤├──────────────────┤└─┬─┘»\n",
      "«q_1: ───────────────────────■──┤ RZ(-0.1989687*θ) ├┤ RZ(-0.1989687*θ) ├──■──»\n",
      "«                               └──────────────────┘└──────────────────┘     »\n",
      "«     ┌───────────────────┐┌───┐┌───┐┌───┐┌───────────────────┐┌───┐┌───┐\n",
      "«q_0: ┤ RZ(-0.00564005*θ) ├┤ X ├┤ H ├┤ X ├┤ RZ(0.090465595*θ) ├┤ X ├┤ H ├\n",
      "«     └───────────────────┘└─┬─┘├───┤└─┬─┘└───────────────────┘└─┬─┘├───┤\n",
      "«q_1: ───────────────────────■──┤ H ├──■─────────────────────────■──┤ H ├\n",
      "«                               └───┘                               └───┘\n",
      ")])])\n"
     ]
    }
   ],
   "source": [
    "diagonalized_meas_op = PauliExpectation().convert(trotterized_op)\n",
    "print(diagonalized_meas_op)"
   ]
  },
  {
   "cell_type": "markdown",
   "metadata": {},
   "source": [
    "And now, we shard even further by binding with multiple parameters into a `ListOp`"
   ]
  },
  {
   "cell_type": "code",
   "execution_count": 25,
   "metadata": {
    "ExecuteTime": {
     "end_time": "2020-05-13T07:54:54.178669Z",
     "start_time": "2020-05-13T07:54:54.161359Z"
    }
   },
   "outputs": [],
   "source": [
    "evo_time_points = list(range(8))\n",
    "h2_trotter_expectations = diagonalized_meas_op.bind_parameters({evo_time: evo_time_points})"
   ]
  },
  {
   "cell_type": "markdown",
   "metadata": {},
   "source": [
    "### Executing `CircuitStateFn`s with the CircuitSampler"
   ]
  },
  {
   "cell_type": "code",
   "execution_count": 27,
   "metadata": {
    "ExecuteTime": {
     "end_time": "2020-05-13T07:55:10.479266Z",
     "start_time": "2020-05-13T07:55:10.194742Z"
    }
   },
   "outputs": [
    {
     "name": "stdout",
     "output_type": "stream",
     "text": [
      "Sampled Trotterized energies:\n",
      " [-1.05414011 -1.04283191 -1.03081694 -1.0354109  -1.06050097 -1.08135046\n",
      " -1.097606   -1.0937188   0.39074414  0.38448231  0.40539507  0.41738387\n",
      "  0.38914564  0.35202137  0.29059272  0.13497217]\n"
     ]
    }
   ],
   "source": [
    "# Energies by Trotter expansion and sampled measurement\n",
    "sampler = CircuitSampler(backend=BasicAer.get_backend('qasm_simulator'))\n",
    "sampled_trotter_exp_op = sampler.convert(h2_trotter_expectations)\n",
    "sampled_trotter_energies = sampled_trotter_exp_op.eval()\n",
    "print('Sampled Trotterized energies:\\n {}'.format(np.real(sampled_trotter_energies)))"
   ]
  }
 ],
 "metadata": {
  "celltoolbar": "Slideshow",
  "kernelspec": {
   "display_name": "code",
   "language": "python",
   "name": "code"
  },
  "language_info": {
   "codemirror_mode": {
    "name": "ipython",
    "version": 3
   },
   "file_extension": ".py",
   "mimetype": "text/x-python",
   "name": "python",
   "nbconvert_exporter": "python",
   "pygments_lexer": "ipython3",
   "version": "3.7.4"
  },
  "toc": {
   "base_numbering": 1,
   "nav_menu": {},
   "number_sections": true,
   "sideBar": true,
   "skip_h1_title": true,
   "title_cell": "Table of Contents",
   "title_sidebar": "Contents",
   "toc_cell": false,
   "toc_position": {},
   "toc_section_display": true,
   "toc_window_display": true
  }
 },
 "nbformat": 4,
 "nbformat_minor": 2
}
