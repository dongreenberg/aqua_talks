{
 "cells": [
  {
   "cell_type": "markdown",
   "metadata": {
    "slideshow": {
     "slide_type": "slide"
    }
   },
   "source": [
    "# Understanding Aqua's Operator Flow: A Lingua Franca Between Quantum Algorithms Theory and Engineering\n",
    "\n",
    "_donny@, 30-Apr-20_"
   ]
  },
  {
   "cell_type": "markdown",
   "metadata": {},
   "source": [
    "## Overview and Design Philosophy\n",
    "\n",
    "A library for Quantum Algorithms & Applications is more than a collection of procedural code wrapped in Python functions. It needs to provide tools to make writing algorithms simple and easy. This is the layer of modules between the circuits and algorithms, providing the language and computational primitives for QA&A research.\n",
    "\n",
    "In Aqua, we call this layer the Operator Flow. It works by unifying computation with theory through the common language of functions and operators, in a way which preserves physical intuition and programming freedom. In the Operator Flow, we construct functions over binary variables, manipulate those functions with operators, and evaluate properties of these functions. So far, that can all be done classically with probabilistic or even deterministic programming, but you'll see that often the most efficient way to represent these interactions compactly is using quantum circuits. The illuminating examples here will often be classic primitives of quantum computation, such as Hamiltonian simulation or the Quantum Fourier Transform.\n",
    "\n",
    "Below, we'll describe the key players in the Operator Flow, and show some examples of how they can be used to construct some familiar quantum algorithms. This notebook assumes a basic familiarity with Quantum Algorithms."
   ]
  },
  {
   "cell_type": "markdown",
   "metadata": {},
   "source": [
    "### North Star\n",
    "\n",
    "The Operator Flow is meant to serve as a lingua franca between the theory and implementation of Quantum Algorithms & Applications. Meaning, the ultimate goal is that when theorists speak their theory in the Operator Flow, they are speaking valid implementation, and when the engineers speak their implementation in the Operator Flow, they are speaking valid physical formalism. To be successful, it must be fast and physically formal enough for theorists to find it easier and more natural than hacking Matlab or NumPy, and the engineers must find it straightforward enough that they can learn it as a typical software library, and learn the physics naturally and effortlessly as they learn the code. There can never be a point where we say \"below this level this is all hacked out, don't come down here, stay in the interface layer above.\" It all must be clear and learnable."
   ]
  },
  {
   "cell_type": "markdown",
   "metadata": {},
   "source": [
    "### Basic Definitions\n",
    "\n",
    "Before getting into the details of the code, it's important to note that three mathematical concepts unpin the Operator Flow. We derive most of the inspiration for the code structure from [John Watrous's formalism](https://cs.uwaterloo.ca/~watrous/TQI/) (but do not follow it exactly), so it may be worthwhile to review Chapters I and II, which are free online, if you feel the concepts are not clicking.\n",
    "\n",
    "1. An $n-qubit State function$ is a complex function over $n$ binary variables, which we will often refer to as _n-qubit binary strings_. For example, the traditional quantum \"zero state\" is a 1-qubit state function, with a definition of $f(0) = 1$ and $f(1) = 0$.\n",
    "1. An $n-qubit Operator$ is a linear function taking n-qubit state functions to n-qubit state functions. For example, the Pauli X Operator is defined by $f(Zero) = One$ and $f(One) = Zero$. Equivalently, an Operator can be defined as a complex function over two n-qubit binary strings, and it is sometimes convenient to picture things this way. By this definition, our Pauli X can be defined by its typical matrix elements, $f(0, 0) = 0$, $f(1, 0) = 1$, $f(0, 1) = 1$, $f(1, 1) = 0$.\n",
    "1. An $n-qubit Measurement$ is a functional taking n-qubit State functions to complex values. For example, a Pauli Z Measurement can be defined by $f(Zero) = 0$ and $f(One) = 1$."
   ]
  },
  {
   "cell_type": "markdown",
   "metadata": {},
   "source": [
    "### High Level Object Structure\n",
    "\n",
    "The Operator Flow includes two primary groups of actors: \n",
    "* Operators, objects which represent functions or functionals, all deriving from `OperatorBase`: \n",
    "    * `PrimitiveOp`s - Operators whose behavior are defined by some internal computational primitive from Terra, such as a Terra's `Pauli` (`PauliOp`), `Operator` (`MatrixOp`), or `QuantumCircuit` (`CircuitOp`).\n",
    "    * `StateFn`s - A dual class for representing State functions and Measurements, the behavior of which is defined by some internal primitive, e.g. a simple dict (`DictStateFn`), Terra's `Statevector` (`VectorStateFn`), a `QuantumCircuit` (`CircuitStateFn`), or an OperatorBase representing a density operator (`OperatorStateFn`).\n",
    "    * `ListOp`s - Containers of PrimitiveOps or StateFns with a particular combination logic to be evaluated later, such as addition (`SummedOp`), composition (`ComposedOp`), tensor product (`TensoredOp`), and concatination into a list (`ListOp`).\n",
    "    * `EvolvedOp` - A special case of a `PrimitiveOp` holding an `Operatorbase` as its primitive, serving as a placeholder for an evolution algorithm to convert later into an Operator approximating the exponentiation of the `OperatorBase`.\n",
    "* Converters, objects which manipulate Operators, all deriving from `Converter`:\n",
    "    * `ExpectationValue`s - Traverse over an Operator and replace OperatorStateFn measurements into Z-basis or matrix measurements approximating the expectation value of the measurement.\n",
    "    * `Evolution`s - Traverse over an Operator and replace `EvolvedOp`s with circuits approximating the evolution.\n",
    "    * `CircuitSampler`s - Traverse over an Operator and replace `CircuitStateFn`s with `DictStateFn`s approximating them, perhaps sampled from a quantum device.\n",
    "    * Other converters, e.g. AbelianGrouper, PauliBasisChange\n",
    "    \n",
    "Don't worry if this seems like a whirlwind. We'll discuss each of these in detail in the next section."
   ]
  },
  {
   "cell_type": "markdown",
   "metadata": {
    "slideshow": {
     "slide_type": "slide"
    }
   },
   "source": [
    "## Part I: State Functions and Measurements\n",
    "\n",
    "The most basic unit of computation in the Operator Flow is the state function, abbreviated as StateFn, a simple complex function over binary variables. There are several StateFn instances built in for convenience, `Zero, One, Plus, Minus`, and four ways a StateFn can be defined, `DictStateFn, VectorStateFn, CircuitStateFn, OperatorStateFn`."
   ]
  },
  {
   "cell_type": "code",
   "execution_count": 1,
   "metadata": {
    "ExecuteTime": {
     "end_time": "2020-04-21T09:43:23.979037Z",
     "start_time": "2020-04-21T09:43:19.397864Z"
    }
   },
   "outputs": [],
   "source": [
    "from qiskit.aqua.operators import (StateFn, Zero, One, Plus, Minus, \n",
    "                                   DictStateFn, VectorStateFn, CircuitStateFn, OperatorStateFn)"
   ]
  },
  {
   "cell_type": "markdown",
   "metadata": {},
   "source": [
    "The function this object represents, mapping a binary string to a complex value, can be accessed via the `.eval` method."
   ]
  },
  {
   "cell_type": "code",
   "execution_count": 2,
   "metadata": {
    "ExecuteTime": {
     "end_time": "2020-04-21T09:43:23.984827Z",
     "start_time": "2020-04-21T09:43:23.980913Z"
    }
   },
   "outputs": [
    {
     "name": "stdout",
     "output_type": "stream",
     "text": [
      "DictStateFn({'0': 1})\n"
     ]
    }
   ],
   "source": [
    "print(Zero)"
   ]
  },
  {
   "cell_type": "code",
   "execution_count": 3,
   "metadata": {
    "ExecuteTime": {
     "end_time": "2020-04-21T09:43:24.001108Z",
     "start_time": "2020-04-21T09:43:23.987846Z"
    },
    "scrolled": true
   },
   "outputs": [
    {
     "name": "stdout",
     "output_type": "stream",
     "text": [
      "1.0\n",
      "0.0\n",
      "1.0\n",
      "(0.70710678118655+0j)\n",
      "(-0.70710678118655+0j)\n"
     ]
    }
   ],
   "source": [
    "print(Zero.eval('0'))\n",
    "print(Zero.eval('1'))\n",
    "print(One.eval('1'))\n",
    "print(Plus.eval('0'))\n",
    "print(Minus.eval('1'))"
   ]
  },
  {
   "cell_type": "markdown",
   "metadata": {},
   "source": [
    "This should look familiar as something analogous to the quantum state or wavefunctions you know, $|0\\rangle$, $|1\\rangle$, $|+\\rangle$, and $|-\\rangle$, but with a key difference: these statefunctions need not be normalized. `statefunction1 + statefunction2` behaves exactly as you'd expect mathematical functions to behave, producing a new function whose value for a given binary string is the sum of the corresponding values for a different function."
   ]
  },
  {
   "cell_type": "code",
   "execution_count": 4,
   "metadata": {
    "ExecuteTime": {
     "end_time": "2020-04-21T09:43:24.020589Z",
     "start_time": "2020-04-21T09:43:24.003143Z"
    }
   },
   "outputs": [
    {
     "name": "stdout",
     "output_type": "stream",
     "text": [
      "3.0\n",
      "(1.4142135623731+0j)\n",
      "0j\n"
     ]
    }
   ],
   "source": [
    "print((One + One + One).eval('1'))\n",
    "print((Plus + Minus).eval('0'))\n",
    "print((Plus + Minus).eval('1'))"
   ]
  },
  {
   "cell_type": "markdown",
   "metadata": {},
   "source": [
    "The behavior of each StateFn type is defined internally by some data structure, which we call the primitive, and a complex coefficient. The `DictStateFn` is the simplest type, holding a dict primitive of {string: complex} value pairs. `Zero` and `One` are simply these. Any value missing from the dict is simply equal to 0."
   ]
  },
  {
   "cell_type": "code",
   "execution_count": 12,
   "metadata": {
    "ExecuteTime": {
     "end_time": "2020-04-21T09:50:27.481633Z",
     "start_time": "2020-04-21T09:50:27.477162Z"
    }
   },
   "outputs": [
    {
     "name": "stdout",
     "output_type": "stream",
     "text": [
      "DictStateFn({'0': 1})\n",
      "DictStateFn({'1': 1})\n",
      "{'0': 1}\n",
      "1.0\n",
      "3.0\n",
      "2j\n"
     ]
    }
   ],
   "source": [
    "print(Zero)\n",
    "print(One)\n",
    "print(Zero.primitive)\n",
    "print(Zero.coeff)\n",
    "print((Zero + Zero + Zero).coeff)\n",
    "print((Zero * 2j).coeff)"
   ]
  },
  {
   "cell_type": "markdown",
   "metadata": {},
   "source": [
    "For simplicity, the `StateFn` class also doubles as the class for Measurement. The adjoint of a `StateFn` is simply a measurement defined by the same primitive as the state. This is conceptually identical to the idea that a bra is the adjoint of a ket, and it is convenient to think of it that way.\n",
    "\n",
    "Just as the State function over binary variables is accessible via `.eval`, so to the Measurement functional over State functions is available via `.eval`. As we'll see below, the availability of the underlying function through `.eval` is also true for the Operators."
   ]
  },
  {
   "cell_type": "code",
   "execution_count": 6,
   "metadata": {
    "ExecuteTime": {
     "end_time": "2020-04-21T09:43:24.039053Z",
     "start_time": "2020-04-21T09:43:24.029682Z"
    }
   },
   "outputs": [
    {
     "name": "stdout",
     "output_type": "stream",
     "text": [
      "DictMeasurement({'1': 1})\n",
      "0.0\n",
      "1.0\n",
      "(0.70710678118655+0j)\n"
     ]
    }
   ],
   "source": [
    "print(One.adjoint())\n",
    "print(Zero.adjoint().eval(One))\n",
    "print(Zero.adjoint().eval(Zero))\n",
    "print(Zero.adjoint().eval(Plus))"
   ]
  },
  {
   "cell_type": "markdown",
   "metadata": {},
   "source": [
    "Note that we can also perform function composition between a State function and measure using `.compose`, and `.eval` with no argument later."
   ]
  },
  {
   "cell_type": "code",
   "execution_count": 10,
   "metadata": {
    "ExecuteTime": {
     "end_time": "2020-04-21T09:46:29.067938Z",
     "start_time": "2020-04-21T09:46:29.060534Z"
    }
   },
   "outputs": [
    {
     "name": "stdout",
     "output_type": "stream",
     "text": [
      "0.0\n",
      "1.0\n",
      "(0.70710678118655+0j)\n"
     ]
    }
   ],
   "source": [
    "print(Zero.adjoint().compose(One).eval())\n",
    "print(Zero.adjoint().compose(Zero).eval())\n",
    "print(Zero.adjoint().compose(Plus).eval())"
   ]
  },
  {
   "cell_type": "markdown",
   "metadata": {},
   "source": [
    "Nearly all arithmetic operations between StateFns are supported, including:\n",
    "* `+` - addition\n",
    "* `-` - subtraction, negation (scalar multiplication by -1)\n",
    "* `*` - scalar multiplication\n",
    "* `\\` - scalar division\n",
    "* `@` - composition\n",
    "* `^` - tensor product or tensor power (tensor with self n times)\n",
    "* `**` - composition power (compose with self n times)\n",
    "* `==` - equality\n",
    "* `~` - adjoint, alternating between a State Function and Measurement\n",
    "\n",
    "This arithmetic, along with the Operators, allows quick and easy construction of many states for Quantum Algorithms. However, **one must be careful to use parentheses properly when performing arithmetic in this way.**"
   ]
  },
  {
   "cell_type": "code",
   "execution_count": 7,
   "metadata": {
    "ExecuteTime": {
     "end_time": "2020-04-21T09:43:24.045036Z",
     "start_time": "2020-04-21T09:43:24.040951Z"
    }
   },
   "outputs": [
    {
     "name": "stdout",
     "output_type": "stream",
     "text": [
      "DictStateFn({'11111': 1.0, '00000': 1.0}) * 600.0\n",
      "DictStateFn({'101010': 1})\n"
     ]
    }
   ],
   "source": [
    "print(600 * ((One^5) + (Zero^5)))\n",
    "print(One^Zero^3)"
   ]
  },
  {
   "cell_type": "markdown",
   "metadata": {},
   "source": [
    "States can also be easily converted between primitive. Below we'll see that we can also represent State functions by vectors and Quantum circuits."
   ]
  },
  {
   "cell_type": "code",
   "execution_count": 8,
   "metadata": {
    "ExecuteTime": {
     "end_time": "2020-04-21T09:43:24.066187Z",
     "start_time": "2020-04-21T09:43:24.049096Z"
    }
   },
   "outputs": [
    {
     "name": "stdout",
     "output_type": "stream",
     "text": [
      "VectorStateFn(Statevector([1.+0.j, 0.+0.j, 0.+0.j, 0.+0.j, 0.+0.j, 0.+0.j, 0.+0.j,\n",
      "             0.+0.j, 0.+0.j, 0.+0.j, 0.+0.j, 0.+0.j, 0.+0.j, 0.+0.j,\n",
      "             0.+0.j, 0.+0.j, 0.+0.j, 0.+0.j, 0.+0.j, 0.+0.j, 0.+0.j,\n",
      "             0.+0.j, 0.+0.j, 0.+0.j, 0.+0.j, 0.+0.j, 0.+0.j, 0.+0.j,\n",
      "             0.+0.j, 0.+0.j, 0.+0.j, 1.+0.j],\n",
      "            dims=(2, 2, 2, 2, 2)))\n",
      "CircuitStateFn(\n",
      "     ┌───┐┌───┐\n",
      "q_0: ┤ X ├┤ H ├\n",
      "     ├───┤└───┘\n",
      "q_1: ┤ H ├─────\n",
      "     ├───┤┌───┐\n",
      "q_2: ┤ X ├┤ H ├\n",
      "     ├───┤└───┘\n",
      "q_3: ┤ H ├─────\n",
      "     ├───┤┌───┐\n",
      "q_4: ┤ X ├┤ H ├\n",
      "     ├───┤└───┘\n",
      "q_5: ┤ H ├─────\n",
      "     ├───┤┌───┐\n",
      "q_6: ┤ X ├┤ H ├\n",
      "     ├───┤└───┘\n",
      "q_7: ┤ H ├─────\n",
      "     └───┘     \n",
      ")\n"
     ]
    }
   ],
   "source": [
    "print(((One^5) + (Zero^5)).to_matrix_op())\n",
    "print(((Plus^Minus^Plus^Minus)^2).to_circuit_op())"
   ]
  },
  {
   "cell_type": "markdown",
   "metadata": {},
   "source": [
    "In fact, `Plus` and Minus are `CircuitStateFn`s."
   ]
  },
  {
   "cell_type": "code",
   "execution_count": 9,
   "metadata": {
    "ExecuteTime": {
     "end_time": "2020-04-21T09:43:42.720820Z",
     "start_time": "2020-04-21T09:43:42.716020Z"
    }
   },
   "outputs": [
    {
     "name": "stdout",
     "output_type": "stream",
     "text": [
      "CircuitStateFn(\n",
      "     ┌───┐\n",
      "q_0: ┤ H ├\n",
      "     └───┘\n",
      ")\n",
      "CircuitStateFn(\n",
      "     ┌───┐┌───┐\n",
      "q_0: ┤ X ├┤ H ├\n",
      "     └───┘└───┘\n",
      ")\n"
     ]
    }
   ],
   "source": [
    "print(Plus)\n",
    "print(Minus)"
   ]
  },
  {
   "cell_type": "code",
   "execution_count": null,
   "metadata": {},
   "outputs": [],
   "source": []
  },
  {
   "cell_type": "code",
   "execution_count": 1,
   "metadata": {
    "ExecuteTime": {
     "end_time": "2020-04-19T23:18:45.475366Z",
     "start_time": "2020-04-19T23:18:42.224548Z"
    }
   },
   "outputs": [],
   "source": [
    "import numpy as np\n",
    "from qiskit.aqua.operators import I, X, Y, Z, H, CX, Zero, ListOp, PauliExpectation, PauliTrotterEvolution\n",
    "from qiskit.circuit import Parameter"
   ]
  },
  {
   "cell_type": "markdown",
   "metadata": {},
   "source": [
    "## Construct an H2 Hamiltonian"
   ]
  },
  {
   "cell_type": "code",
   "execution_count": 2,
   "metadata": {
    "ExecuteTime": {
     "end_time": "2020-04-19T23:18:45.481988Z",
     "start_time": "2020-04-19T23:18:45.477514Z"
    }
   },
   "outputs": [],
   "source": [
    "two_qubit_H2 =  (-1.0523732 * I^I) + \\\n",
    "                (0.39793742 * I^Z) + \\\n",
    "                (-0.3979374 * Z^I) + \\\n",
    "                (-0.0112801 * Z^Z) + \\\n",
    "                (0.18093119 * X^X)"
   ]
  },
  {
   "cell_type": "markdown",
   "metadata": {},
   "source": [
    "## Evolve a Bell state by Our Hamiltonian\n",
    "\n",
    "OpFlow fully supports parameterization, so we can use a parameter for our evolution time here. Notice that there's no \"evolution time\" argument in any function. OpFlow exponentiates whatever operator we tell it to, and if we choose to multiply the operator by an evolution time, $e^{iHt}$, that will be refected in our exponentiation parameters. This is not some trick to make it look like Physics - it actually works this way under the hood."
   ]
  },
  {
   "cell_type": "code",
   "execution_count": 21,
   "metadata": {
    "ExecuteTime": {
     "end_time": "2020-04-19T23:21:26.901592Z",
     "start_time": "2020-04-19T23:21:26.850841Z"
    }
   },
   "outputs": [
    {
     "data": {
      "text/html": [
       "<pre style=\"word-wrap: normal;white-space: pre;background: #fff0;line-height: 1.1;font-family: &quot;Courier New&quot;,Courier,monospace\">               ┌───┐┌───┐┌──────────────────┐┌───┐┌───┐┌───┐┌──────────────────┐┌───┐┌──────────────────┐\n",
       "q_0: ───────■──┤ H ├┤ X ├┤ Rz(0.18093119*θ) ├┤ X ├┤ H ├┤ X ├┤ Rz(-0.0112801*θ) ├┤ X ├┤ Rz(0.39793742*θ) ├\n",
       "     ┌───┐┌─┴─┐├───┤└─┬─┘└──────────────────┘└─┬─┘├───┤└─┬─┘└──────────────────┘└─┬─┘├──────────────────┤\n",
       "q_1: ┤ H ├┤ X ├┤ H ├──■────────────────────────■──┤ H ├──■────────────────────────■──┤ Rz(-0.3979374*θ) ├\n",
       "     └───┘└───┘└───┘                              └───┘                              └──────────────────┘</pre>"
      ],
      "text/plain": [
       "               ┌───┐┌───┐┌──────────────────┐┌───┐┌───┐┌───┐┌──────────────────┐┌───┐┌──────────────────┐\n",
       "q_0: ───────■──┤ H ├┤ X ├┤ Rz(0.18093119*θ) ├┤ X ├┤ H ├┤ X ├┤ Rz(-0.0112801*θ) ├┤ X ├┤ Rz(0.39793742*θ) ├\n",
       "     ┌───┐┌─┴─┐├───┤└─┬─┘└──────────────────┘└─┬─┘├───┤└─┬─┘└──────────────────┘└─┬─┘├──────────────────┤\n",
       "q_1: ┤ H ├┤ X ├┤ H ├──■────────────────────────■──┤ H ├──■────────────────────────■──┤ Rz(-0.3979374*θ) ├\n",
       "     └───┘└───┘└───┘                              └───┘                              └──────────────────┘"
      ]
     },
     "execution_count": 21,
     "metadata": {},
     "output_type": "execute_result"
    }
   ],
   "source": [
    "# Meaningless state\n",
    "bell = CX @ (H^I) @ Zero\n",
    "# We can also do CX @ (Plus ^ Zero)\n",
    "evo_time = Parameter('θ')\n",
    "wf = (evo_time*two_qubit_H2).exp_i() @ bell\n",
    "trot = PauliTrotterEvolution(trotter_mode='trotter').convert(wf)\n",
    "trot.to_circuit().draw(fold=1000)\n",
    "# trot.to_circuit().data[0]"
   ]
  },
  {
   "cell_type": "markdown",
   "metadata": {},
   "source": [
    "We can bind our parameter to the operator if we so choose, and it will recursively bind into the circuit."
   ]
  },
  {
   "cell_type": "code",
   "execution_count": 9,
   "metadata": {
    "ExecuteTime": {
     "end_time": "2020-04-19T23:19:11.758072Z",
     "start_time": "2020-04-19T23:19:11.749148Z"
    }
   },
   "outputs": [
    {
     "data": {
      "text/html": [
       "<pre style=\"word-wrap: normal;white-space: pre;background: #fff0;line-height: 1.1;font-family: &quot;Courier New&quot;,Courier,monospace\">               ┌───┐┌───┐┌────────────────────────┐┌───┐┌───┐┌───┐┌──────────────────────────┐┌───┐┌───────────────────────┐ \n",
       "q_0: ───────■──┤ H ├┤ X ├┤ Rz(0.0904655950000000) ├┤ X ├┤ H ├┤ X ├┤ Rz(-0.00564005000000000) ├┤ X ├┤ Rz(0.198968710000000) ├─\n",
       "     ┌───┐┌─┴─┐├───┤└─┬─┘└────────────────────────┘└─┬─┘├───┤└─┬─┘└──────────────────────────┘└─┬─┘├───────────────────────┴┐\n",
       "q_1: ┤ H ├┤ X ├┤ H ├──■──────────────────────────────■──┤ H ├──■────────────────────────────────■──┤ Rz(-0.198968700000000) ├\n",
       "     └───┘└───┘└───┘                                    └───┘                                      └────────────────────────┘</pre>"
      ],
      "text/plain": [
       "               ┌───┐┌───┐┌────────────────────────┐┌───┐┌───┐┌───┐┌──────────────────────────┐┌───┐┌───────────────────────┐ \n",
       "q_0: ───────■──┤ H ├┤ X ├┤ Rz(0.0904655950000000) ├┤ X ├┤ H ├┤ X ├┤ Rz(-0.00564005000000000) ├┤ X ├┤ Rz(0.198968710000000) ├─\n",
       "     ┌───┐┌─┴─┐├───┤└─┬─┘└────────────────────────┘└─┬─┘├───┤└─┬─┘└──────────────────────────┘└─┬─┘├───────────────────────┴┐\n",
       "q_1: ┤ H ├┤ X ├┤ H ├──■──────────────────────────────■──┤ H ├──■────────────────────────────────■──┤ Rz(-0.198968700000000) ├\n",
       "     └───┘└───┘└───┘                                    └───┘                                      └────────────────────────┘"
      ]
     },
     "execution_count": 9,
     "metadata": {},
     "output_type": "execute_result"
    }
   ],
   "source": [
    "bound = trot.bind_parameters({evo_time: .5})\n",
    "bound.to_circuit().draw(fold=1000)"
   ]
  },
  {
   "cell_type": "markdown",
   "metadata": {},
   "source": [
    "## Now that we have a state, let's measure the energy of the state"
   ]
  },
  {
   "cell_type": "code",
   "execution_count": 10,
   "metadata": {
    "ExecuteTime": {
     "end_time": "2020-04-19T23:19:14.321555Z",
     "start_time": "2020-04-19T23:19:14.195988Z"
    }
   },
   "outputs": [
    {
     "data": {
      "text/plain": [
       "(-0.6454481153515621+0j)"
      ]
     },
     "execution_count": 10,
     "metadata": {},
     "output_type": "execute_result"
    }
   ],
   "source": [
    "from qiskit import BasicAer\n",
    "backend = BasicAer.get_backend('qasm_simulator')\n",
    "\n",
    "PauliExpectation(operator=two_qubit_H2, backend=backend).compute_expectation(bound)"
   ]
  },
  {
   "cell_type": "markdown",
   "metadata": {},
   "source": [
    "### Why We Call it OpFlow\n",
    "\n",
    "The power of OpFlow is that everything is an Operator, so we can ask PauliExpectation for the intermediate operator it generated before it used a Circuit sampler to replace the circuits with dicts:"
   ]
  },
  {
   "cell_type": "code",
   "execution_count": 11,
   "metadata": {
    "ExecuteTime": {
     "end_time": "2020-04-19T23:19:17.080213Z",
     "start_time": "2020-04-19T23:19:17.059444Z"
    },
    "scrolled": true
   },
   "outputs": [
    {
     "name": "stdout",
     "output_type": "stream",
     "text": [
      "SummedOp(\n",
      "[ComposedOp(\n",
      "[Measurement(SummedOp(\n",
      "[0.18093119 * ZZ,\n",
      "-1.0523732 * II])),\n",
      "StateFunction(\n",
      "               ┌───┐┌───┐┌────────────────────────┐┌───┐┌───┐┌───┐»\n",
      "q_0: ───────■──┤ H ├┤ X ├┤ Rz(0.0904655950000000) ├┤ X ├┤ H ├┤ X ├»\n",
      "     ┌───┐┌─┴─┐├───┤└─┬─┘└────────────────────────┘└─┬─┘├───┤└─┬─┘»\n",
      "q_1: ┤ H ├┤ X ├┤ H ├──■──────────────────────────────■──┤ H ├──■──»\n",
      "     └───┘└───┘└───┘                                    └───┘     »\n",
      "«     ┌──────────────────────────┐┌───┐┌───────────────────────┐ ┌───┐\n",
      "«q_0: ┤ Rz(-0.00564005000000000) ├┤ X ├┤ Rz(0.198968710000000) ├─┤ H ├\n",
      "«     └──────────────────────────┘└─┬─┘├───────────────────────┴┐├───┤\n",
      "«q_1: ──────────────────────────────■──┤ Rz(-0.198968700000000) ├┤ H ├\n",
      "«                                      └────────────────────────┘└───┘\n",
      ")]),\n",
      "ComposedOp(\n",
      "[Measurement(SummedOp(\n",
      "[0.39793742 * IZ,\n",
      "-0.3979374 * ZI,\n",
      "-0.0112801 * ZZ])),\n",
      "StateFunction(\n",
      "               ┌───┐┌───┐┌────────────────────────┐┌───┐┌───┐┌───┐»\n",
      "q_0: ───────■──┤ H ├┤ X ├┤ Rz(0.0904655950000000) ├┤ X ├┤ H ├┤ X ├»\n",
      "     ┌───┐┌─┴─┐├───┤└─┬─┘└────────────────────────┘└─┬─┘├───┤└─┬─┘»\n",
      "q_1: ┤ H ├┤ X ├┤ H ├──■──────────────────────────────■──┤ H ├──■──»\n",
      "     └───┘└───┘└───┘                                    └───┘     »\n",
      "«     ┌──────────────────────────┐┌───┐┌───────────────────────┐ \n",
      "«q_0: ┤ Rz(-0.00564005000000000) ├┤ X ├┤ Rz(0.198968710000000) ├─\n",
      "«     └──────────────────────────┘└─┬─┘├───────────────────────┴┐\n",
      "«q_1: ──────────────────────────────■──┤ Rz(-0.198968700000000) ├\n",
      "«                                      └────────────────────────┘\n",
      ")])])\n"
     ]
    }
   ],
   "source": [
    "expect_op = PauliExpectation(operator=two_qubit_H2, backend=backend).expectation_op(bound)\n",
    "print(expect_op)"
   ]
  },
  {
   "cell_type": "markdown",
   "metadata": {},
   "source": [
    "### We can just as easily take the Expectation over a _vector_ of Pauli Operators."
   ]
  },
  {
   "cell_type": "code",
   "execution_count": 16,
   "metadata": {
    "ExecuteTime": {
     "end_time": "2020-04-19T23:20:03.235448Z",
     "start_time": "2020-04-19T23:20:03.059573Z"
    }
   },
   "outputs": [
    {
     "data": {
      "text/plain": [
       "[(0.01953125+0j),\n",
       " (0.013671874999999917+0j),\n",
       " (0.060546875+0j),\n",
       " (-0.6361677128906251+0j)]"
      ]
     },
     "execution_count": 16,
     "metadata": {},
     "output_type": "execute_result"
    }
   ],
   "source": [
    "ham_list = ListOp([X^X, Y^Y, Z^Z, two_qubit_H2])\n",
    "expect = PauliExpectation(operator=ham_list, backend=backend).compute_expectation(bound)\n",
    "expect"
   ]
  },
  {
   "cell_type": "markdown",
   "metadata": {},
   "source": [
    "### We Can Even Take the Expectation of a vector of Observables over a vector of StateFns"
   ]
  },
  {
   "cell_type": "code",
   "execution_count": 17,
   "metadata": {
    "ExecuteTime": {
     "end_time": "2020-04-19T23:20:27.339070Z",
     "start_time": "2020-04-19T23:20:27.020891Z"
    }
   },
   "outputs": [
    {
     "data": {
      "text/plain": [
       "array([[ 0.02 ,  0.006, -0.018, -0.64 ],\n",
       "       [ 0.094,  0.062, -0.029, -0.661],\n",
       "       [ 0.145,  0.07 ,  0.014, -0.632]])"
      ]
     },
     "execution_count": 17,
     "metadata": {},
     "output_type": "execute_result"
    }
   ],
   "source": [
    "# Here we're using PauliExpectation's param argument instead of passing the bound OpVec below in case we can \n",
    "# take advantage of late binding / parameterized Qobj\n",
    "params = {evo_time: [.5, 1.0, 1.5]}\n",
    "expects = PauliExpectation(operator=ham_list, backend=backend).compute_expectation(trot, params=params)\n",
    "np.real(np.around(expects, decimals=3))"
   ]
  },
  {
   "cell_type": "markdown",
   "metadata": {},
   "source": [
    "### Parameter binding also supports binding lists"
   ]
  },
  {
   "cell_type": "code",
   "execution_count": 18,
   "metadata": {
    "ExecuteTime": {
     "end_time": "2020-04-19T23:20:33.943634Z",
     "start_time": "2020-04-19T23:20:33.927216Z"
    },
    "scrolled": true
   },
   "outputs": [
    {
     "name": "stdout",
     "output_type": "stream",
     "text": [
      "ListOp(\n",
      "[StateFunction(\n",
      "               ┌───┐┌───┐┌────────────────────────┐┌───┐┌───┐┌───┐»\n",
      "q_0: ───────■──┤ H ├┤ X ├┤ Rz(0.0904655950000000) ├┤ X ├┤ H ├┤ X ├»\n",
      "     ┌───┐┌─┴─┐├───┤└─┬─┘└────────────────────────┘└─┬─┘├───┤└─┬─┘»\n",
      "q_1: ┤ H ├┤ X ├┤ H ├──■──────────────────────────────■──┤ H ├──■──»\n",
      "     └───┘└───┘└───┘                                    └───┘     »\n",
      "«     ┌──────────────────────────┐┌───┐┌───────────────────────┐ \n",
      "«q_0: ┤ Rz(-0.00564005000000000) ├┤ X ├┤ Rz(0.198968710000000) ├─\n",
      "«     └──────────────────────────┘└─┬─┘├───────────────────────┴┐\n",
      "«q_1: ──────────────────────────────■──┤ Rz(-0.198968700000000) ├\n",
      "«                                      └────────────────────────┘\n",
      "),\n",
      "StateFunction(\n",
      "               ┌───┐┌───┐┌───────────────────────┐┌───┐┌───┐┌───┐»\n",
      "q_0: ───────■──┤ H ├┤ X ├┤ Rz(0.180931190000000) ├┤ X ├┤ H ├┤ X ├»\n",
      "     ┌───┐┌─┴─┐├───┤└─┬─┘└───────────────────────┘└─┬─┘├───┤└─┬─┘»\n",
      "q_1: ┤ H ├┤ X ├┤ H ├──■─────────────────────────────■──┤ H ├──■──»\n",
      "     └───┘└───┘└───┘                                   └───┘     »\n",
      "«     ┌─────────────────────────┐┌───┐┌───────────────────────┐ \n",
      "«q_0: ┤ Rz(-0.0112801000000000) ├┤ X ├┤ Rz(0.397937420000000) ├─\n",
      "«     └─────────────────────────┘└─┬─┘├───────────────────────┴┐\n",
      "«q_1: ─────────────────────────────■──┤ Rz(-0.397937400000000) ├\n",
      "«                                     └────────────────────────┘\n",
      "),\n",
      "StateFunction(\n",
      "               ┌───┐┌───┐┌───────────────────────┐┌───┐┌───┐┌───┐»\n",
      "q_0: ───────■──┤ H ├┤ X ├┤ Rz(0.271396785000000) ├┤ X ├┤ H ├┤ X ├»\n",
      "     ┌───┐┌─┴─┐├───┤└─┬─┘└───────────────────────┘└─┬─┘├───┤└─┬─┘»\n",
      "q_1: ┤ H ├┤ X ├┤ H ├──■─────────────────────────────■──┤ H ├──■──»\n",
      "     └───┘└───┘└───┘                                   └───┘     »\n",
      "«     ┌─────────────────────────┐┌───┐┌───────────────────────┐ \n",
      "«q_0: ┤ Rz(-0.0169201500000000) ├┤ X ├┤ Rz(0.596906130000000) ├─\n",
      "«     └─────────────────────────┘└─┬─┘├───────────────────────┴┐\n",
      "«q_1: ─────────────────────────────■──┤ Rz(-0.596906100000000) ├\n",
      "«                                     └────────────────────────┘\n",
      ")])\n"
     ]
    }
   ],
   "source": [
    "print(trot.bind_parameters(params))"
   ]
  },
  {
   "cell_type": "code",
   "execution_count": null,
   "metadata": {},
   "outputs": [],
   "source": []
  }
 ],
 "metadata": {
  "celltoolbar": "Slideshow",
  "kernelspec": {
   "display_name": "code",
   "language": "python",
   "name": "code"
  },
  "language_info": {
   "codemirror_mode": {
    "name": "ipython",
    "version": 3
   },
   "file_extension": ".py",
   "mimetype": "text/x-python",
   "name": "python",
   "nbconvert_exporter": "python",
   "pygments_lexer": "ipython3",
   "version": "3.7.4"
  },
  "toc": {
   "base_numbering": 1,
   "nav_menu": {},
   "number_sections": true,
   "sideBar": true,
   "skip_h1_title": true,
   "title_cell": "Table of Contents",
   "title_sidebar": "Contents",
   "toc_cell": false,
   "toc_position": {},
   "toc_section_display": true,
   "toc_window_display": true
  }
 },
 "nbformat": 4,
 "nbformat_minor": 2
}
