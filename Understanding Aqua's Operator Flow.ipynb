{
 "cells": [
  {
   "cell_type": "markdown",
   "metadata": {
    "slideshow": {
     "slide_type": "slide"
    }
   },
   "source": [
    "# Understanding Aqua's Operator Flow\n",
    "\n",
    "_donny@, 30-Apr-20_"
   ]
  },
  {
   "cell_type": "markdown",
   "metadata": {},
   "source": [
    "## Overview\n",
    "\n",
    "A library for Quantum Algorithms & Applications is more than a collection of procedural code wrapped in Python functions. It needs to provide tools to make writing algorithms simple and easy. This is the layer of modules between the circuits and algorithms, providing the language and computational primitives for Quantum algorithms research.\n",
    "\n",
    "In Aqua, we call this layer the Operator flow. It works by unifying computation with theory through the common language of functions and operators in a way which preserves physical intuition and programming freedom. In the Operator flow, we construct functions over binary variables, manipulate those functions with operators, and evaluate properties of these functions with measurements. \n",
    "\n",
    "Below, we'll describe the key players in the Operator flow, and show some examples of how they can be used to construct some familiar quantum algorithms. This notebook assumes a basic familiarity with Quantum Algorithms.\n",
    "\n",
    "**Note: The Operator flow is a large and self-referential system. Do not worry if you don't immediately feel comfortable with all of its moving parts - like any system of abstractions, it can take time and play to feel comfortable. We feel that this is a worthwhile investment, as once you begin to feel comfortable with the system, algorithm development is super fast and easy.**"
   ]
  },
  {
   "cell_type": "markdown",
   "metadata": {},
   "source": [
    "### Basic Design Ideas\n",
    "\n",
    "* Batteries Included - We prioritize quick and easy access to the tools you're most likely to reach for when prototyping.\n",
    "\n",
    "* Physically Formal - The Operator flow was built to be mathematically formal down to its very bottom primitives, so that it may serve as a lingua franca between the theory and implementation of Quantum algorithms.\n",
    "\n",
    "* Powerful OR Readable - We've tried to let any operation be as succinct or verbose as you want it to be, including both rich syntactic sugar and long-form interfaces.\n",
    "\n",
    "* Fast by Default - We use thoughtfully selected defaults so that algorithms run as fast as possible at many scales, and so you only need to toggle the settings you care about. We want you to be able to trust that we're running your problem as fast as we can, and if you find a way to run it faster, you should [let us know!](https://github.com/Qiskit/qiskit-aqua/issues)"
   ]
  },
  {
   "cell_type": "markdown",
   "metadata": {},
   "source": [
    "### Basic Definitions\n",
    "\n",
    "Before getting into the details of the code, it's important to note that three mathematical concepts unpin the Operator Flow. We derive most of the inspiration for the code structure from [John Watrous's formalism](https://cs.uwaterloo.ca/~watrous/TQI/) (but do not follow it exactly), so it may be worthwhile to review Chapters I and II, which are free online, if you feel the concepts are not clicking.\n",
    "\n",
    "1. An $n$-qubit State function is a complex function over $n$ binary variables, which we will often refer to as _$n$-qubit binary strings_. For example, the traditional quantum \"zero state\" is a 1-qubit state function, with a definition of $Zero(0) = 1$ and $Zero(1) = 0$. It is often convenient to think about State functions as traditional kets (i.e. $Zero = |0\\rangle$), but be warned, **State functions need not be normalized.** They are just functions.\n",
    "\n",
    "1. An $n$-qubit Operator is a linear function taking $n$-qubit state functions to $n$-qubit state functions. For example, the Pauli X Operator is defined by $X(Zero) = One$ and $X(One) = Zero$. Therefore, $X(Zero)(0) = 0$. Equivalently, an Operator can be defined as a complex function over two n-qubit binary strings, and it is sometimes convenient to picture things this way. By this definition, our Pauli X can be defined by its typical matrix elements, $X(0, 0) = 0$, $X(1, 0) = 1$, $X(0, 1) = 1$, $X(1, 1) = 0$. In Aqua, our Operators are all binary, square Operators.\n",
    "\n",
    "1. An $n-qubit Measurement$ is a functional taking n-qubit State functions to complex values. For example, a Pauli Z Measurement can be defined by $Z_{meas}(Zero) = 1$ and $Z_{meas}(One) = -1$. Measurements are simply adjoints of State Functions, and can be imagined by quantum mechanics' _bra_ notation (i.e. $Zero_{meas} = Zero^{\\dagger} = \\langle 0|$). Note that $Z_{meas}$ above is equivalent to $1 - 2*(\\langle Zero| + \\langle One|)$.\n",
    "\n",
    "**Throughout this tutorial, we will refer to the mathematical function that an Object represents as that Object's *underlying function*.**\n",
    "\n",
    "**TODO is \"characteristic function\" better?**\n",
    "\n",
    "Note that a full expression can be written to ways:\n",
    "* As function chaining: $Z(X(Zero))(0) = 0$\n",
    "* As function composition: $Zero_{meas} \\circ Z \\circ X \\circ Zero = 0$\n",
    "\n",
    "In the Operator flow, chaining is used via the `.eval()` method, while composition is used via `.compose()` or `@` (more on this below)."
   ]
  },
  {
   "cell_type": "markdown",
   "metadata": {},
   "source": [
    "### High Level Object Structure\n",
    "\n",
    "The Operator Flow includes two primary groups of actors: \n",
    "* Operators, objects which represent functions or functionals, all deriving from `OperatorBase`: \n",
    "    * `PrimitiveOp`s - Basic Operator building blocks, whose behavior are defined by some internal computational primitive from Terra, such as a Terra's `Pauli` (`PauliOp`), `Operator` (`MatrixOp`), or `QuantumCircuit` (`CircuitOp`).\n",
    "    * `StateFn`s - A class for representing both State functions and Measurements, the behavior of which is defined by some internal primitive, e.g. a simple dict (`DictStateFn`), Terra's `Statevector` (`VectorStateFn`), a `QuantumCircuit` (`CircuitStateFn`), or an OperatorBase representing a density operator (`OperatorStateFn`).\n",
    "    * `ListOp`s - Classes for representing composite Operators, State functions, and Measurements constructed from expressions of others, such as addition (`SummedOp`), composition (`ComposedOp`), tensor product (`TensoredOp`), and concatination into a list (`ListOp`).\n",
    "    * `EvolvedOp` - A special case of a `PrimitiveOp` holding an `Operatorbase` as its primitive, serving as a placeholder for an evolution algorithm to convert later into an Operator approximating the exponentiation of the `OperatorBase`.\n",
    "* Converters, objects which manipulate Operators, all deriving from `ConverterBase`:\n",
    "    * `Expectation`s - Traverse over an Operator and replace OperatorStateFn measurements into Z-basis or matrix measurements approximating the expectation value of the measurement.\n",
    "    * `Evolution`s - Traverse over an Operator and replace `EvolvedOp`s with circuits approximating the evolution.\n",
    "    * `CircuitSampler` - Traverse over an Operator and replace `CircuitStateFn`s with `DictStateFn`s approximating them, perhaps sampled from a quantum device.\n",
    "    * Other converters, e.g. AbelianGrouper, PauliBasisChange\n",
    "    \n",
    "Don't worry if this seems like a whirlwind. We'll discuss each of these in detail in the next section."
   ]
  },
  {
   "cell_type": "markdown",
   "metadata": {
    "slideshow": {
     "slide_type": "slide"
    }
   },
   "source": [
    "## Part I: State Functions and Measurements\n",
    "\n",
    "The most basic unit of computation in the Operator Flow is the state function, abbreviated as StateFn, a simple complex function over binary variables. There are several StateFn instances built in for convenience, `Zero, One, Plus, Minus`, and four ways a StateFn can be defined, `DictStateFn, VectorStateFn, CircuitStateFn, OperatorStateFn`.\n",
    "\n",
    "Every `StateFn` has three properties:\n",
    "* `primitive` - The data structure defining the underlying function's behavior. For `DictStateFn`, this object is a `dict`, etc.\n",
    "* `coeff` - A coefficient multiplying the function, i.e. `StateFn(my_primitive, coeff=3) == StateFn(my_primitive) * 3`. Note that `coeff` can be int, float, complex or a free `Parameter` object (Terra) to be bound later.\n",
    "* `is_measurement` - Whether this `StateFn` is a state function or a measurement (remember, a measurement is just the adjoint of a state function)."
   ]
  },
  {
   "cell_type": "code",
   "execution_count": 1,
   "metadata": {
    "ExecuteTime": {
     "end_time": "2020-05-12T01:22:31.252611Z",
     "start_time": "2020-05-12T01:22:28.330468Z"
    }
   },
   "outputs": [],
   "source": [
    "from qiskit.aqua.operators import (StateFn, Zero, One, Plus, Minus, \n",
    "                                   DictStateFn, VectorStateFn, CircuitStateFn, OperatorStateFn)"
   ]
  },
  {
   "cell_type": "code",
   "execution_count": 2,
   "metadata": {
    "ExecuteTime": {
     "end_time": "2020-05-12T01:22:31.260686Z",
     "start_time": "2020-05-12T01:22:31.255429Z"
    }
   },
   "outputs": [
    {
     "name": "stdout",
     "output_type": "stream",
     "text": [
      "DictStateFn({'0': 1})\n",
      "DictMeasurement({'0': 1})\n"
     ]
    }
   ],
   "source": [
    "print(Zero)\n",
    "print(Zero.adjoint())"
   ]
  },
  {
   "cell_type": "markdown",
   "metadata": {},
   "source": [
    "The function this object represents, mapping a binary string to a complex value, can be accessed via the `.eval` method."
   ]
  },
  {
   "cell_type": "code",
   "execution_count": 3,
   "metadata": {
    "ExecuteTime": {
     "end_time": "2020-05-12T01:22:31.280204Z",
     "start_time": "2020-05-12T01:22:31.265590Z"
    },
    "scrolled": true
   },
   "outputs": [
    {
     "name": "stdout",
     "output_type": "stream",
     "text": [
      "1.0\n",
      "0.0\n",
      "1.0\n",
      "(0.70710678118655+0j)\n",
      "(-0.70710678118655+0j)\n"
     ]
    }
   ],
   "source": [
    "print(Zero.eval('0'))\n",
    "print(Zero.eval('1'))\n",
    "print(One.eval('1'))\n",
    "print(Plus.eval('0'))\n",
    "print(Minus.eval('1'))"
   ]
  },
  {
   "cell_type": "markdown",
   "metadata": {},
   "source": [
    "This should look familiar as something analogous to the quantum state or wavefunctions you know, $|0\\rangle$, $|1\\rangle$, $|+\\rangle$, and $|-\\rangle$, but with a key difference: these statefunctions need not be normalized. `statefunction1 + statefunction2` behaves exactly as you'd expect mathematical functions to behave, producing `statefunction3`, where `statefunction3(x) = statefunction1(x) + statefunction2(x)`."
   ]
  },
  {
   "cell_type": "code",
   "execution_count": 4,
   "metadata": {
    "ExecuteTime": {
     "end_time": "2020-05-12T01:22:31.301464Z",
     "start_time": "2020-05-12T01:22:31.282794Z"
    }
   },
   "outputs": [
    {
     "name": "stdout",
     "output_type": "stream",
     "text": [
      "3.0\n",
      "DictStateFn({'1': 1}) * 3.0\n",
      "(1.4142135623731+0j)\n",
      "0j\n",
      "ComposedOp(\n",
      "[CircuitMeasurement(\n",
      "     ┌───┐\n",
      "q_0: ┤ H ├\n",
      "     └───┘\n",
      "),\n",
      "DictStateFn({'0': 1})])\n"
     ]
    }
   ],
   "source": [
    "print((One + One + One).eval('1'))\n",
    "print((One + One + One))\n",
    "print((Plus + Minus).eval('0'))\n",
    "print((Plus + Minus).eval('1'))\n",
    "\n",
    "print(~Plus @ Zero)"
   ]
  },
  {
   "cell_type": "markdown",
   "metadata": {},
   "source": [
    "The behavior of each StateFn type is defined internally by some data structure, which we call the primitive, and a complex coefficient. The `DictStateFn` is the simplest type, holding a dict primitive of {string: complex} value pairs. `Zero` and `One` are simply these. Any value missing from the dict is simply equal to 0."
   ]
  },
  {
   "cell_type": "code",
   "execution_count": 5,
   "metadata": {
    "ExecuteTime": {
     "end_time": "2020-05-12T01:22:31.309579Z",
     "start_time": "2020-05-12T01:22:31.303234Z"
    }
   },
   "outputs": [
    {
     "name": "stdout",
     "output_type": "stream",
     "text": [
      "DictStateFn({'0': 1})\n",
      "DictStateFn({'1': 1})\n",
      "{'0': 1}\n",
      "1.0\n",
      "3.0\n",
      "2j\n"
     ]
    }
   ],
   "source": [
    "print(Zero)\n",
    "print(One)\n",
    "print(Zero.primitive)\n",
    "print(Zero.coeff)\n",
    "print((Zero + Zero + Zero).coeff)\n",
    "print((Zero * 2j).coeff)"
   ]
  },
  {
   "cell_type": "markdown",
   "metadata": {},
   "source": [
    "For simplicity, the `StateFn` class also doubles as the class for Measurement. The adjoint of a `StateFn` is simply a measurement defined by the same primitive as the state. This is conceptually identical to the idea that a bra is the adjoint of a ket, and it is convenient to think of it that way.\n",
    "\n",
    "Just as the State function over binary variables is accessible via `.eval`, so to the Measurement functional over State functions is available via `.eval`. As we'll see below, the availability of the underlying function through `.eval` is also true for the Operators."
   ]
  },
  {
   "cell_type": "code",
   "execution_count": 6,
   "metadata": {
    "ExecuteTime": {
     "end_time": "2020-05-12T01:22:31.321699Z",
     "start_time": "2020-05-12T01:22:31.312815Z"
    }
   },
   "outputs": [
    {
     "name": "stdout",
     "output_type": "stream",
     "text": [
      "DictMeasurement({'1': 1})\n",
      "0.0\n",
      "1.0\n",
      "(0.70710678118655+0j)\n"
     ]
    }
   ],
   "source": [
    "print(One.adjoint())\n",
    "print(Zero.adjoint().eval(One))\n",
    "print(Zero.adjoint().eval(Zero))\n",
    "print(Zero.adjoint().eval(Plus))"
   ]
  },
  {
   "cell_type": "markdown",
   "metadata": {},
   "source": [
    "Note that we can also perform function composition between a State function and measure using `.compose`, and `.eval` with no argument later."
   ]
  },
  {
   "cell_type": "code",
   "execution_count": 7,
   "metadata": {
    "ExecuteTime": {
     "end_time": "2020-05-12T01:22:31.333391Z",
     "start_time": "2020-05-12T01:22:31.325454Z"
    }
   },
   "outputs": [
    {
     "name": "stdout",
     "output_type": "stream",
     "text": [
      "0.0\n",
      "1.0\n",
      "(0.70710678118655+0j)\n"
     ]
    }
   ],
   "source": [
    "print(Zero.adjoint().compose(One).eval())\n",
    "print(Zero.adjoint().compose(Zero).eval())\n",
    "print(Zero.adjoint().compose(Plus).eval())"
   ]
  },
  {
   "cell_type": "markdown",
   "metadata": {},
   "source": [
    "Nearly all arithmetic operations between StateFns are supported, including:\n",
    "* `+` - addition\n",
    "* `-` - subtraction, negation (scalar multiplication by -1)\n",
    "* `*` - scalar multiplication\n",
    "* `/` - scalar division\n",
    "* `@` - composition\n",
    "* `^` - tensor product or tensor power (tensor with self n times)\n",
    "* `**` - composition power (compose with self n times)\n",
    "* `==` - equality\n",
    "* `~` - adjoint, alternating between a State Function and Measurement\n",
    "\n",
    "This arithmetic, along with the Operators, allows quick and easy construction of many states for Quantum Algorithms. However, **one must be careful to use parentheses properly when performing arithmetic in this way.**"
   ]
  },
  {
   "cell_type": "code",
   "execution_count": 8,
   "metadata": {
    "ExecuteTime": {
     "end_time": "2020-05-12T01:22:31.496581Z",
     "start_time": "2020-05-12T01:22:31.339723Z"
    }
   },
   "outputs": [
    {
     "name": "stdout",
     "output_type": "stream",
     "text": [
      "CircuitStateFn(\n",
      "         ┌───┐    \n",
      "q_0: ────┤ H ├────\n",
      "     ┌───┴───┴───┐\n",
      "q_1: ┤ circuit21 ├\n",
      "     └───────────┘\n",
      ")\n"
     ]
    }
   ],
   "source": [
    "print((Zero^Plus).to_circuit_op())\n",
    "# TODO look into id here"
   ]
  },
  {
   "cell_type": "code",
   "execution_count": 9,
   "metadata": {
    "ExecuteTime": {
     "end_time": "2020-05-12T01:22:31.515829Z",
     "start_time": "2020-05-12T01:22:31.510541Z"
    },
    "scrolled": true
   },
   "outputs": [
    {
     "name": "stdout",
     "output_type": "stream",
     "text": [
      "DictStateFn({'11111': 1.0, '00000': 1.0}) * 600.0\n",
      "DictStateFn({'101010': 1})\n"
     ]
    }
   ],
   "source": [
    "print(600 * ((One^5) + (Zero^5)))\n",
    "print(One^Zero^3)"
   ]
  },
  {
   "cell_type": "markdown",
   "metadata": {},
   "source": [
    "States can also be easily converted between primitives. Below we'll see that we can also represent State functions by vectors and Quantum circuits."
   ]
  },
  {
   "cell_type": "code",
   "execution_count": 10,
   "metadata": {
    "ExecuteTime": {
     "end_time": "2020-05-12T01:22:31.555891Z",
     "start_time": "2020-05-12T01:22:31.519447Z"
    }
   },
   "outputs": [
    {
     "name": "stdout",
     "output_type": "stream",
     "text": [
      "VectorStateFn(Statevector([ 0.25-6.123234e-17j, -0.25+6.123234e-17j,  0.25-6.123234e-17j,\n",
      "             -0.25+6.123234e-17j, -0.25+6.123234e-17j,  0.25-6.123234e-17j,\n",
      "             -0.25+6.123234e-17j,  0.25-6.123234e-17j,  0.25-6.123234e-17j,\n",
      "             -0.25+6.123234e-17j,  0.25-6.123234e-17j, -0.25+6.123234e-17j,\n",
      "             -0.25+6.123234e-17j,  0.25-6.123234e-17j, -0.25+6.123234e-17j,\n",
      "              0.25-6.123234e-17j],\n",
      "            dims=(2, 2, 2, 2)))\n",
      "CircuitStateFn(\n",
      "     ┌───┐\n",
      "q_0: ┤ X ├\n",
      "     ├───┤\n",
      "q_1: ┤ H ├\n",
      "     ├───┤\n",
      "q_2: ┤ X ├\n",
      "     ├───┤\n",
      "q_3: ┤ H ├\n",
      "     └───┘\n",
      ")\n",
      "{'1101': 0.2666015625, '1111': 0.2529296875, '0111': 0.248046875, '0101': 0.232421875}\n"
     ]
    }
   ],
   "source": [
    "print(((Plus^Minus)^2).to_matrix_op())\n",
    "# TODO round\n",
    "print(((Plus^One)^2).to_circuit_op())\n",
    "print(((Plus^One)^2).to_matrix_op().sample())"
   ]
  },
  {
   "cell_type": "markdown",
   "metadata": {},
   "source": [
    "In fact, `Plus` and `Minus` are `CircuitStateFn`s."
   ]
  },
  {
   "cell_type": "code",
   "execution_count": 11,
   "metadata": {
    "ExecuteTime": {
     "end_time": "2020-05-12T01:22:31.569917Z",
     "start_time": "2020-05-12T01:22:31.564571Z"
    }
   },
   "outputs": [
    {
     "name": "stdout",
     "output_type": "stream",
     "text": [
      "CircuitStateFn(\n",
      "     ┌───┐\n",
      "q_0: ┤ H ├\n",
      "     └───┘\n",
      ")\n",
      "CircuitStateFn(\n",
      "     ┌───┐┌───┐\n",
      "q_0: ┤ X ├┤ H ├\n",
      "     └───┘└───┘\n",
      ")\n"
     ]
    }
   ],
   "source": [
    "print(Plus)\n",
    "print(Minus)"
   ]
  },
  {
   "cell_type": "markdown",
   "metadata": {},
   "source": [
    "Constructing a StateFn is easy. The `StateFn` class also serves as a factory, and can take any applicable primitive in its constructor and return the correct StateFn subclass. Right now the following primitives can be passed into the constructor, listed alongside the `StateFn` subclass they produce:\n",
    "\n",
    "* str (equal to some basis bitstring) -> DictStateFn\n",
    "* dict  -> DictStateFn\n",
    "* Qiskit Result object -> DictStateFn\n",
    "* list -> VectorStateFn\n",
    "* np.ndarray -> VectorStateFn\n",
    "* Statevector -> VectorStateFn\n",
    "* QuantumCircuit -> CircuitStateFn\n",
    "* Instruction -> CircuitStateFn\n",
    "* OperatorBase -> OperatorStateFn"
   ]
  },
  {
   "cell_type": "code",
   "execution_count": 12,
   "metadata": {
    "ExecuteTime": {
     "end_time": "2020-05-12T01:22:31.595984Z",
     "start_time": "2020-05-12T01:22:31.579877Z"
    }
   },
   "outputs": [
    {
     "name": "stdout",
     "output_type": "stream",
     "text": [
      "DictStateFn({'0': 1})\n",
      "True\n",
      "VectorStateFn(Statevector([0.+0.j, 1.+0.j, 1.+0.j, 0.+0.j],\n",
      "            dims=(2, 2)))\n",
      "CircuitStateFn(\n",
      "     ┌──────────┐     ┌──────────┐     ┌──────────┐     ┌──────────┐\n",
      "q_0: ┤ RY(θ[0]) ├──■──┤ RY(θ[2]) ├──■──┤ RY(θ[4]) ├──■──┤ RY(θ[6]) ├\n",
      "     ├──────────┤┌─┴─┐├──────────┤┌─┴─┐├──────────┤┌─┴─┐├──────────┤\n",
      "q_1: ┤ RY(θ[1]) ├┤ X ├┤ RY(θ[3]) ├┤ X ├┤ RY(θ[5]) ├┤ X ├┤ RY(θ[7]) ├\n",
      "     └──────────┘└───┘└──────────┘└───┘└──────────┘└───┘└──────────┘\n",
      ")\n"
     ]
    }
   ],
   "source": [
    "print(StateFn({'0':1}))\n",
    "print(StateFn({'0':1}) == Zero)\n",
    "\n",
    "print(StateFn([0,1,1,0]))\n",
    "\n",
    "from qiskit.circuit.library import RealAmplitudes\n",
    "print(StateFn(RealAmplitudes(2)))\n"
   ]
  },
  {
   "cell_type": "markdown",
   "metadata": {},
   "source": [
    "## Part II: Operators\n",
    "\n",
    "Operators are functions which take StateFns to StateFns. For example, the identity Operator takes any StateFn to itself. Just like State Functions and Measurements, this characteristic function of the Operator is accessible via the `.eval` method, and the behavior of the function is defined by a computational primitive. If you pass a bitstring into an Operator's `eval` function, it will simply treat it as the corresponding basis StateFn.\n",
    "\n",
    "The basic Operators in Aqua are subclasses of `PrimitiveOp`. Just like StateFn, `PrimitiveOp` is also a factory for creating the correct type of `PrimitiveOp` for a given primitive. Right now the following primitives can be passed into the constructor, listed alongside the `PrimitiveOp` subclass they produce:\n",
    "\n",
    "* Terra's Pauli -> PauliOp\n",
    "* Instruction -> CircuitOp\n",
    "* QuantumCircuit -> CircuitOp\n",
    "* 2d List -> MatrixOp\n",
    "* np.ndarray -> MatrixOp\n",
    "* spmatrix -> MatrixOp\n",
    "* Terra's quantum_info.Operator -> MatrixOp"
   ]
  },
  {
   "cell_type": "code",
   "execution_count": 13,
   "metadata": {
    "ExecuteTime": {
     "end_time": "2020-05-12T01:22:31.607151Z",
     "start_time": "2020-05-12T01:22:31.601233Z"
    }
   },
   "outputs": [],
   "source": [
    "from qiskit.aqua.operators import X, Y, Z, I, CX, T, H, S, PrimitiveOp"
   ]
  },
  {
   "cell_type": "code",
   "execution_count": 14,
   "metadata": {
    "ExecuteTime": {
     "end_time": "2020-05-12T01:22:31.773392Z",
     "start_time": "2020-05-12T01:22:31.612085Z"
    }
   },
   "outputs": [
    {
     "name": "stdout",
     "output_type": "stream",
     "text": [
      "X\n",
      "DictStateFn({'0': (1+0j)})\n",
      "True\n",
      "          \n",
      "q_0: ──■──\n",
      "     ┌─┴─┐\n",
      "q_1: ┤ X ├\n",
      "     └───┘\n",
      "VectorStateFn(Statevector([0.+0.j, 0.+0.j, 0.+0.j, 1.+0.j],\n",
      "            dims=(2, 2)))\n",
      "(1+0j)\n",
      "(1+0j)\n",
      "          ┌───┐┌───┐     ┌───┐┌───┐\n",
      "q_0: ──■──┤ I ├┤ H ├──■──┤ I ├┤ H ├\n",
      "     ┌─┴─┐└───┘├───┤┌─┴─┐└───┘├───┤\n",
      "q_1: ┤ X ├──■──┤ H ├┤ X ├──■──┤ H ├\n",
      "     └───┘┌─┴─┐├───┤└───┘┌─┴─┐├───┤\n",
      "q_2: ──■──┤ X ├┤ H ├──■──┤ X ├┤ H ├\n",
      "     ┌─┴─┐└───┘├───┤┌─┴─┐└───┘├───┤\n",
      "q_3: ┤ X ├──■──┤ H ├┤ X ├──■──┤ H ├\n",
      "     └───┘┌─┴─┐├───┤└───┘┌─┴─┐├───┤\n",
      "q_4: ─────┤ X ├┤ H ├─────┤ X ├┤ H ├\n",
      "          └───┘└───┘     └───┘└───┘\n",
      "CircuitStateFn(\n",
      "     ┌───┐┌───┐     ┌───┐┌───┐     ┌───┐┌───┐\n",
      "q_0: ┤ X ├┤ H ├──■──┤ I ├┤ H ├──■──┤ I ├┤ H ├\n",
      "     ├───┤├───┤┌─┴─┐└───┘├───┤┌─┴─┐└───┘├───┤\n",
      "q_1: ┤ X ├┤ H ├┤ X ├──■──┤ H ├┤ X ├──■──┤ H ├\n",
      "     ├───┤├───┤└───┘┌─┴─┐├───┤└───┘┌─┴─┐├───┤\n",
      "q_2: ┤ X ├┤ H ├──■──┤ X ├┤ H ├──■──┤ X ├┤ H ├\n",
      "     ├───┤├───┤┌─┴─┐└───┘├───┤┌─┴─┐└───┘├───┤\n",
      "q_3: ┤ X ├┤ H ├┤ X ├──■──┤ H ├┤ X ├──■──┤ H ├\n",
      "     ├───┤├───┤└───┘┌─┴─┐├───┤└───┘┌─┴─┐├───┤\n",
      "q_4: ┤ X ├┤ H ├─────┤ X ├┤ H ├─────┤ X ├┤ H ├\n",
      "     └───┘└───┘     └───┘└───┘     └───┘└───┘\n",
      ")\n",
      "CircuitStateFn(\n",
      "               \n",
      "q_0: ──────────\n",
      "     ┌───┐     \n",
      "q_1: ┤ I ├─────\n",
      "     ├───┤┌───┐\n",
      "q_2: ┤ X ├┤ H ├\n",
      "     └───┘└───┘\n",
      ")\n"
     ]
    }
   ],
   "source": [
    "print(X)\n",
    "print(X.eval(One))\n",
    "print(X.eval(One) == Zero)\n",
    "\n",
    "print(CX)\n",
    "print(CX.eval('01'))\n",
    "print(CX.eval('01').eval('11'))\n",
    "print(((~One^2) @ (CX.eval('01'))).eval())\n",
    "\n",
    "print(((H^5) @ ((CX^2)^I) @ (I^(CX^2)))**2)\n",
    "print((((H^5) @ ((CX^2)^I) @ (I^(CX^2)))**2) @ (Minus^5))\n",
    "print(((H^I^I)@(X^I^I)@Zero))"
   ]
  },
  {
   "cell_type": "markdown",
   "metadata": {},
   "source": [
    "## Part III: ListOps\n",
    "\n",
    "If you've already played around with the above, you'll notice that you can easily perform operations between `StateFns` which we may not know how to perform efficiently in general (or simply haven't implemented an efficient procedure yet). In those cases, you may receive a `ListOp` result (or sublclass thereof) from your operation. For example, if you attempt to add together a `DictStateFn` and a `CircuitStateFn`, you'll receive a `SummedOp` representing the sum of the two. This composite State function still has a working `eval`, but may need to perform a non-scalable computation under the hood, such as converting both to vectors."
   ]
  },
  {
   "cell_type": "code",
   "execution_count": 15,
   "metadata": {
    "ExecuteTime": {
     "end_time": "2020-05-12T01:22:31.782462Z",
     "start_time": "2020-05-12T01:22:31.775644Z"
    }
   },
   "outputs": [
    {
     "name": "stdout",
     "output_type": "stream",
     "text": [
      "SummedOp(\n",
      "[DictStateFn({'0': 1}),\n",
      "CircuitStateFn(\n",
      "     ┌───┐\n",
      "q_0: ┤ H ├\n",
      "     └───┘\n",
      ")])\n",
      "(1.7071067811865501+0j)\n"
     ]
    }
   ],
   "source": [
    "print(Zero + Plus)\n",
    "print((Zero + Plus).eval('0'))"
   ]
  },
  {
   "cell_type": "markdown",
   "metadata": {},
   "source": [
    "Or for composition, you might receive a `ComposedOp`. Note that just as in addition, we can sometimes perform the composition efficiently, such as between two circuit State functions. However, when composing a Measurement with a State function, we will always receive a `ComposedOp` back to reflect the fact that the State Function has been measured."
   ]
  },
  {
   "cell_type": "code",
   "execution_count": 16,
   "metadata": {
    "ExecuteTime": {
     "end_time": "2020-05-12T01:22:31.797738Z",
     "start_time": "2020-05-12T01:22:31.784695Z"
    }
   },
   "outputs": [
    {
     "name": "stdout",
     "output_type": "stream",
     "text": [
      "Dict measurement with Circuit statefn:\n",
      "ComposedOp(\n",
      "[DictMeasurement({'1': 1}),\n",
      "CircuitStateFn(\n",
      "     ┌───┐┌───┐\n",
      "q_0: ┤ X ├┤ H ├\n",
      "     └───┘└───┘\n",
      ")])\n",
      "(-0.70710678118655+0j)\n",
      "\n",
      "Circuit measurement with Circuit statefn:\n",
      "ComposedOp(\n",
      "[CircuitMeasurement(\n",
      "     ┌───┐┌───┐┌───┐\n",
      "q_0: ┤ X ├┤ H ├┤ X ├\n",
      "     └───┘└───┘└───┘\n",
      "),\n",
      "DictStateFn({'0': 1})])\n",
      "\n",
      "Dict measurement with vector statefn:\n",
      "ComposedOp(\n",
      "[DictMeasurement({'1': 1}),\n",
      "VectorStateFn(Statevector([ 0.70710678-8.65956056e-17j, -0.70710678+8.65956056e-17j],\n",
      "            dims=(2,)))])\n"
     ]
    }
   ],
   "source": [
    "print('Dict measurement with Circuit statefn:')\n",
    "print(~One @ Minus)\n",
    "print((~One @ Minus).eval())\n",
    "print('\\nCircuit measurement with Circuit statefn:')\n",
    "print(~One.to_circuit_op() @ Minus)\n",
    "print('\\nDict measurement with vector statefn:')\n",
    "print(~One @ Minus.to_matrix_op())"
   ]
  },
  {
   "cell_type": "markdown",
   "metadata": {},
   "source": [
    "The State Functions, Operators, or Measurements from which the `ListOp` is \n",
    "The logic for how to combine the evaluation results of the `ListOp` is contained in the `.combo_fn` property of the `ListOp`. For example, \n",
    "\n",
    "The base `ListOp` class is a special type of ListOp. "
   ]
  },
  {
   "cell_type": "code",
   "execution_count": 17,
   "metadata": {
    "ExecuteTime": {
     "end_time": "2020-05-12T01:22:31.802586Z",
     "start_time": "2020-05-12T01:22:31.799675Z"
    },
    "scrolled": true
   },
   "outputs": [],
   "source": [
    "# print((~ListOp([One, Zero, Plus, Minus]) @ ListOp([One, Zero, Plus, Minus])).reduce())"
   ]
  },
  {
   "cell_type": "markdown",
   "metadata": {},
   "source": [
    "## Part IV: Converters"
   ]
  },
  {
   "cell_type": "code",
   "execution_count": 18,
   "metadata": {
    "ExecuteTime": {
     "end_time": "2020-05-12T01:22:31.809293Z",
     "start_time": "2020-05-12T01:22:31.805083Z"
    }
   },
   "outputs": [],
   "source": [
    "import numpy as np\n",
    "from qiskit.aqua.operators import I, X, Y, Z, H, CX, Zero, ListOp, PauliExpectation, PauliTrotterEvolution, CircuitSampler, MatrixEvolution\n",
    "from qiskit.circuit import Parameter"
   ]
  },
  {
   "cell_type": "markdown",
   "metadata": {},
   "source": [
    "## Construct an H2 Hamiltonian"
   ]
  },
  {
   "cell_type": "code",
   "execution_count": 19,
   "metadata": {
    "ExecuteTime": {
     "end_time": "2020-05-12T01:22:31.817667Z",
     "start_time": "2020-05-12T01:22:31.812255Z"
    }
   },
   "outputs": [],
   "source": [
    "two_qubit_H2 =  (-1.0523732 * I^I) + \\\n",
    "                (0.39793742 * I^Z) + \\\n",
    "                (-0.3979374 * Z^I) + \\\n",
    "                (-0.0112801 * Z^Z) + \\\n",
    "                (0.18093119 * X^X)"
   ]
  },
  {
   "cell_type": "markdown",
   "metadata": {},
   "source": [
    "## Evolve a Bell state by Our Hamiltonian\n",
    "\n",
    "OpFlow fully supports parameterization, so we can use a parameter for our evolution time here. Notice that there's no \"evolution time\" argument in any function. OpFlow exponentiates whatever operator we tell it to, and if we choose to multiply the operator by an evolution time, $e^{iHt}$, that will be refected in our exponentiation parameters. This is not some trick to make it look like Physics - it actually works this way under the hood."
   ]
  },
  {
   "cell_type": "code",
   "execution_count": 20,
   "metadata": {
    "ExecuteTime": {
     "end_time": "2020-05-12T01:22:31.852516Z",
     "start_time": "2020-05-12T01:22:31.820578Z"
    }
   },
   "outputs": [
    {
     "data": {
      "text/html": [
       "<pre style=\"word-wrap: normal;white-space: pre;background: #fff0;line-height: 1.1;font-family: &quot;Courier New&quot;,Courier,monospace\">               ┌───┐┌───┐┌──────────────────┐┌───┐┌───┐     ┌───┐┌──────────────────┐┌───┐┌──────────────────┐\n",
       "q_0: ───────■──┤ H ├┤ X ├┤ RZ(0.18093119*θ) ├┤ X ├┤ H ├─────┤ X ├┤ RZ(-0.0112801*θ) ├┤ X ├┤ RZ(0.39793742*θ) ├\n",
       "     ┌───┐┌─┴─┐├───┤└─┬─┘└──────────────────┘└─┬─┘├───┤┌───┐└─┬─┘└──────────────────┘└─┬─┘├──────────────────┤\n",
       "q_1: ┤ H ├┤ X ├┤ H ├──■────────────────────────■──┤ H ├┤ I ├──■────────────────────────■──┤ RZ(-0.3979374*θ) ├\n",
       "     └───┘└───┘└───┘                              └───┘└───┘                              └──────────────────┘</pre>"
      ],
      "text/plain": [
       "               ┌───┐┌───┐┌──────────────────┐┌───┐┌───┐     ┌───┐┌──────────────────┐┌───┐┌──────────────────┐\n",
       "q_0: ───────■──┤ H ├┤ X ├┤ RZ(0.18093119*θ) ├┤ X ├┤ H ├─────┤ X ├┤ RZ(-0.0112801*θ) ├┤ X ├┤ RZ(0.39793742*θ) ├\n",
       "     ┌───┐┌─┴─┐├───┤└─┬─┘└──────────────────┘└─┬─┘├───┤┌───┐└─┬─┘└──────────────────┘└─┬─┘├──────────────────┤\n",
       "q_1: ┤ H ├┤ X ├┤ H ├──■────────────────────────■──┤ H ├┤ I ├──■────────────────────────■──┤ RZ(-0.3979374*θ) ├\n",
       "     └───┘└───┘└───┘                              └───┘└───┘                              └──────────────────┘"
      ]
     },
     "execution_count": 20,
     "metadata": {},
     "output_type": "execute_result"
    }
   ],
   "source": [
    "# Meaningless state\n",
    "bell = CX @ (H^I) @ Zero\n",
    "# We can also do CX @ (Plus ^ Zero)\n",
    "evo_time = Parameter('θ')\n",
    "wf = (evo_time*two_qubit_H2).exp_i() @ bell\n",
    "trot = PauliTrotterEvolution(trotter_mode='trotter').convert(wf)\n",
    "# trot = MatrixEvolution().convert(wf)\n",
    "trot.to_circuit().draw(fold=1000)\n",
    "# trot.to_circuit().data[0]"
   ]
  },
  {
   "cell_type": "markdown",
   "metadata": {},
   "source": [
    "We can bind our parameter to the operator if we so choose, and it will recursively bind into the circuit."
   ]
  },
  {
   "cell_type": "code",
   "execution_count": 21,
   "metadata": {
    "ExecuteTime": {
     "end_time": "2020-05-12T01:22:31.867529Z",
     "start_time": "2020-05-12T01:22:31.854859Z"
    }
   },
   "outputs": [
    {
     "data": {
      "text/html": [
       "<pre style=\"word-wrap: normal;white-space: pre;background: #fff0;line-height: 1.1;font-family: &quot;Courier New&quot;,Courier,monospace\">               ┌───┐┌───┐┌──────────────┐┌───┐┌───┐     ┌───┐┌──────────────┐┌───┐┌─────────────┐ \n",
       "q_0: ───────■──┤ H ├┤ X ├┤ RZ(0.090466) ├┤ X ├┤ H ├─────┤ X ├┤ RZ(-0.00564) ├┤ X ├┤ RZ(0.19897) ├─\n",
       "     ┌───┐┌─┴─┐├───┤└─┬─┘└──────────────┘└─┬─┘├───┤┌───┐└─┬─┘└──────────────┘└─┬─┘├─────────────┴┐\n",
       "q_1: ┤ H ├┤ X ├┤ H ├──■────────────────────■──┤ H ├┤ I ├──■────────────────────■──┤ RZ(-0.19897) ├\n",
       "     └───┘└───┘└───┘                          └───┘└───┘                          └──────────────┘</pre>"
      ],
      "text/plain": [
       "               ┌───┐┌───┐┌──────────────┐┌───┐┌───┐     ┌───┐┌──────────────┐┌───┐┌─────────────┐ \n",
       "q_0: ───────■──┤ H ├┤ X ├┤ RZ(0.090466) ├┤ X ├┤ H ├─────┤ X ├┤ RZ(-0.00564) ├┤ X ├┤ RZ(0.19897) ├─\n",
       "     ┌───┐┌─┴─┐├───┤└─┬─┘└──────────────┘└─┬─┘├───┤┌───┐└─┬─┘└──────────────┘└─┬─┘├─────────────┴┐\n",
       "q_1: ┤ H ├┤ X ├┤ H ├──■────────────────────■──┤ H ├┤ I ├──■────────────────────■──┤ RZ(-0.19897) ├\n",
       "     └───┘└───┘└───┘                          └───┘└───┘                          └──────────────┘"
      ]
     },
     "execution_count": 21,
     "metadata": {},
     "output_type": "execute_result"
    }
   ],
   "source": [
    "bound = trot.bind_parameters({evo_time: .5})\n",
    "bound.to_circuit().draw(fold=1000)"
   ]
  },
  {
   "cell_type": "markdown",
   "metadata": {},
   "source": [
    "## Now that we have a state, let's measure the energy of the state"
   ]
  },
  {
   "cell_type": "code",
   "execution_count": 22,
   "metadata": {
    "ExecuteTime": {
     "end_time": "2020-05-12T01:22:32.061127Z",
     "start_time": "2020-05-12T01:22:31.870024Z"
    },
    "scrolled": true
   },
   "outputs": [
    {
     "name": "stdout",
     "output_type": "stream",
     "text": [
      "Exact, unscallable expectation value: (-0.65289590398246+0j)\n",
      "Sampled expectation value: (-0.6451387968945299+0j)\n"
     ]
    }
   ],
   "source": [
    "h2_measurement = ~StateFn(two_qubit_H2) @ bound\n",
    "expect_op = PauliExpectation().convert(h2_measurement)\n",
    "exact_exp_val = expect_op.eval()\n",
    "print('Exact, unscallable expectation value: {}'.format(exact_exp_val))\n",
    "\n",
    "from qiskit import BasicAer\n",
    "backend = BasicAer.get_backend('qasm_simulator')\n",
    "\n",
    "sampled_op = CircuitSampler(backend).convert(expect_op)\n",
    "expectation_val = sampled_op.eval()\n",
    "print('Sampled expectation value: {}'.format(expectation_val))"
   ]
  },
  {
   "cell_type": "code",
   "execution_count": 23,
   "metadata": {
    "ExecuteTime": {
     "end_time": "2020-05-12T01:22:32.081046Z",
     "start_time": "2020-05-12T01:22:32.069859Z"
    },
    "scrolled": true
   },
   "outputs": [
    {
     "name": "stdout",
     "output_type": "stream",
     "text": [
      "SummedOp(\n",
      "[ComposedOp(\n",
      "[OperatorMeasurement(AbelianSummedOp(\n",
      "[0.18093119 * ZZ,\n",
      "-1.0523732 * II])),\n",
      "CircuitStateFn(\n",
      "               ┌───┐┌───┐┌──────────────┐┌───┐┌───┐┌───┐┌──────────────┐┌───┐»\n",
      "q_0: ───────■──┤ H ├┤ X ├┤ RZ(0.090466) ├┤ X ├┤ H ├┤ X ├┤ RZ(-0.00564) ├┤ X ├»\n",
      "     ┌───┐┌─┴─┐├───┤└─┬─┘└──────────────┘└─┬─┘├───┤└─┬─┘└──────────────┘└─┬─┘»\n",
      "q_1: ┤ H ├┤ X ├┤ H ├──■────────────────────■──┤ H ├──■────────────────────■──»\n",
      "     └───┘└───┘└───┘                          └───┘                          »\n",
      "«     ┌─────────────┐ ┌───┐\n",
      "«q_0: ┤ RZ(0.19897) ├─┤ H ├\n",
      "«     ├─────────────┴┐├───┤\n",
      "«q_1: ┤ RZ(-0.19897) ├┤ H ├\n",
      "«     └──────────────┘└───┘\n",
      ")]),\n",
      "ComposedOp(\n",
      "[OperatorMeasurement(AbelianSummedOp(\n",
      "[0.39793742 * IZ,\n",
      "-0.3979374 * ZI,\n",
      "-0.0112801 * ZZ])),\n",
      "CircuitStateFn(\n",
      "               ┌───┐┌───┐┌──────────────┐┌───┐┌───┐┌───┐┌──────────────┐┌───┐»\n",
      "q_0: ───────■──┤ H ├┤ X ├┤ RZ(0.090466) ├┤ X ├┤ H ├┤ X ├┤ RZ(-0.00564) ├┤ X ├»\n",
      "     ┌───┐┌─┴─┐├───┤└─┬─┘└──────────────┘└─┬─┘├───┤└─┬─┘└──────────────┘└─┬─┘»\n",
      "q_1: ┤ H ├┤ X ├┤ H ├──■────────────────────■──┤ H ├──■────────────────────■──»\n",
      "     └───┘└───┘└───┘                          └───┘                          »\n",
      "«     ┌─────────────┐ \n",
      "«q_0: ┤ RZ(0.19897) ├─\n",
      "«     ├─────────────┴┐\n",
      "«q_1: ┤ RZ(-0.19897) ├\n",
      "«     └──────────────┘\n",
      ")])])\n"
     ]
    }
   ],
   "source": [
    "print(expect_op)"
   ]
  },
  {
   "cell_type": "markdown",
   "metadata": {},
   "source": [
    "### We can just as easily take the Expectation over a _vector_ of Pauli Operators."
   ]
  },
  {
   "cell_type": "code",
   "execution_count": 24,
   "metadata": {
    "ExecuteTime": {
     "end_time": "2020-05-12T01:22:32.186866Z",
     "start_time": "2020-05-12T01:22:32.084389Z"
    }
   },
   "outputs": [
    {
     "data": {
      "text/plain": [
       "array([ 0.01750461,  0.01750461,  0.        , -0.6528959 ])"
      ]
     },
     "execution_count": 24,
     "metadata": {},
     "output_type": "execute_result"
    }
   ],
   "source": [
    "ham_list = ListOp([X^X, Y^Y, Z^Z, two_qubit_H2])\n",
    "expect = PauliExpectation().convert(~StateFn(ham_list) @ bound)\n",
    "np.real(expect.eval())"
   ]
  },
  {
   "cell_type": "markdown",
   "metadata": {},
   "source": [
    "### We Can Even Take the Expectation of a vector of Observables over a vector of StateFns"
   ]
  },
  {
   "cell_type": "code",
   "execution_count": 25,
   "metadata": {
    "ExecuteTime": {
     "end_time": "2020-05-12T01:22:32.197152Z",
     "start_time": "2020-05-12T01:22:32.190459Z"
    }
   },
   "outputs": [
    {
     "data": {
      "text/plain": [
       "21"
      ]
     },
     "execution_count": 25,
     "metadata": {},
     "output_type": "execute_result"
    }
   ],
   "source": [
    "np.sum([[1,2,3], [4,5,6]])"
   ]
  },
  {
   "cell_type": "code",
   "execution_count": 28,
   "metadata": {
    "ExecuteTime": {
     "end_time": "2020-05-12T01:22:34.829234Z",
     "start_time": "2020-05-12T01:22:34.623419Z"
    }
   },
   "outputs": [
    {
     "data": {
      "text/plain": [
       "array([[ 0.018,  0.064,  0.125],\n",
       "       [ 0.018,  0.064,  0.125],\n",
       "       [ 0.   ,  0.   ,  0.   ],\n",
       "       [-0.653, -0.649, -0.646]])"
      ]
     },
     "execution_count": 28,
     "metadata": {},
     "output_type": "execute_result"
    }
   ],
   "source": [
    "# Here we're using PauliExpectation's param argument instead of passing the bound OpVec below in case we can \n",
    "# take advantage of late binding / parameterized Qobj\n",
    "params = {evo_time: [.5, 1.0, 1.5]}\n",
    "ham_list = ListOp([X^X, Y^Y, Z^Z, two_qubit_H2])\n",
    "evolutions = (~StateFn(ham_list) @ trot).bind_parameters(params)\n",
    "expects = PauliExpectation().convert(evolutions)\n",
    "# print(expects)\n",
    "np.real(np.around(expects.eval(), decimals=3))"
   ]
  },
  {
   "cell_type": "markdown",
   "metadata": {},
   "source": [
    "### Parameter binding also supports binding lists"
   ]
  },
  {
   "cell_type": "code",
   "execution_count": 27,
   "metadata": {
    "ExecuteTime": {
     "end_time": "2020-05-12T01:22:32.542587Z",
     "start_time": "2020-05-12T01:22:32.527170Z"
    },
    "scrolled": true
   },
   "outputs": [
    {
     "name": "stdout",
     "output_type": "stream",
     "text": [
      "ListOp(\n",
      "[CircuitStateFn(\n",
      "               ┌───┐┌───┐┌──────────────┐┌───┐┌───┐┌───┐┌──────────────┐┌───┐»\n",
      "q_0: ───────■──┤ H ├┤ X ├┤ RZ(0.090466) ├┤ X ├┤ H ├┤ X ├┤ RZ(-0.00564) ├┤ X ├»\n",
      "     ┌───┐┌─┴─┐├───┤└─┬─┘└──────────────┘└─┬─┘├───┤└─┬─┘└──────────────┘└─┬─┘»\n",
      "q_1: ┤ H ├┤ X ├┤ H ├──■────────────────────■──┤ H ├──■────────────────────■──»\n",
      "     └───┘└───┘└───┘                          └───┘                          »\n",
      "«     ┌─────────────┐ \n",
      "«q_0: ┤ RZ(0.19897) ├─\n",
      "«     ├─────────────┴┐\n",
      "«q_1: ┤ RZ(-0.19897) ├\n",
      "«     └──────────────┘\n",
      "),\n",
      "CircuitStateFn(\n",
      "               ┌───┐┌───┐┌─────────────┐┌───┐┌───┐┌───┐┌──────────────┐┌───┐»\n",
      "q_0: ───────■──┤ H ├┤ X ├┤ RZ(0.18093) ├┤ X ├┤ H ├┤ X ├┤ RZ(-0.01128) ├┤ X ├»\n",
      "     ┌───┐┌─┴─┐├───┤└─┬─┘└─────────────┘└─┬─┘├───┤└─┬─┘└──────────────┘└─┬─┘»\n",
      "q_1: ┤ H ├┤ X ├┤ H ├──■───────────────────■──┤ H ├──■────────────────────■──»\n",
      "     └───┘└───┘└───┘                         └───┘                          »\n",
      "«     ┌─────────────┐ \n",
      "«q_0: ┤ RZ(0.39794) ├─\n",
      "«     ├─────────────┴┐\n",
      "«q_1: ┤ RZ(-0.39794) ├\n",
      "«     └──────────────┘\n",
      "),\n",
      "CircuitStateFn(\n",
      "               ┌───┐┌───┐┌────────────┐┌───┐┌───┐┌───┐┌──────────────┐┌───┐»\n",
      "q_0: ───────■──┤ H ├┤ X ├┤ RZ(0.2714) ├┤ X ├┤ H ├┤ X ├┤ RZ(-0.01692) ├┤ X ├»\n",
      "     ┌───┐┌─┴─┐├───┤└─┬─┘└────────────┘└─┬─┘├───┤└─┬─┘└──────────────┘└─┬─┘»\n",
      "q_1: ┤ H ├┤ X ├┤ H ├──■──────────────────■──┤ H ├──■────────────────────■──»\n",
      "     └───┘└───┘└───┘                        └───┘                          »\n",
      "«     ┌─────────────┐ \n",
      "«q_0: ┤ RZ(0.59691) ├─\n",
      "«     ├─────────────┴┐\n",
      "«q_1: ┤ RZ(-0.59691) ├\n",
      "«     └──────────────┘\n",
      ")])\n"
     ]
    }
   ],
   "source": [
    "print(trot.bind_parameters(params))"
   ]
  }
 ],
 "metadata": {
  "celltoolbar": "Slideshow",
  "kernelspec": {
   "display_name": "code",
   "language": "python",
   "name": "code"
  },
  "language_info": {
   "codemirror_mode": {
    "name": "ipython",
    "version": 3
   },
   "file_extension": ".py",
   "mimetype": "text/x-python",
   "name": "python",
   "nbconvert_exporter": "python",
   "pygments_lexer": "ipython3",
   "version": "3.7.4"
  },
  "toc": {
   "base_numbering": 1,
   "nav_menu": {},
   "number_sections": true,
   "sideBar": true,
   "skip_h1_title": true,
   "title_cell": "Table of Contents",
   "title_sidebar": "Contents",
   "toc_cell": false,
   "toc_position": {},
   "toc_section_display": true,
   "toc_window_display": true
  }
 },
 "nbformat": 4,
 "nbformat_minor": 2
}
