{
 "cells": [
  {
   "cell_type": "markdown",
   "metadata": {},
   "source": [
    "# Parameter Shift and Finite Difference Gradients with Operator flow"
   ]
  },
  {
   "cell_type": "code",
   "execution_count": 1,
   "metadata": {
    "ExecuteTime": {
     "end_time": "2020-05-12T02:31:34.192403Z",
     "start_time": "2020-05-12T02:31:30.006834Z"
    }
   },
   "outputs": [],
   "source": [
    "import qiskit.aqua.operators as of\n",
    "from qiskit.circuit.library import RealAmplitudes\n",
    "from qiskit.circuit import Parameter\n",
    "import numpy as np\n",
    "from qiskit import BasicAer"
   ]
  },
  {
   "cell_type": "markdown",
   "metadata": {},
   "source": [
    "#### Build Expectation Measurement"
   ]
  },
  {
   "cell_type": "code",
   "execution_count": 2,
   "metadata": {
    "ExecuteTime": {
     "end_time": "2020-05-12T02:31:34.215238Z",
     "start_time": "2020-05-12T02:31:34.195415Z"
    }
   },
   "outputs": [
    {
     "name": "stdout",
     "output_type": "stream",
     "text": [
      "ComposedOp(\n",
      "[OperatorMeasurement(ZZZ),\n",
      "CircuitStateFn(\n",
      "     ┌──────────┐          ┌──────────┐                      ┌──────────┐»\n",
      "q_0: ┤ RY(θ[0]) ├──■────■──┤ RY(θ[3]) ├──────────────■────■──┤ RY(θ[6]) ├»\n",
      "     ├──────────┤┌─┴─┐  │  └──────────┘┌──────────┐┌─┴─┐  │  └──────────┘»\n",
      "q_1: ┤ RY(θ[1]) ├┤ X ├──┼───────■──────┤ RY(θ[4]) ├┤ X ├──┼───────■──────»\n",
      "     ├──────────┤└───┘┌─┴─┐   ┌─┴─┐    ├──────────┤└───┘┌─┴─┐   ┌─┴─┐    »\n",
      "q_2: ┤ RY(θ[2]) ├─────┤ X ├───┤ X ├────┤ RY(θ[5]) ├─────┤ X ├───┤ X ├────»\n",
      "     └──────────┘     └───┘   └───┘    └──────────┘     └───┘   └───┘    »\n",
      "«                           ┌──────────┐             \n",
      "«q_0: ──────────────■────■──┤ RY(θ[9]) ├─────────────\n",
      "«     ┌──────────┐┌─┴─┐  │  └──────────┘┌───────────┐\n",
      "«q_1: ┤ RY(θ[7]) ├┤ X ├──┼───────■──────┤ RY(θ[10]) ├\n",
      "«     ├──────────┤└───┘┌─┴─┐   ┌─┴─┐    ├───────────┤\n",
      "«q_2: ┤ RY(θ[8]) ├─────┤ X ├───┤ X ├────┤ RY(θ[11]) ├\n",
      "«     └──────────┘     └───┘   └───┘    └───────────┘\n",
      ")])\n"
     ]
    }
   ],
   "source": [
    "ansatz_op = of.PrimitiveOp(RealAmplitudes(3, reps=3))\n",
    "op_params = ansatz_op.primitive.ordered_parameters\n",
    "qs = ansatz_op.num_qubits\n",
    "expect_op = ~of.StateFn(of.Z^qs) @ ansatz_op @ of.Zero\n",
    "\n",
    "# Uncomment to try with basis changes\n",
    "# expect_op = ~of.StateFn((of.X^qs) + (of.Z^qs) + (of.Y^qs) + (of.I^qs)) @ ansatz_op @ of.Zero\n",
    "# expect_op = of.PauliExpectation().convert(expect_op)\n",
    "\n",
    "# Point at which we're taking the gradient\n",
    "grad_point = ((np.pi/4)*np.ones(len(op_params))).tolist()\n",
    "param_dict = dict(zip(op_params, grad_point))\n",
    "\n",
    "print(expect_op)"
   ]
  },
  {
   "cell_type": "markdown",
   "metadata": {},
   "source": [
    "#### Parameter Shift Gradients (Exact)"
   ]
  },
  {
   "cell_type": "code",
   "execution_count": 4,
   "metadata": {
    "ExecuteTime": {
     "end_time": "2020-05-12T02:32:01.668516Z",
     "start_time": "2020-05-12T02:32:01.550526Z"
    }
   },
   "outputs": [],
   "source": [
    "# Note: Doesn't handle any special cases\n",
    "def param_shift_gradient(op_expr, params):\n",
    "    grad_ops = []\n",
    "    for param in params:\n",
    "        grad_ops += [op_expr.bind_parameters({param: param + np.pi / 2}) -\n",
    "                     op_expr.bind_parameters({param: param - np.pi / 2})]\n",
    "    return .5 * of.ListOp(grad_ops)\n",
    "\n",
    "# Note: this is just a one-liner!\n",
    "ps_grad = .5 * of.ListOp([expect_op.bind_parameters({param: param + np.pi / 2}) - \n",
    "                          expect_op.bind_parameters({param: param - np.pi / 2}) \n",
    "                          for param in op_params])"
   ]
  },
  {
   "cell_type": "code",
   "execution_count": 5,
   "metadata": {
    "ExecuteTime": {
     "end_time": "2020-05-12T02:32:03.968414Z",
     "start_time": "2020-05-12T02:32:03.517380Z"
    }
   },
   "outputs": [
    {
     "name": "stdout",
     "output_type": "stream",
     "text": [
      "[-0.55445752+0.j  0.08034587+0.j  0.2236517 +0.j -0.05981917+0.j\n",
      " -0.13840413+0.j  0.26784587+0.j -0.27542839+0.j  0.4736517 +0.j\n",
      " -0.12231917+0.j -0.24130704+0.j -0.30066626+0.j -0.38055217+0.j]\n"
     ]
    }
   ],
   "source": [
    "ps_grad = param_shift_gradient(expect_op, op_params)\n",
    "ps_grad_bound = ps_grad.bind_parameters(param_dict)\n",
    "# print(ps_grad_bound)\n",
    "\n",
    "ps_grad_vals = np.asarray(ps_grad_bound.eval())\n",
    "print(ps_grad_vals)"
   ]
  },
  {
   "cell_type": "markdown",
   "metadata": {},
   "source": [
    "#### Finite (Forward and Central) Difference Gradients (Exact)"
   ]
  },
  {
   "cell_type": "code",
   "execution_count": 6,
   "metadata": {
    "ExecuteTime": {
     "end_time": "2020-05-12T02:32:04.506748Z",
     "start_time": "2020-05-12T02:32:04.501302Z"
    }
   },
   "outputs": [],
   "source": [
    "# Note: Central differences are more accurate but run 2p circuits, while forward differences only run p+1 circuits.\n",
    "def finite_difference_gradient(op_expr, params, step=.01, center=True):\n",
    "    if center:\n",
    "        grad_ops = [op_expr.bind_parameters({param: param + (step/2)}) - \n",
    "                    op_expr.bind_parameters({param: param - (step/2)})\n",
    "                    for param in params]\n",
    "        return of.ListOp(grad_ops) / step\n",
    "    else:\n",
    "        grad_ops = [op_expr.bind_parameters({param: param + step}) for param in params]\n",
    "        return (of.ListOp(grad_ops) - op_expr) / step"
   ]
  },
  {
   "cell_type": "code",
   "execution_count": 7,
   "metadata": {
    "ExecuteTime": {
     "end_time": "2020-05-12T02:32:05.437187Z",
     "start_time": "2020-05-12T02:32:05.049919Z"
    }
   },
   "outputs": [
    {
     "name": "stdout",
     "output_type": "stream",
     "text": [
      "[-0.5509017 +0.j  0.0798306 +0.j  0.22221738+0.j -0.05943554+0.j\n",
      " -0.13751652+0.j  0.26612813+0.j -0.27366203+0.j  0.4706141 +0.j\n",
      " -0.12153472+0.j -0.23975951+0.j -0.29873804+0.j -0.37811164+0.j]\n"
     ]
    }
   ],
   "source": [
    "fd_grad = finite_difference_gradient(expect_op, op_params, step=np.pi/8, center=True)\n",
    "fd_grad_bound = fd_grad.bind_parameters(param_dict)\n",
    "# print(fd_grad_bound)\n",
    "fd_grad_vals = np.asarray(fd_grad_bound.eval())\n",
    "print(fd_grad_vals)"
   ]
  },
  {
   "cell_type": "code",
   "execution_count": 8,
   "metadata": {
    "ExecuteTime": {
     "end_time": "2020-05-12T02:32:05.528864Z",
     "start_time": "2020-05-12T02:32:05.521004Z"
    }
   },
   "outputs": [
    {
     "name": "stdout",
     "output_type": "stream",
     "text": [
      "[-0.00355582+0.j  0.00051527+0.j  0.00143431+0.j -0.00038363+0.j\n",
      " -0.00088761+0.j  0.00171774+0.j -0.00176636+0.j  0.0030376 +0.j\n",
      " -0.00078445+0.j -0.00154754+0.j -0.00192822+0.j -0.00244054+0.j]\n"
     ]
    },
    {
     "data": {
      "text/plain": [
       "0.0016665898013804355"
      ]
     },
     "execution_count": 8,
     "metadata": {},
     "output_type": "execute_result"
    }
   ],
   "source": [
    "# Approximation Error\n",
    "grad_diffs = ps_grad_vals - fd_grad_vals\n",
    "print(grad_diffs)\n",
    "np.mean(np.abs(grad_diffs))"
   ]
  },
  {
   "cell_type": "markdown",
   "metadata": {},
   "source": [
    "#### Circuit Sampling Instead of Exact Evaluation"
   ]
  },
  {
   "cell_type": "code",
   "execution_count": 9,
   "metadata": {
    "ExecuteTime": {
     "end_time": "2020-05-12T02:32:08.966412Z",
     "start_time": "2020-05-12T02:32:06.577503Z"
    },
    "scrolled": true
   },
   "outputs": [
    {
     "name": "stdout",
     "output_type": "stream",
     "text": [
      "[-0.02325+0.j -0.3575 +0.j  0.0727 +0.j -0.03755+0.j -0.2823 +0.j\n",
      " -0.16725+0.j -0.0718 +0.j -0.18805+0.j -0.103  +0.j  0.00385+0.j\n",
      "  0.0068 +0.j  0.00365+0.j]\n",
      "[-7.25881171+0.j -7.48447425+0.j -7.28345302+0.j -7.34959549+0.j\n",
      " -7.27956229+0.j -7.34829858+0.j -7.27956229+0.j -7.41055031+0.j\n",
      " -7.27826538+0.j -7.2341704 +0.j -7.29642213+0.j -7.23027966+0.j]\n"
     ]
    }
   ],
   "source": [
    "# Trying with sampling\n",
    "cs = of.CircuitSampler(BasicAer.get_backend('qasm_simulator'))\n",
    "cs.quantum_instance.run_config.shots = 10000\n",
    "sampled_ps_op = cs.convert(ps_grad_bound)\n",
    "sampled_fd_op = cs.convert(fd_grad_bound)\n",
    "sampled_ps_vals = np.asarray(sampled_ps_op.eval())\n",
    "sampled_fd_vals = np.asarray(sampled_fd_op.eval())\n",
    "print(sampled_ps_vals)\n",
    "print(sampled_fd_vals)"
   ]
  },
  {
   "cell_type": "code",
   "execution_count": 10,
   "metadata": {
    "ExecuteTime": {
     "end_time": "2020-05-12T02:32:08.974911Z",
     "start_time": "2020-05-12T02:32:08.968977Z"
    }
   },
   "outputs": [
    {
     "name": "stdout",
     "output_type": "stream",
     "text": [
      "[-0.53120752+0.j  0.43784587+0.j  0.1509517 +0.j -0.02226917+0.j\n",
      "  0.14389587+0.j  0.43509587+0.j -0.20362839+0.j  0.6617017 +0.j\n",
      " -0.01931917+0.j -0.24515704+0.j -0.30746626+0.j -0.38420217+0.j]\n"
     ]
    },
    {
     "data": {
      "text/plain": [
       "0.2952283945979229"
      ]
     },
     "execution_count": 10,
     "metadata": {},
     "output_type": "execute_result"
    }
   ],
   "source": [
    "# Approximation Error, Sampled PS\n",
    "sampled_ps_grad_diff = ps_grad_vals - sampled_ps_vals\n",
    "print(sampled_ps_grad_diff)\n",
    "np.mean(np.abs(sampled_ps_grad_diff))"
   ]
  },
  {
   "cell_type": "code",
   "execution_count": 11,
   "metadata": {
    "ExecuteTime": {
     "end_time": "2020-05-12T02:32:08.986041Z",
     "start_time": "2020-05-12T02:32:08.978091Z"
    }
   },
   "outputs": [
    {
     "name": "stdout",
     "output_type": "stream",
     "text": [
      "[6.70435419+0.j 7.56482012+0.j 7.50710472+0.j 7.28977632+0.j\n",
      " 7.14115816+0.j 7.61614445+0.j 7.0041339 +0.j 7.88420201+0.j\n",
      " 7.1559462 +0.j 6.99286335+0.j 6.99575587+0.j 6.84972749+0.j]\n"
     ]
    },
    {
     "data": {
      "text/plain": [
       "7.225498898167345"
      ]
     },
     "execution_count": 11,
     "metadata": {},
     "output_type": "execute_result"
    }
   ],
   "source": [
    "# Approximation Error, Sampled FD (compare to PS unsampled, which is exact)\n",
    "sampled_fd_grad_diff = ps_grad_vals - sampled_fd_vals\n",
    "print(sampled_fd_grad_diff)\n",
    "np.mean(np.abs(sampled_fd_grad_diff))"
   ]
  }
 ],
 "metadata": {
  "kernelspec": {
   "display_name": "code",
   "language": "python",
   "name": "code"
  },
  "language_info": {
   "codemirror_mode": {
    "name": "ipython",
    "version": 3
   },
   "file_extension": ".py",
   "mimetype": "text/x-python",
   "name": "python",
   "nbconvert_exporter": "python",
   "pygments_lexer": "ipython3",
   "version": "3.7.4"
  },
  "toc": {
   "base_numbering": 1,
   "nav_menu": {},
   "number_sections": true,
   "sideBar": true,
   "skip_h1_title": true,
   "title_cell": "Table of Contents",
   "title_sidebar": "Contents",
   "toc_cell": false,
   "toc_position": {},
   "toc_section_display": true,
   "toc_window_display": false
  }
 },
 "nbformat": 4,
 "nbformat_minor": 2
}
