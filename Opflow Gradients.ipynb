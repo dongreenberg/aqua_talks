{
 "cells": [
  {
   "cell_type": "markdown",
   "metadata": {},
   "source": [
    "# Parameter Shift and Finite Difference Gradients with Operator flow"
   ]
  },
  {
   "cell_type": "code",
   "execution_count": 1,
   "metadata": {
    "ExecuteTime": {
     "end_time": "2020-05-12T00:35:04.946887Z",
     "start_time": "2020-05-12T00:35:02.516239Z"
    }
   },
   "outputs": [],
   "source": [
    "import qiskit.aqua.operators as of\n",
    "from qiskit.circuit.library import RealAmplitudes\n",
    "from qiskit.circuit import Parameter\n",
    "import numpy as np\n",
    "from qiskit import BasicAer"
   ]
  },
  {
   "cell_type": "markdown",
   "metadata": {},
   "source": [
    "#### Build Expectation Measurement"
   ]
  },
  {
   "cell_type": "code",
   "execution_count": 2,
   "metadata": {
    "ExecuteTime": {
     "end_time": "2020-05-12T00:35:04.969563Z",
     "start_time": "2020-05-12T00:35:04.949640Z"
    }
   },
   "outputs": [
    {
     "name": "stdout",
     "output_type": "stream",
     "text": [
      "ComposedOp(\n",
      "[OperatorMeasurement(ZZZ),\n",
      "CircuitStateFn(\n",
      "     ┌──────────┐          ┌──────────┐                      ┌──────────┐»\n",
      "q_0: ┤ RY(θ[0]) ├──■────■──┤ RY(θ[3]) ├──────────────■────■──┤ RY(θ[6]) ├»\n",
      "     ├──────────┤┌─┴─┐  │  └──────────┘┌──────────┐┌─┴─┐  │  └──────────┘»\n",
      "q_1: ┤ RY(θ[1]) ├┤ X ├──┼───────■──────┤ RY(θ[4]) ├┤ X ├──┼───────■──────»\n",
      "     ├──────────┤└───┘┌─┴─┐   ┌─┴─┐    ├──────────┤└───┘┌─┴─┐   ┌─┴─┐    »\n",
      "q_2: ┤ RY(θ[2]) ├─────┤ X ├───┤ X ├────┤ RY(θ[5]) ├─────┤ X ├───┤ X ├────»\n",
      "     └──────────┘     └───┘   └───┘    └──────────┘     └───┘   └───┘    »\n",
      "«                           ┌──────────┐             \n",
      "«q_0: ──────────────■────■──┤ RY(θ[9]) ├─────────────\n",
      "«     ┌──────────┐┌─┴─┐  │  └──────────┘┌───────────┐\n",
      "«q_1: ┤ RY(θ[7]) ├┤ X ├──┼───────■──────┤ RY(θ[10]) ├\n",
      "«     ├──────────┤└───┘┌─┴─┐   ┌─┴─┐    ├───────────┤\n",
      "«q_2: ┤ RY(θ[8]) ├─────┤ X ├───┤ X ├────┤ RY(θ[11]) ├\n",
      "«     └──────────┘     └───┘   └───┘    └───────────┘\n",
      ")])\n"
     ]
    }
   ],
   "source": [
    "ansatz_op = of.PrimitiveOp(RealAmplitudes(3, reps=3))\n",
    "op_params = ansatz_op.primitive.ordered_parameters\n",
    "qs = ansatz_op.num_qubits\n",
    "expect_op = ~of.StateFn(of.Z^qs) @ ansatz_op @ of.Zero\n",
    "\n",
    "# Uncomment to try with basis changes\n",
    "# expect_op = ~of.StateFn((of.X^qs) + (of.Z^qs) + (of.Y^qs) + (of.I^qs)) @ ansatz_op @ of.Zero\n",
    "# expect_op = of.PauliExpectation().convert(expect_op)\n",
    "\n",
    "# Point at which we're taking the gradient\n",
    "grad_point = ((np.pi/4)*np.ones(len(op_params))).tolist()\n",
    "param_dict = dict(zip(op_params, grad_point))\n",
    "\n",
    "print(expect_op)"
   ]
  },
  {
   "cell_type": "markdown",
   "metadata": {},
   "source": [
    "#### Parameter Shift Gradients (Exact)"
   ]
  },
  {
   "cell_type": "code",
   "execution_count": 3,
   "metadata": {
    "ExecuteTime": {
     "end_time": "2020-05-12T00:35:04.975545Z",
     "start_time": "2020-05-12T00:35:04.971991Z"
    }
   },
   "outputs": [],
   "source": [
    "# Note: Doesn't handle any special cases\n",
    "def param_shift_gradient(op_expr, params):\n",
    "    grad_ops = []\n",
    "    for param in params:\n",
    "        grad_ops += [op_expr.bind_parameters({param: param + np.pi / 2}) -\n",
    "                     op_expr.bind_parameters({param: param - np.pi / 2})]\n",
    "    return .5 * of.ListOp(grad_ops)"
   ]
  },
  {
   "cell_type": "code",
   "execution_count": 4,
   "metadata": {
    "ExecuteTime": {
     "end_time": "2020-05-12T00:35:05.518539Z",
     "start_time": "2020-05-12T00:35:04.977609Z"
    }
   },
   "outputs": [
    {
     "name": "stdout",
     "output_type": "stream",
     "text": [
      "[-0.55445752+0.j  0.08034587+0.j  0.2236517 +0.j -0.05981917+0.j\n",
      " -0.13840413+0.j  0.26784587+0.j -0.27542839+0.j  0.4736517 +0.j\n",
      " -0.12231917+0.j -0.24130704+0.j -0.30066626+0.j -0.38055217+0.j]\n"
     ]
    }
   ],
   "source": [
    "ps_grad = param_shift_gradient(expect_op, op_params)\n",
    "ps_grad_bound = ps_grad.bind_parameters(param_dict)\n",
    "# print(ps_grad_bound)\n",
    "\n",
    "ps_grad_vals = np.asarray(ps_grad_bound.eval())\n",
    "print(ps_grad_vals)"
   ]
  },
  {
   "cell_type": "markdown",
   "metadata": {},
   "source": [
    "#### Finite (Forward and Central) Difference Gradients (Exact)"
   ]
  },
  {
   "cell_type": "code",
   "execution_count": 5,
   "metadata": {
    "ExecuteTime": {
     "end_time": "2020-05-12T00:35:05.525262Z",
     "start_time": "2020-05-12T00:35:05.520491Z"
    }
   },
   "outputs": [],
   "source": [
    "# Note: Central differences are better than forward differences!\n",
    "def finite_difference_gradient(op_expr, params, step=.01, center=True):\n",
    "    if center:\n",
    "        grad_ops = [op_expr.bind_parameters({param: param + (step/2)}) - \n",
    "                    op_expr.bind_parameters({param: param - (step/2)})\n",
    "                    for param in params]\n",
    "        return of.ListOp(grad_ops) / step\n",
    "    else:\n",
    "        grad_ops = [op_expr.bind_parameters({param: param + step}) for param in params]\n",
    "        return (of.ListOp(grad_ops) - op_expr) / step"
   ]
  },
  {
   "cell_type": "code",
   "execution_count": 6,
   "metadata": {
    "ExecuteTime": {
     "end_time": "2020-05-12T00:35:05.912205Z",
     "start_time": "2020-05-12T00:35:05.527056Z"
    }
   },
   "outputs": [
    {
     "name": "stdout",
     "output_type": "stream",
     "text": [
      "[-0.5509017 +0.j  0.0798306 +0.j  0.22221738+0.j -0.05943554+0.j\n",
      " -0.13751652+0.j  0.26612813+0.j -0.27366203+0.j  0.4706141 +0.j\n",
      " -0.12153472+0.j -0.23975951+0.j -0.29873804+0.j -0.37811164+0.j]\n"
     ]
    }
   ],
   "source": [
    "fd_grad = finite_difference_gradient(expect_op, op_params, step=np.pi/8, center=True)\n",
    "fd_grad_bound = fd_grad.bind_parameters(param_dict)\n",
    "# print(fd_grad_bound)\n",
    "fd_grad_vals = np.asarray(fd_grad_bound.eval())\n",
    "print(fd_grad_vals)"
   ]
  },
  {
   "cell_type": "code",
   "execution_count": 7,
   "metadata": {
    "ExecuteTime": {
     "end_time": "2020-05-12T00:35:05.921912Z",
     "start_time": "2020-05-12T00:35:05.913778Z"
    }
   },
   "outputs": [
    {
     "name": "stdout",
     "output_type": "stream",
     "text": [
      "[-0.00355582+0.j  0.00051527+0.j  0.00143431+0.j -0.00038363+0.j\n",
      " -0.00088761+0.j  0.00171774+0.j -0.00176636+0.j  0.0030376 +0.j\n",
      " -0.00078445+0.j -0.00154754+0.j -0.00192822+0.j -0.00244054+0.j]\n"
     ]
    },
    {
     "data": {
      "text/plain": [
       "0.0016665898013804355"
      ]
     },
     "execution_count": 7,
     "metadata": {},
     "output_type": "execute_result"
    }
   ],
   "source": [
    "# Approximation Error\n",
    "grad_diffs = ps_grad_vals - fd_grad_vals\n",
    "print(grad_diffs)\n",
    "np.mean(np.abs(grad_diffs))"
   ]
  },
  {
   "cell_type": "markdown",
   "metadata": {},
   "source": [
    "#### Circuit Sampling Instead of Exact Evaluation"
   ]
  },
  {
   "cell_type": "code",
   "execution_count": 8,
   "metadata": {
    "ExecuteTime": {
     "end_time": "2020-05-12T00:35:08.428401Z",
     "start_time": "2020-05-12T00:35:05.924993Z"
    },
    "scrolled": true
   },
   "outputs": [
    {
     "name": "stdout",
     "output_type": "stream",
     "text": [
      "[-0.02775+0.j -0.36135+0.j  0.0756 +0.j -0.03695+0.j -0.27215+0.j\n",
      " -0.1719 +0.j -0.06765+0.j -0.19155+0.j -0.0991 +0.j -0.00065+0.j\n",
      "  0.00425+0.j  0.0014 +0.j]\n",
      "[-7.19526306+0.j -7.45075456+0.j -7.17321557+0.j -7.2575148 +0.j\n",
      " -7.36126769+0.j -7.33273565+0.j -7.36645534+0.j -7.40665958+0.j\n",
      " -7.22638893+0.j -7.22509202+0.j -7.23287349+0.j -7.21212291+0.j]\n"
     ]
    }
   ],
   "source": [
    "# Trying with sampling\n",
    "cs = of.CircuitSampler(BasicAer.get_backend('qasm_simulator'))\n",
    "cs.quantum_instance.run_config.shots = 10000\n",
    "sampled_ps_op = cs.convert(ps_grad_bound)\n",
    "sampled_fd_op = cs.convert(fd_grad_bound)\n",
    "sampled_ps_vals = np.asarray(sampled_ps_op.eval())\n",
    "sampled_fd_vals = np.asarray(sampled_fd_op.eval())\n",
    "print(sampled_ps_vals)\n",
    "print(sampled_fd_vals)"
   ]
  },
  {
   "cell_type": "code",
   "execution_count": 9,
   "metadata": {
    "ExecuteTime": {
     "end_time": "2020-05-12T00:35:08.436271Z",
     "start_time": "2020-05-12T00:35:08.431014Z"
    }
   },
   "outputs": [
    {
     "name": "stdout",
     "output_type": "stream",
     "text": [
      "[-0.52670752+0.j  0.44169587+0.j  0.1480517 +0.j -0.02286917+0.j\n",
      "  0.13374587+0.j  0.43974587+0.j -0.20777839+0.j  0.6652017 +0.j\n",
      " -0.02321917+0.j -0.24065704+0.j -0.30491626+0.j -0.38195217+0.j]\n"
     ]
    },
    {
     "data": {
      "text/plain": [
       "0.2947117279312563"
      ]
     },
     "execution_count": 9,
     "metadata": {},
     "output_type": "execute_result"
    }
   ],
   "source": [
    "# Approximation Error, Sampled PS\n",
    "sampled_ps_grad_diff = ps_grad_vals - sampled_ps_vals\n",
    "print(sampled_ps_grad_diff)\n",
    "np.mean(np.abs(sampled_ps_grad_diff))"
   ]
  },
  {
   "cell_type": "code",
   "execution_count": 10,
   "metadata": {
    "ExecuteTime": {
     "end_time": "2020-05-12T00:35:08.448044Z",
     "start_time": "2020-05-12T00:35:08.438606Z"
    }
   },
   "outputs": [
    {
     "name": "stdout",
     "output_type": "stream",
     "text": [
      "[6.64080554+0.j 7.53110043+0.j 7.39686727+0.j 7.19769563+0.j\n",
      " 7.22286356+0.j 7.60058151+0.j 7.09102694+0.j 7.88031128+0.j\n",
      " 7.10406976+0.j 6.98378498+0.j 6.93220723+0.j 6.83157074+0.j]\n"
     ]
    },
    {
     "data": {
      "text/plain": [
       "7.201073738163966"
      ]
     },
     "execution_count": 10,
     "metadata": {},
     "output_type": "execute_result"
    }
   ],
   "source": [
    "# Approximation Error, Sampled FD (compare to PS unsampled, which is exact)\n",
    "sampled_fd_grad_diff = ps_grad_vals - sampled_fd_vals\n",
    "print(sampled_fd_grad_diff)\n",
    "np.mean(np.abs(sampled_fd_grad_diff))"
   ]
  }
 ],
 "metadata": {
  "kernelspec": {
   "display_name": "code",
   "language": "python",
   "name": "code"
  },
  "language_info": {
   "codemirror_mode": {
    "name": "ipython",
    "version": 3
   },
   "file_extension": ".py",
   "mimetype": "text/x-python",
   "name": "python",
   "nbconvert_exporter": "python",
   "pygments_lexer": "ipython3",
   "version": "3.7.4"
  },
  "toc": {
   "base_numbering": 1,
   "nav_menu": {},
   "number_sections": true,
   "sideBar": true,
   "skip_h1_title": true,
   "title_cell": "Table of Contents",
   "title_sidebar": "Contents",
   "toc_cell": false,
   "toc_position": {},
   "toc_section_display": true,
   "toc_window_display": false
  }
 },
 "nbformat": 4,
 "nbformat_minor": 2
}
