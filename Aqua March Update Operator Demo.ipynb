{
 "cells": [
  {
   "cell_type": "markdown",
   "metadata": {
    "slideshow": {
     "slide_type": "slide"
    }
   },
   "source": [
    "# Aqua Update Demos: Operator Fun\n",
    "\n",
    "_donny@, 13-Mar-20_"
   ]
  },
  {
   "cell_type": "code",
   "execution_count": 1,
   "metadata": {
    "ExecuteTime": {
     "end_time": "2020-05-05T16:15:06.862711Z",
     "start_time": "2020-05-05T16:15:01.287757Z"
    }
   },
   "outputs": [],
   "source": [
    "import numpy as np\n",
    "from qiskit.aqua.operators import I, X, Y, Z, H, CX, Zero, ListOp, PauliExpectation, PauliTrotterEvolution\n",
    "from qiskit.circuit import Parameter"
   ]
  },
  {
   "cell_type": "markdown",
   "metadata": {},
   "source": [
    "## Construct an H2 Hamiltonian"
   ]
  },
  {
   "cell_type": "code",
   "execution_count": 2,
   "metadata": {
    "ExecuteTime": {
     "end_time": "2020-05-05T16:15:07.667638Z",
     "start_time": "2020-05-05T16:15:07.663386Z"
    }
   },
   "outputs": [],
   "source": [
    "two_qubit_H2 =  (-1.0523732 * I^I) + \\\n",
    "                (0.39793742 * I^Z) + \\\n",
    "                (-0.3979374 * Z^I) + \\\n",
    "                (-0.0112801 * Z^Z) + \\\n",
    "                (0.18093119 * X^X)"
   ]
  },
  {
   "cell_type": "markdown",
   "metadata": {},
   "source": [
    "## Evolve a Bell state by Our Hamiltonian\n",
    "\n",
    "OpFlow fully supports parameterization, so we can use a parameter for our evolution time here. Notice that there's no \"evolution time\" argument in any function. OpFlow exponentiates whatever operator we tell it to, and if we choose to multiply the operator by an evolution time, $e^{iHt}$, that will be refected in our exponentiation parameters. This is not some trick to make it look like Physics - it actually works this way under the hood."
   ]
  },
  {
   "cell_type": "code",
   "execution_count": 3,
   "metadata": {
    "ExecuteTime": {
     "end_time": "2020-05-05T16:15:10.084208Z",
     "start_time": "2020-05-05T16:15:09.773862Z"
    },
    "scrolled": true
   },
   "outputs": [
    {
     "data": {
      "text/html": [
       "<pre style=\"word-wrap: normal;white-space: pre;background: #fff0;line-height: 1.1;font-family: &quot;Courier New&quot;,Courier,monospace\">               ┌───┐┌───┐┌──────────────────┐┌───┐┌───┐     ┌───┐┌──────────────────┐┌───┐┌──────────────────┐\n",
       "q_0: ───────■──┤ H ├┤ X ├┤ RZ(0.18093119*θ) ├┤ X ├┤ H ├─────┤ X ├┤ RZ(-0.0112801*θ) ├┤ X ├┤ RZ(0.39793742*θ) ├\n",
       "     ┌───┐┌─┴─┐├───┤└─┬─┘└──────────────────┘└─┬─┘├───┤┌───┐└─┬─┘└──────────────────┘└─┬─┘├──────────────────┤\n",
       "q_1: ┤ H ├┤ X ├┤ H ├──■────────────────────────■──┤ H ├┤ I ├──■────────────────────────■──┤ RZ(-0.3979374*θ) ├\n",
       "     └───┘└───┘└───┘                              └───┘└───┘                              └──────────────────┘</pre>"
      ],
      "text/plain": [
       "               ┌───┐┌───┐┌──────────────────┐┌───┐┌───┐     ┌───┐┌──────────────────┐┌───┐┌──────────────────┐\n",
       "q_0: ───────■──┤ H ├┤ X ├┤ RZ(0.18093119*θ) ├┤ X ├┤ H ├─────┤ X ├┤ RZ(-0.0112801*θ) ├┤ X ├┤ RZ(0.39793742*θ) ├\n",
       "     ┌───┐┌─┴─┐├───┤└─┬─┘└──────────────────┘└─┬─┘├───┤┌───┐└─┬─┘└──────────────────┘└─┬─┘├──────────────────┤\n",
       "q_1: ┤ H ├┤ X ├┤ H ├──■────────────────────────■──┤ H ├┤ I ├──■────────────────────────■──┤ RZ(-0.3979374*θ) ├\n",
       "     └───┘└───┘└───┘                              └───┘└───┘                              └──────────────────┘"
      ]
     },
     "execution_count": 3,
     "metadata": {},
     "output_type": "execute_result"
    }
   ],
   "source": [
    "# Meaningless state\n",
    "bell = CX @ (H^I) @ Zero\n",
    "# We can also do CX @ (Plus ^ Zero)\n",
    "evo_time = Parameter('θ')\n",
    "wf = (evo_time*two_qubit_H2).exp_i() @ bell\n",
    "trot = PauliTrotterEvolution(trotter_mode='trotter').convert(wf)\n",
    "trot.to_circuit().draw(fold=1000)"
   ]
  },
  {
   "cell_type": "markdown",
   "metadata": {},
   "source": [
    "We can bind our parameter to the operator if we so choose, and it will recursively bind into the circuit."
   ]
  },
  {
   "cell_type": "code",
   "execution_count": 4,
   "metadata": {
    "ExecuteTime": {
     "end_time": "2020-05-05T16:15:12.028668Z",
     "start_time": "2020-05-05T16:15:12.017608Z"
    }
   },
   "outputs": [
    {
     "data": {
      "text/html": [
       "<pre style=\"word-wrap: normal;white-space: pre;background: #fff0;line-height: 1.1;font-family: &quot;Courier New&quot;,Courier,monospace\">               ┌───┐┌───┐┌──────────────┐┌───┐┌───┐     ┌───┐┌──────────────┐┌───┐┌─────────────┐ \n",
       "q_0: ───────■──┤ H ├┤ X ├┤ RZ(0.090466) ├┤ X ├┤ H ├─────┤ X ├┤ RZ(-0.00564) ├┤ X ├┤ RZ(0.19897) ├─\n",
       "     ┌───┐┌─┴─┐├───┤└─┬─┘└──────────────┘└─┬─┘├───┤┌───┐└─┬─┘└──────────────┘└─┬─┘├─────────────┴┐\n",
       "q_1: ┤ H ├┤ X ├┤ H ├──■────────────────────■──┤ H ├┤ I ├──■────────────────────■──┤ RZ(-0.19897) ├\n",
       "     └───┘└───┘└───┘                          └───┘└───┘                          └──────────────┘</pre>"
      ],
      "text/plain": [
       "               ┌───┐┌───┐┌──────────────┐┌───┐┌───┐     ┌───┐┌──────────────┐┌───┐┌─────────────┐ \n",
       "q_0: ───────■──┤ H ├┤ X ├┤ RZ(0.090466) ├┤ X ├┤ H ├─────┤ X ├┤ RZ(-0.00564) ├┤ X ├┤ RZ(0.19897) ├─\n",
       "     ┌───┐┌─┴─┐├───┤└─┬─┘└──────────────┘└─┬─┘├───┤┌───┐└─┬─┘└──────────────┘└─┬─┘├─────────────┴┐\n",
       "q_1: ┤ H ├┤ X ├┤ H ├──■────────────────────■──┤ H ├┤ I ├──■────────────────────■──┤ RZ(-0.19897) ├\n",
       "     └───┘└───┘└───┘                          └───┘└───┘                          └──────────────┘"
      ]
     },
     "execution_count": 4,
     "metadata": {},
     "output_type": "execute_result"
    }
   ],
   "source": [
    "bound = trot.bind_parameters({evo_time: .5})\n",
    "bound.to_circuit().draw(fold=1000)"
   ]
  },
  {
   "cell_type": "markdown",
   "metadata": {},
   "source": [
    "## Now that we have a state, let's measure the energy of the state"
   ]
  },
  {
   "cell_type": "code",
   "execution_count": 5,
   "metadata": {
    "ExecuteTime": {
     "end_time": "2020-04-19T23:46:45.203153Z",
     "start_time": "2020-04-19T23:46:45.054500Z"
    }
   },
   "outputs": [
    {
     "data": {
      "text/plain": [
       "(-0.6537181160546873+0j)"
      ]
     },
     "execution_count": 5,
     "metadata": {},
     "output_type": "execute_result"
    }
   ],
   "source": [
    "from qiskit import BasicAer\n",
    "backend = BasicAer.get_backend('qasm_simulator')\n",
    "\n",
    "PauliExpectation(operator=two_qubit_H2, backend=backend).compute_expectation(bound)"
   ]
  },
  {
   "cell_type": "markdown",
   "metadata": {},
   "source": [
    "### Why We Call it OpFlow\n",
    "\n",
    "The power of OpFlow is that everything is an Operator, so we can ask PauliExpectation for the intermediate operator it generated before it used a Circuit sampler to replace the circuits with dicts:"
   ]
  },
  {
   "cell_type": "code",
   "execution_count": 6,
   "metadata": {
    "ExecuteTime": {
     "end_time": "2020-04-19T23:46:45.227095Z",
     "start_time": "2020-04-19T23:46:45.206882Z"
    },
    "scrolled": true
   },
   "outputs": [
    {
     "name": "stdout",
     "output_type": "stream",
     "text": [
      "SummedOp(\n",
      "[ComposedOp(\n",
      "[Measurement(SummedOp(\n",
      "[0.18093119 * ZZ,\n",
      "-1.0523732 * II])),\n",
      "StateFunction(\n",
      "               ┌───┐┌───┐┌────────────────────────┐┌───┐┌───┐┌───┐»\n",
      "q_0: ───────■──┤ H ├┤ X ├┤ Rz(0.0904655950000000) ├┤ X ├┤ H ├┤ X ├»\n",
      "     ┌───┐┌─┴─┐├───┤└─┬─┘└────────────────────────┘└─┬─┘├───┤└─┬─┘»\n",
      "q_1: ┤ H ├┤ X ├┤ H ├──■──────────────────────────────■──┤ H ├──■──»\n",
      "     └───┘└───┘└───┘                                    └───┘     »\n",
      "«     ┌──────────────────────────┐┌───┐┌───────────────────────┐ ┌───┐\n",
      "«q_0: ┤ Rz(-0.00564005000000000) ├┤ X ├┤ Rz(0.198968710000000) ├─┤ H ├\n",
      "«     └──────────────────────────┘└─┬─┘├───────────────────────┴┐├───┤\n",
      "«q_1: ──────────────────────────────■──┤ Rz(-0.198968700000000) ├┤ H ├\n",
      "«                                      └────────────────────────┘└───┘\n",
      ")]),\n",
      "ComposedOp(\n",
      "[Measurement(SummedOp(\n",
      "[0.39793742 * IZ,\n",
      "-0.3979374 * ZI,\n",
      "-0.0112801 * ZZ])),\n",
      "StateFunction(\n",
      "               ┌───┐┌───┐┌────────────────────────┐┌───┐┌───┐┌───┐»\n",
      "q_0: ───────■──┤ H ├┤ X ├┤ Rz(0.0904655950000000) ├┤ X ├┤ H ├┤ X ├»\n",
      "     ┌───┐┌─┴─┐├───┤└─┬─┘└────────────────────────┘└─┬─┘├───┤└─┬─┘»\n",
      "q_1: ┤ H ├┤ X ├┤ H ├──■──────────────────────────────■──┤ H ├──■──»\n",
      "     └───┘└───┘└───┘                                    └───┘     »\n",
      "«     ┌──────────────────────────┐┌───┐┌───────────────────────┐ \n",
      "«q_0: ┤ Rz(-0.00564005000000000) ├┤ X ├┤ Rz(0.198968710000000) ├─\n",
      "«     └──────────────────────────┘└─┬─┘├───────────────────────┴┐\n",
      "«q_1: ──────────────────────────────■──┤ Rz(-0.198968700000000) ├\n",
      "«                                      └────────────────────────┘\n",
      ")])])\n"
     ]
    }
   ],
   "source": [
    "expect_op = PauliExpectation(operator=two_qubit_H2, backend=backend).expectation_op(bound)\n",
    "print(expect_op)"
   ]
  },
  {
   "cell_type": "markdown",
   "metadata": {},
   "source": [
    "### We can just as easily take the Expectation over a _vector_ of Pauli Operators."
   ]
  },
  {
   "cell_type": "code",
   "execution_count": 7,
   "metadata": {
    "ExecuteTime": {
     "end_time": "2020-04-19T23:46:45.415446Z",
     "start_time": "2020-04-19T23:46:45.229314Z"
    }
   },
   "outputs": [
    {
     "data": {
      "text/plain": [
       "[(0.04492187500000017+0j),\n",
       " (-0.0078124999999999445+0j),\n",
       " (0.021484375+0j),\n",
       " (-0.6508426385937498+0j)]"
      ]
     },
     "execution_count": 7,
     "metadata": {},
     "output_type": "execute_result"
    }
   ],
   "source": [
    "ham_list = ListOp([X^X, Y^Y, Z^Z, two_qubit_H2])\n",
    "expect = PauliExpectation(operator=ham_list, backend=backend).compute_expectation(bound)\n",
    "expect"
   ]
  },
  {
   "cell_type": "markdown",
   "metadata": {},
   "source": [
    "### We Can Even Take the Expectation of a vector of Observables over a vector of StateFns"
   ]
  },
  {
   "cell_type": "code",
   "execution_count": 8,
   "metadata": {
    "ExecuteTime": {
     "end_time": "2020-04-19T23:46:45.648327Z",
     "start_time": "2020-04-19T23:46:45.426287Z"
    }
   },
   "outputs": [
    {
     "data": {
      "text/plain": [
       "array([[ 0.047, -0.027, -0.008, -0.673],\n",
       "       [ 0.086,  0.033, -0.02 , -0.643],\n",
       "       [ 0.096,  0.109, -0.014, -0.636]])"
      ]
     },
     "execution_count": 8,
     "metadata": {},
     "output_type": "execute_result"
    }
   ],
   "source": [
    "# Here we're using PauliExpectation's param argument instead of passing the bound ListOp below in case we can \n",
    "# take advantage of late binding / parameterized Qobj\n",
    "params = {evo_time: [.5, 1.0, 1.5]}\n",
    "expects = PauliExpectation(operator=ham_list, backend=backend).compute_expectation(trot, params=params)\n",
    "np.real(np.around(expects, decimals=3))"
   ]
  },
  {
   "cell_type": "markdown",
   "metadata": {},
   "source": [
    "### Parameter binding also supports binding lists"
   ]
  },
  {
   "cell_type": "code",
   "execution_count": 9,
   "metadata": {
    "ExecuteTime": {
     "end_time": "2020-04-19T23:46:45.665613Z",
     "start_time": "2020-04-19T23:46:45.650515Z"
    },
    "scrolled": true
   },
   "outputs": [
    {
     "name": "stdout",
     "output_type": "stream",
     "text": [
      "ListOp(\n",
      "[StateFunction(\n",
      "               ┌───┐┌───┐┌────────────────────────┐┌───┐┌───┐┌───┐»\n",
      "q_0: ───────■──┤ H ├┤ X ├┤ Rz(0.0904655950000000) ├┤ X ├┤ H ├┤ X ├»\n",
      "     ┌───┐┌─┴─┐├───┤└─┬─┘└────────────────────────┘└─┬─┘├───┤└─┬─┘»\n",
      "q_1: ┤ H ├┤ X ├┤ H ├──■──────────────────────────────■──┤ H ├──■──»\n",
      "     └───┘└───┘└───┘                                    └───┘     »\n",
      "«     ┌──────────────────────────┐┌───┐┌───────────────────────┐ \n",
      "«q_0: ┤ Rz(-0.00564005000000000) ├┤ X ├┤ Rz(0.198968710000000) ├─\n",
      "«     └──────────────────────────┘└─┬─┘├───────────────────────┴┐\n",
      "«q_1: ──────────────────────────────■──┤ Rz(-0.198968700000000) ├\n",
      "«                                      └────────────────────────┘\n",
      "),\n",
      "StateFunction(\n",
      "               ┌───┐┌───┐┌───────────────────────┐┌───┐┌───┐┌───┐»\n",
      "q_0: ───────■──┤ H ├┤ X ├┤ Rz(0.180931190000000) ├┤ X ├┤ H ├┤ X ├»\n",
      "     ┌───┐┌─┴─┐├───┤└─┬─┘└───────────────────────┘└─┬─┘├───┤└─┬─┘»\n",
      "q_1: ┤ H ├┤ X ├┤ H ├──■─────────────────────────────■──┤ H ├──■──»\n",
      "     └───┘└───┘└───┘                                   └───┘     »\n",
      "«     ┌─────────────────────────┐┌───┐┌───────────────────────┐ \n",
      "«q_0: ┤ Rz(-0.0112801000000000) ├┤ X ├┤ Rz(0.397937420000000) ├─\n",
      "«     └─────────────────────────┘└─┬─┘├───────────────────────┴┐\n",
      "«q_1: ─────────────────────────────■──┤ Rz(-0.397937400000000) ├\n",
      "«                                     └────────────────────────┘\n",
      "),\n",
      "StateFunction(\n",
      "               ┌───┐┌───┐┌───────────────────────┐┌───┐┌───┐┌───┐»\n",
      "q_0: ───────■──┤ H ├┤ X ├┤ Rz(0.271396785000000) ├┤ X ├┤ H ├┤ X ├»\n",
      "     ┌───┐┌─┴─┐├───┤└─┬─┘└───────────────────────┘└─┬─┘├───┤└─┬─┘»\n",
      "q_1: ┤ H ├┤ X ├┤ H ├──■─────────────────────────────■──┤ H ├──■──»\n",
      "     └───┘└───┘└───┘                                   └───┘     »\n",
      "«     ┌─────────────────────────┐┌───┐┌───────────────────────┐ \n",
      "«q_0: ┤ Rz(-0.0169201500000000) ├┤ X ├┤ Rz(0.596906130000000) ├─\n",
      "«     └─────────────────────────┘└─┬─┘├───────────────────────┴┐\n",
      "«q_1: ─────────────────────────────■──┤ Rz(-0.596906100000000) ├\n",
      "«                                     └────────────────────────┘\n",
      ")])\n"
     ]
    }
   ],
   "source": [
    "print(trot.bind_parameters(params))"
   ]
  }
 ],
 "metadata": {
  "celltoolbar": "Slideshow",
  "kernelspec": {
   "display_name": "code",
   "language": "python",
   "name": "code"
  },
  "language_info": {
   "codemirror_mode": {
    "name": "ipython",
    "version": 3
   },
   "file_extension": ".py",
   "mimetype": "text/x-python",
   "name": "python",
   "nbconvert_exporter": "python",
   "pygments_lexer": "ipython3",
   "version": "3.7.4"
  },
  "toc": {
   "base_numbering": 1,
   "nav_menu": {},
   "number_sections": false,
   "sideBar": true,
   "skip_h1_title": true,
   "title_cell": "Table of Contents",
   "title_sidebar": "Contents",
   "toc_cell": false,
   "toc_position": {},
   "toc_section_display": true,
   "toc_window_display": false
  }
 },
 "nbformat": 4,
 "nbformat_minor": 2
}
